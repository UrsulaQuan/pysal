{
 "cells": [
  {
   "cell_type": "code",
   "execution_count": 18,
   "metadata": {
    "collapsed": false
   },
   "outputs": [],
   "source": [
    "import json\n",
    "import pysal as ps\n",
    "import urllib"
   ]
  },
  {
   "cell_type": "code",
   "execution_count": 2,
   "metadata": {
    "collapsed": false
   },
   "outputs": [],
   "source": [
    "u = urllib.urlopen(\"http://toae.org/pub/columbus.json\")"
   ]
  },
  {
   "cell_type": "code",
   "execution_count": 3,
   "metadata": {
    "collapsed": false
   },
   "outputs": [
    {
     "data": {
      "text/plain": [
       "<addinfourl at 140486997678776 whose fp = <socket._fileobject object at 0x7fc5cc8284d0>>"
      ]
     },
     "execution_count": 3,
     "metadata": {},
     "output_type": "execute_result"
    }
   ],
   "source": [
    "u"
   ]
  },
  {
   "cell_type": "code",
   "execution_count": 4,
   "metadata": {
    "collapsed": false
   },
   "outputs": [
    {
     "data": {
      "text/plain": [
       "'http://toae.org/pub/columbus.json'"
      ]
     },
     "execution_count": 4,
     "metadata": {},
     "output_type": "execute_result"
    }
   ],
   "source": [
    "u.url"
   ]
  },
  {
   "cell_type": "code",
   "execution_count": 5,
   "metadata": {
    "collapsed": false
   },
   "outputs": [],
   "source": [
    "g = json.load(u)"
   ]
  },
  {
   "cell_type": "code",
   "execution_count": 6,
   "metadata": {
    "collapsed": false
   },
   "outputs": [
    {
     "data": {
      "text/plain": [
       "[u'type', u'features']"
      ]
     },
     "execution_count": 6,
     "metadata": {},
     "output_type": "execute_result"
    }
   ],
   "source": [
    "g.keys()"
   ]
  },
  {
   "cell_type": "code",
   "execution_count": 7,
   "metadata": {
    "collapsed": false
   },
   "outputs": [],
   "source": [
    "t = g['type']"
   ]
  },
  {
   "cell_type": "code",
   "execution_count": 8,
   "metadata": {
    "collapsed": false
   },
   "outputs": [
    {
     "data": {
      "text/plain": [
       "u'FeatureCollection'"
      ]
     },
     "execution_count": 8,
     "metadata": {},
     "output_type": "execute_result"
    }
   ],
   "source": [
    "t"
   ]
  },
  {
   "cell_type": "code",
   "execution_count": 9,
   "metadata": {
    "collapsed": false
   },
   "outputs": [],
   "source": [
    "f = g['features']"
   ]
  },
  {
   "cell_type": "code",
   "execution_count": 10,
   "metadata": {
    "collapsed": false
   },
   "outputs": [
    {
     "data": {
      "text/plain": [
       "49"
      ]
     },
     "execution_count": 10,
     "metadata": {},
     "output_type": "execute_result"
    }
   ],
   "source": [
    "len(f)"
   ]
  },
  {
   "cell_type": "code",
   "execution_count": 16,
   "metadata": {
    "collapsed": false
   },
   "outputs": [],
   "source": [
    "def contiguity_from_geojson(uri, wtype='rook'):\n",
    "    WTYPE = wtype.upper()\n",
    "    if WTYPE not in ['QUEEN', 'ROOK']:\n",
    "        print \"wtype must be 'QUEEN' or 'ROOK'\"\n",
    "    WTYPE =[\"QUEEN\", 'ROOK'].index(WTYPE)+1\n",
    "    collection = json.load(urllib.urlopen(uri))\n",
    "    n = len(collection)\n",
    "    collection_type = collection['features'][0]['geometry']['type']\n",
    "    if collection_type in ['Polygon', 'MultiPolygon']:\n",
    "        polys = []\n",
    "        ids = []\n",
    "        i = 0\n",
    "        for feature in collection['features']:\n",
    "            #print feature\n",
    "            polys.append(ps.cg.asShape(feature['geometry']))\n",
    "            ids.append(i)\n",
    "            i +=1\n",
    "        pcollection = ps.cg.shapes.PolygonCollection(dict(zip(ids,polys)))\n",
    "        neighbors = ps.weights.Contiguity.ContiguityWeightsPolygons(pcollection, wttype=WTYPE).w\n",
    "        return ps.W(neighbors)\n",
    "    else:\n",
    "        print \"GeoJSON feature type must be 'Polygon' or 'MultiPolygon'\"\n",
    "       \n",
    "def queen_from_geojson(uri):\n",
    "    return contiguity_from_geojson(uri, wtype='QUEEN')\n",
    "\n",
    "def rook_from_geojson(uri):\n",
    "    return contiguity_from_geojson(uri, wtype=\"ROOK\")\n",
    "    "
   ]
  },
  {
   "cell_type": "code",
   "execution_count": 17,
   "metadata": {
    "collapsed": false
   },
   "outputs": [
    {
     "ename": "AttributeError",
     "evalue": "'module' object has no attribute 'weights'",
     "output_type": "error",
     "traceback": [
      "\u001b[1;31m---------------------------------------------------------------------------\u001b[0m",
      "\u001b[1;31mAttributeError\u001b[0m                            Traceback (most recent call last)",
      "\u001b[1;32m<ipython-input-17-26d526fcbf6e>\u001b[0m in \u001b[0;36m<module>\u001b[1;34m()\u001b[0m\n\u001b[1;32m----> 1\u001b[1;33m \u001b[0mwr\u001b[0m \u001b[1;33m=\u001b[0m \u001b[0mrook_from_geojson\u001b[0m\u001b[1;33m(\u001b[0m\u001b[1;34m\"http://toae.org/pub/columbus.json\"\u001b[0m\u001b[1;33m)\u001b[0m\u001b[1;33m\u001b[0m\u001b[0m\n\u001b[0m\u001b[0;32m      2\u001b[0m \u001b[0mwq\u001b[0m \u001b[1;33m=\u001b[0m \u001b[0mqueen_from_geojson\u001b[0m\u001b[1;33m(\u001b[0m\u001b[1;34m\"http://toae.org/pub/columbus.json\"\u001b[0m\u001b[1;33m)\u001b[0m\u001b[1;33m\u001b[0m\u001b[0m\n",
      "\u001b[1;32m<ipython-input-16-bd4c4298c94d>\u001b[0m in \u001b[0;36mrook_from_geojson\u001b[1;34m(uri)\u001b[0m\n\u001b[0;32m     26\u001b[0m \u001b[1;33m\u001b[0m\u001b[0m\n\u001b[0;32m     27\u001b[0m \u001b[1;32mdef\u001b[0m \u001b[0mrook_from_geojson\u001b[0m\u001b[1;33m(\u001b[0m\u001b[0muri\u001b[0m\u001b[1;33m)\u001b[0m\u001b[1;33m:\u001b[0m\u001b[1;33m\u001b[0m\u001b[0m\n\u001b[1;32m---> 28\u001b[1;33m     \u001b[1;32mreturn\u001b[0m \u001b[0mcontiguity_from_geojson\u001b[0m\u001b[1;33m(\u001b[0m\u001b[0muri\u001b[0m\u001b[1;33m,\u001b[0m \u001b[0mwtype\u001b[0m\u001b[1;33m=\u001b[0m\u001b[1;34m\"ROOK\"\u001b[0m\u001b[1;33m)\u001b[0m\u001b[1;33m\u001b[0m\u001b[0m\n\u001b[0m\u001b[0;32m     29\u001b[0m \u001b[1;33m\u001b[0m\u001b[0m\n",
      "\u001b[1;32m<ipython-input-16-bd4c4298c94d>\u001b[0m in \u001b[0;36mcontiguity_from_geojson\u001b[1;34m(uri, wtype)\u001b[0m\n\u001b[0;32m     17\u001b[0m             \u001b[0mi\u001b[0m \u001b[1;33m+=\u001b[0m\u001b[1;36m1\u001b[0m\u001b[1;33m\u001b[0m\u001b[0m\n\u001b[0;32m     18\u001b[0m         \u001b[0mpcollection\u001b[0m \u001b[1;33m=\u001b[0m \u001b[0mps\u001b[0m\u001b[1;33m.\u001b[0m\u001b[0mcg\u001b[0m\u001b[1;33m.\u001b[0m\u001b[0mshapes\u001b[0m\u001b[1;33m.\u001b[0m\u001b[0mPolygonCollection\u001b[0m\u001b[1;33m(\u001b[0m\u001b[0mdict\u001b[0m\u001b[1;33m(\u001b[0m\u001b[0mzip\u001b[0m\u001b[1;33m(\u001b[0m\u001b[0mids\u001b[0m\u001b[1;33m,\u001b[0m\u001b[0mpolys\u001b[0m\u001b[1;33m)\u001b[0m\u001b[1;33m)\u001b[0m\u001b[1;33m)\u001b[0m\u001b[1;33m\u001b[0m\u001b[0m\n\u001b[1;32m---> 19\u001b[1;33m         \u001b[0mneighbors\u001b[0m \u001b[1;33m=\u001b[0m \u001b[0mps\u001b[0m\u001b[1;33m.\u001b[0m\u001b[0mweights\u001b[0m\u001b[1;33m.\u001b[0m\u001b[0mContiguity\u001b[0m\u001b[1;33m.\u001b[0m\u001b[0mContiguityWeightsPolygons\u001b[0m\u001b[1;33m(\u001b[0m\u001b[0mpcollection\u001b[0m\u001b[1;33m,\u001b[0m \u001b[0mwttype\u001b[0m\u001b[1;33m=\u001b[0m\u001b[0mWTYPE\u001b[0m\u001b[1;33m)\u001b[0m\u001b[1;33m.\u001b[0m\u001b[0mw\u001b[0m\u001b[1;33m\u001b[0m\u001b[0m\n\u001b[0m\u001b[0;32m     20\u001b[0m         \u001b[1;32mreturn\u001b[0m \u001b[0mps\u001b[0m\u001b[1;33m.\u001b[0m\u001b[0mW\u001b[0m\u001b[1;33m(\u001b[0m\u001b[0mneighbors\u001b[0m\u001b[1;33m)\u001b[0m\u001b[1;33m\u001b[0m\u001b[0m\n\u001b[0;32m     21\u001b[0m     \u001b[1;32melse\u001b[0m\u001b[1;33m:\u001b[0m\u001b[1;33m\u001b[0m\u001b[0m\n",
      "\u001b[1;31mAttributeError\u001b[0m: 'module' object has no attribute 'weights'"
     ]
    }
   ],
   "source": [
    "wr = rook_from_geojson(\"http://toae.org/pub/columbus.json\")\n",
    "wq = queen_from_geojson(\"http://toae.org/pub/columbus.json\")"
   ]
  },
  {
   "cell_type": "code",
   "execution_count": null,
   "metadata": {
    "collapsed": false
   },
   "outputs": [],
   "source": [
    "wq.n"
   ]
  },
  {
   "cell_type": "code",
   "execution_count": null,
   "metadata": {
    "collapsed": false
   },
   "outputs": [],
   "source": [
    "wqps = ps.queen_from_shapefile(ps.examples.get_path(\"columbus.shp\"))"
   ]
  },
  {
   "cell_type": "code",
   "execution_count": null,
   "metadata": {
    "collapsed": false
   },
   "outputs": [],
   "source": [
    "wqps.n"
   ]
  },
  {
   "cell_type": "code",
   "execution_count": null,
   "metadata": {
    "collapsed": false
   },
   "outputs": [],
   "source": [
    "wq.n"
   ]
  },
  {
   "cell_type": "code",
   "execution_count": null,
   "metadata": {
    "collapsed": false
   },
   "outputs": [],
   "source": [
    "wq[0]"
   ]
  },
  {
   "cell_type": "code",
   "execution_count": null,
   "metadata": {
    "collapsed": false
   },
   "outputs": [],
   "source": [
    "wqps[0]"
   ]
  },
  {
   "cell_type": "code",
   "execution_count": null,
   "metadata": {
    "collapsed": false
   },
   "outputs": [],
   "source": [
    "wrps = ps.rook_from_shapefile(ps.examples.get_path('columbus.shp'))"
   ]
  },
  {
   "cell_type": "code",
   "execution_count": null,
   "metadata": {
    "collapsed": false
   },
   "outputs": [],
   "source": [
    "wrps[0]"
   ]
  },
  {
   "cell_type": "code",
   "execution_count": null,
   "metadata": {
    "collapsed": false
   },
   "outputs": [],
   "source": [
    "wr[0]"
   ]
  },
  {
   "cell_type": "code",
   "execution_count": null,
   "metadata": {
    "collapsed": false
   },
   "outputs": [],
   "source": [
    "wr"
   ]
  },
  {
   "cell_type": "code",
   "execution_count": null,
   "metadata": {
    "collapsed": false
   },
   "outputs": [],
   "source": [
    "wr.neighbors"
   ]
  },
  {
   "cell_type": "code",
   "execution_count": null,
   "metadata": {
    "collapsed": false
   },
   "outputs": [],
   "source": [
    "wqps.neighbors.keys() == wq.neighbors.keys()"
   ]
  },
  {
   "cell_type": "code",
   "execution_count": null,
   "metadata": {
    "collapsed": false
   },
   "outputs": [],
   "source": [
    "for key in wqps.neighbors.keys():\n",
    "    if wqps[key] != wq[key]:\n",
    "        print key, wqps[key], wq[key]"
   ]
  },
  {
   "cell_type": "code",
   "execution_count": null,
   "metadata": {
    "collapsed": false
   },
   "outputs": [],
   "source": [
    "wrps.neighbors.keys() == wr.neighbors.keys()"
   ]
  },
  {
   "cell_type": "code",
   "execution_count": null,
   "metadata": {
    "collapsed": false
   },
   "outputs": [],
   "source": [
    "for key in wrps.neighbors.keys():\n",
    "    if wrps[key] != wr[key]:\n",
    "        print key, wrps[key], wr[key]"
   ]
  },
  {
   "cell_type": "markdown",
   "metadata": {},
   "source": [
    "# string versus file stream"
   ]
  },
  {
   "cell_type": "code",
   "execution_count": null,
   "metadata": {
    "collapsed": false
   },
   "outputs": [],
   "source": [
    "strng = json.dumps(json.load(urllib.urlopen(\"http://toae.org/pub/columbus.json\")),separators=(',',':') )"
   ]
  },
  {
   "cell_type": "code",
   "execution_count": null,
   "metadata": {
    "collapsed": false
   },
   "outputs": [],
   "source": [
    "fc = json.loads(strng)"
   ]
  },
  {
   "cell_type": "code",
   "execution_count": null,
   "metadata": {
    "collapsed": false
   },
   "outputs": [],
   "source": [
    "fc"
   ]
  },
  {
   "cell_type": "code",
   "execution_count": null,
   "metadata": {
    "collapsed": false
   },
   "outputs": [],
   "source": [
    "def _geojson_load(gj_input):\n",
    "    if type(gj_input) == str:\n",
    "        return json.loads(gj_input)\n",
    "    else:\n",
    "        return json.load(gj_input)\n",
    "    \n",
    "fs = urllib.urlopen(\"http://toae.org/pub/columbus.json\")\n",
    "\n",
    "g1 = _geojson_load(fs)\n",
    "\n",
    "\n",
    "ss = json.dumps(json.load(urllib.urlopen(\"http://toae.org/pub/columbus.json\")),separators=(',',':') )\n",
    "\n",
    "g2 = _geojson_load(ss)\n",
    "\n",
    "g1 == g2"
   ]
  },
  {
   "cell_type": "code",
   "execution_count": null,
   "metadata": {
    "collapsed": false
   },
   "outputs": [],
   "source": [
    "def contiguity_from_geojson(gj_input, wtype='rook'):\n",
    "    WTYPE = wtype.upper()\n",
    "    if WTYPE not in ['QUEEN', 'ROOK']:\n",
    "        print \"wtype must be 'QUEEN' or 'ROOK'\"\n",
    "    WTYPE =[\"QUEEN\", 'ROOK'].index(WTYPE)+1\n",
    "    collection = _geojson_load(gj_input)\n",
    "    #collection = json.load(urllib.urlopen(uri))\n",
    "    n = len(collection)\n",
    "    collection_type = collection['features'][0]['geometry']['type']\n",
    "    if collection_type in ['Polygon', 'MultiPolygon']:\n",
    "        polys = []\n",
    "        ids = []\n",
    "        i = 0\n",
    "        for feature in collection['features']:\n",
    "            #print feature\n",
    "            polys.append(ps.cg.asShape(feature['geometry']))\n",
    "            ids.append(i)\n",
    "            i +=1\n",
    "        pcollection = ps.cg.shapes.PolygonCollection(dict(zip(ids,polys)))\n",
    "        neighbors = ps.weights.Contiguity.ContiguityWeightsPolygons(pcollection, wttype=WTYPE).w\n",
    "        return ps.W(neighbors)\n",
    "    else:\n",
    "        print \"GeoJSON feature type must be 'Polygon' or 'MultiPolygon'\"\n",
    "       \n",
    "def queen_from_geojson(uri):\n",
    "    return contiguity_from_geojson(uri, wtype='QUEEN')\n",
    "\n",
    "def rook_from_geojson(uri):\n",
    "    return contiguity_from_geojson(uri, wtype=\"ROOK\")\n",
    "    "
   ]
  },
  {
   "cell_type": "code",
   "execution_count": null,
   "metadata": {
    "collapsed": false
   },
   "outputs": [],
   "source": [
    "fs = urllib.urlopen(\"http://toae.org/pub/columbus.json\")\n"
   ]
  },
  {
   "cell_type": "code",
   "execution_count": null,
   "metadata": {
    "collapsed": false
   },
   "outputs": [],
   "source": []
  }
 ],
 "metadata": {
  "kernelspec": {
   "display_name": "Python 2",
   "language": "python",
   "name": "python2"
  },
  "language_info": {
   "codemirror_mode": {
    "name": "ipython",
    "version": 2
   },
   "file_extension": ".py",
   "mimetype": "text/x-python",
   "name": "python",
   "nbconvert_exporter": "python",
   "pygments_lexer": "ipython2",
   "version": "2.7.10"
  }
 },
 "nbformat": 4,
 "nbformat_minor": 0
}
