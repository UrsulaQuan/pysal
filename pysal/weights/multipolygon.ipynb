{
 "cells": [
  {
   "cell_type": "markdown",
   "metadata": {},
   "source": [
    "## Prototyping the construction of PySAL weights from geojson. Supports local files, uri, and serialized streams "
   ]
  },
  {
   "cell_type": "raw",
   "metadata": {},
   "source": [
    "Author: Sergio Rey <sjsrey@gmail.com>"
   ]
  },
  {
   "cell_type": "code",
   "execution_count": 1,
   "metadata": {
    "collapsed": false
   },
   "outputs": [],
   "source": [
    "import geojson\n",
    "import pysal as ps\n",
    "import urllib2 as urllib"
   ]
  },
  {
   "cell_type": "code",
   "execution_count": 2,
   "metadata": {
    "collapsed": false
   },
   "outputs": [],
   "source": [
    "class PolygonCollection:\n",
    "    def __init__(self, polygons, bbox=None):\n",
    "        \"\"\"\n",
    "\n",
    "        Parameters\n",
    "        ==========\n",
    "        polygons: dict\n",
    "                  key is polygon Id, value is PySAL Polygon object\n",
    "        bbox: list (optional)\n",
    "              [left, lower, right, upper]\n",
    "\n",
    "        Notes\n",
    "        =====\n",
    "        bbox is supported in geojson specification at both the feature and feature collection level. However, not all GeoJSON writers generate the bbox at the feature collection level. \n",
    "        In those cases, the bbox property will be set on initial access.\n",
    "\n",
    "        \"\"\"\n",
    "              \n",
    "        self.type=ps.cg.Polygon\n",
    "        self.n = len(polygons)\n",
    "        self.polygons = polygons\n",
    "        if bbox is None:\n",
    "            self._bbox = None\n",
    "        else:\n",
    "            self._bbox = bbox\n",
    "            \n",
    "    @property\n",
    "    def bbox(self):\n",
    "        bboxes = np.array([self.polygons[p].bbox for p in self.polygons])\n",
    "        mins = bboxes.min(axis=0)\n",
    "        maxs = bboxes.max(axis=0)\n",
    "        self._bbox = [ mins[0], mins[1], maxs[2], maxs[3] ]\n",
    "        return self._bbox\n",
    "        \n",
    "    \n",
    "    def __getitem__(self, index):\n",
    "        return self.polygons[index]\n",
    "            "
   ]
  },
  {
   "cell_type": "code",
   "execution_count": 3,
   "metadata": {
    "collapsed": false
   },
   "outputs": [],
   "source": [
    "def queen_geojson(gjobj):\n",
    "    \"\"\"\n",
    "    Constructs a PySAL queen contiguity W from a GeoJSON feature collection consisting of Polygons and/or Multipolygons\n",
    "\n",
    "    \"\"\"\n",
    "    first = gjobj['features'][0]['geometry']['type']\n",
    "    if first == 'Polygon' or first =='MultiPolygon':\n",
    "        polys = []\n",
    "        ids = []\n",
    "        i = 0\n",
    "        for feature in gjobj['features']:\n",
    "            if feature['geometry']['type'] == 'Polygon':\n",
    "                polys.append(ps.cg.asShape(geojson.Polygon(feature['geometry']['coordinates'])))\n",
    "            else:               \n",
    "                polys.append(ps.cg.asShape(geojson.MultiPolygon(feature['geometry']['coordinates'])))\n",
    "            ids.append(i)\n",
    "            i += 1\n",
    "        polygons = PolygonCollection(dict(zip(ids,polys)))\n",
    "        neighbors = ps.weights.Contiguity.ContiguityWeightsPolygons(polygons).w\n",
    "        return ps.W(neighbors)\n",
    "    else:\n",
    "        print \"GeoJSON feature type must be 'Polygon' or 'MultiPolygon'\"\n",
    "        return None"
   ]
  },
  {
   "cell_type": "code",
   "execution_count": 4,
   "metadata": {
    "collapsed": false
   },
   "outputs": [],
   "source": [
    "def queen_from_geojson(uri):\n",
    "    gjobj = geojson.load(urllib.urlopen(uri))\n",
    "    return queen_geojson(gjobj)"
   ]
  },
  {
   "cell_type": "code",
   "execution_count": 5,
   "metadata": {
    "collapsed": false
   },
   "outputs": [],
   "source": [
    "def queen_from_geojsons(s):\n",
    "    return queen_geojson(info)"
   ]
  },
  {
   "cell_type": "code",
   "execution_count": 6,
   "metadata": {
    "collapsed": false
   },
   "outputs": [],
   "source": [
    "def queen_from_geojsonf(fileName):\n",
    "    fp = open(fileName)\n",
    "    obj = geojson.load(fp)\n",
    "    fp.close()\n",
    "    return queen_geojson(obj)"
   ]
  },
  {
   "cell_type": "code",
   "execution_count": 7,
   "metadata": {
    "collapsed": false
   },
   "outputs": [],
   "source": [
    "# from a uri\n",
    "uri = \"http://toae.org/pub/columbus.json\""
   ]
  },
  {
   "cell_type": "code",
   "execution_count": 8,
   "metadata": {
    "collapsed": false
   },
   "outputs": [],
   "source": [
    "wq = queen_from_geojson(uri)"
   ]
  },
  {
   "cell_type": "code",
   "execution_count": 9,
   "metadata": {
    "collapsed": false
   },
   "outputs": [
    {
     "data": {
      "text/plain": [
       "49"
      ]
     },
     "execution_count": 9,
     "metadata": {},
     "output_type": "execute_result"
    }
   ],
   "source": [
    "wq.n"
   ]
  },
  {
   "cell_type": "code",
   "execution_count": 10,
   "metadata": {
    "collapsed": false
   },
   "outputs": [],
   "source": [
    "# counties\n",
    "# note that NAT.json needs to be created locally (too large for repos)\n",
    "# \"ogr2ogr -lco WRITE_BBOX=YES -f \"GeoJSON\" NAT.json NAT.shp\n",
    "wf = queen_from_geojsonf(ps.examples.get_path(\"NAT.json\"))"
   ]
  },
  {
   "cell_type": "code",
   "execution_count": 11,
   "metadata": {
    "collapsed": false
   },
   "outputs": [
    {
     "data": {
      "text/plain": [
       "3085"
      ]
     },
     "execution_count": 11,
     "metadata": {},
     "output_type": "execute_result"
    }
   ],
   "source": [
    "wf.n"
   ]
  },
  {
   "cell_type": "code",
   "execution_count": 12,
   "metadata": {
    "collapsed": false
   },
   "outputs": [],
   "source": [
    "wq = ps.queen_from_shapefile(ps.examples.get_path(\"NAT.shp\"))"
   ]
  },
  {
   "cell_type": "code",
   "execution_count": 13,
   "metadata": {
    "collapsed": false
   },
   "outputs": [
    {
     "data": {
      "text/plain": [
       "3085"
      ]
     },
     "execution_count": 13,
     "metadata": {},
     "output_type": "execute_result"
    }
   ],
   "source": [
    "wq.n"
   ]
  },
  {
   "cell_type": "code",
   "execution_count": 14,
   "metadata": {
    "collapsed": false
   },
   "outputs": [
    {
     "data": {
      "text/plain": [
       "0.0019089598070866245"
      ]
     },
     "execution_count": 14,
     "metadata": {},
     "output_type": "execute_result"
    }
   ],
   "source": [
    "wq.pct_nonzero"
   ]
  },
  {
   "cell_type": "code",
   "execution_count": 15,
   "metadata": {
    "collapsed": false
   },
   "outputs": [
    {
     "data": {
      "text/plain": [
       "0.0019089598070866245"
      ]
     },
     "execution_count": 15,
     "metadata": {},
     "output_type": "execute_result"
    }
   ],
   "source": [
    "wf.pct_nonzero"
   ]
  },
  {
   "cell_type": "code",
   "execution_count": 16,
   "metadata": {
    "collapsed": false
   },
   "outputs": [],
   "source": [
    "for i in wq.neighbors:\n",
    "    if set(wq.neighbors[i]) != set(wf.neighbors[i]):\n",
    "        print wq.neighbors[i]\n",
    "        print wf.neighbors[i]"
   ]
  },
  {
   "cell_type": "code",
   "execution_count": 17,
   "metadata": {
    "collapsed": false
   },
   "outputs": [],
   "source": [
    "uri = \"http://toae.org/pub/NAT.json\"\n",
    "wi = queen_from_geojson(uri)"
   ]
  },
  {
   "cell_type": "code",
   "execution_count": 18,
   "metadata": {
    "collapsed": false
   },
   "outputs": [
    {
     "data": {
      "text/plain": [
       "3085"
      ]
     },
     "execution_count": 18,
     "metadata": {},
     "output_type": "execute_result"
    }
   ],
   "source": [
    "wi.n"
   ]
  },
  {
   "cell_type": "code",
   "execution_count": null,
   "metadata": {
    "collapsed": false
   },
   "outputs": [],
   "source": []
  }
 ],
 "metadata": {
  "kernelspec": {
   "display_name": "Python 2",
   "language": "python",
   "name": "python2"
  },
  "language_info": {
   "codemirror_mode": {
    "name": "ipython",
    "version": 2
   },
   "file_extension": ".py",
   "mimetype": "text/x-python",
   "name": "python",
   "nbconvert_exporter": "python",
   "pygments_lexer": "ipython2",
   "version": "2.7.10"
  }
 },
 "nbformat": 4,
 "nbformat_minor": 0
}
