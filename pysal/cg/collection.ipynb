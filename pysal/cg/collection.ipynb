{
 "cells": [
  {
   "cell_type": "code",
   "execution_count": 1,
   "metadata": {
    "collapsed": false
   },
   "outputs": [],
   "source": [
    "%load_ext autoreload\n",
    "%autoreload 2\n",
    "import pysal as ps\n",
    "import numpy as np\n",
    "import json\n",
    "from collection import Point, MultiPoint, LineString, MultiLineString\n",
    "from collection import Polygon, MultiPolygon\n",
    "from collection import geometryDispatcher, FeatureCollection"
   ]
  },
  {
   "cell_type": "code",
   "execution_count": 2,
   "metadata": {
    "collapsed": false
   },
   "outputs": [
    {
     "data": {
      "text/plain": [
       "{'description': 'Virginia counties shapefile',\n",
       " 'explanation': ['  * virginia.shp: Shapefile',\n",
       "  '  * virginia.shx: shapefile index',\n",
       "  '  * virginia.dbf: attributes',\n",
       "  '  * virginia.prj: shapefile projection',\n",
       "  '  * virginia.json: geojson file'],\n",
       " 'name': 'virginia'}"
      ]
     },
     "execution_count": 2,
     "metadata": {},
     "output_type": "execute_result"
    }
   ],
   "source": [
    "ps.examples.explain('virginia')"
   ]
  },
  {
   "cell_type": "code",
   "execution_count": 3,
   "metadata": {
    "collapsed": false
   },
   "outputs": [],
   "source": [
    "fp = ps.examples.get_path('virginia.json')\n",
    "vfc = FeatureCollection(fp)"
   ]
  },
  {
   "cell_type": "code",
   "execution_count": 4,
   "metadata": {
    "collapsed": false
   },
   "outputs": [],
   "source": [
    "vfc.idVariable"
   ]
  },
  {
   "cell_type": "code",
   "execution_count": 5,
   "metadata": {
    "collapsed": false
   },
   "outputs": [
    {
     "data": {
      "text/plain": [
       "{u'CNTY_FIPS': unicode,\n",
       " u'FIPS': unicode,\n",
       " u'Key': int,\n",
       " u'NAME': unicode,\n",
       " u'POLY_ID': int,\n",
       " u'STATE_FIPS': unicode,\n",
       " u'STATE_NAME': unicode}"
      ]
     },
     "execution_count": 5,
     "metadata": {},
     "output_type": "execute_result"
    }
   ],
   "source": [
    "vfc.getPropertyTypes()"
   ]
  },
  {
   "cell_type": "code",
   "execution_count": 6,
   "metadata": {
    "collapsed": true
   },
   "outputs": [],
   "source": [
    "vfc.idVariable = 'NAME'"
   ]
  },
  {
   "cell_type": "code",
   "execution_count": 7,
   "metadata": {
    "collapsed": false
   },
   "outputs": [
    {
     "data": {
      "text/plain": [
       "'NAME'"
      ]
     },
     "execution_count": 7,
     "metadata": {},
     "output_type": "execute_result"
    }
   ],
   "source": [
    "vfc.idVariable"
   ]
  },
  {
   "cell_type": "code",
   "execution_count": 11,
   "metadata": {
    "collapsed": false
   },
   "outputs": [
    {
     "name": "stderr",
     "output_type": "stream",
     "text": [
      "collection.py:232: UserWarning: STATE_FIPS is not uniquely valued.  Cannot be used as idVariable\n",
      "  warnings.warn(msg)\n"
     ]
    }
   ],
   "source": [
    "vfc.idVariable = 'STATE_FIPS'"
   ]
  },
  {
   "cell_type": "code",
   "execution_count": null,
   "metadata": {
    "collapsed": true
   },
   "outputs": [],
   "source": [
    "vfc.idVa"
   ]
  },
  {
   "cell_type": "code",
   "execution_count": 8,
   "metadata": {
    "collapsed": false
   },
   "outputs": [
    {
     "data": {
      "text/plain": [
       "{u'CNTY_FIPS': u'069',\n",
       " u'FIPS': u'51069',\n",
       " u'Key': 1147,\n",
       " u'NAME': u'Frederick',\n",
       " u'POLY_ID': 1,\n",
       " u'STATE_FIPS': u'51',\n",
       " u'STATE_NAME': u'Virginia'}"
      ]
     },
     "execution_count": 8,
     "metadata": {},
     "output_type": "execute_result"
    }
   ],
   "source": [
    "f0 = vfc.features[0]\n",
    "f0['properties']"
   ]
  },
  {
   "cell_type": "code",
   "execution_count": 9,
   "metadata": {
    "collapsed": false
   },
   "outputs": [
    {
     "name": "stdout",
     "output_type": "stream",
     "text": [
      "MultiPolygon: 1 Polygon(s)\n"
     ]
    }
   ],
   "source": [
    "print(vfc.features[0]['geometry'])"
   ]
  },
  {
   "cell_type": "code",
   "execution_count": 10,
   "metadata": {
    "collapsed": false
   },
   "outputs": [
    {
     "name": "stdout",
     "output_type": "stream",
     "text": [
      "MultiPolygon: 1 Polygon(s)\n",
      "MultiPolygon: 1 Polygon(s)\n",
      "MultiPolygon: 1 Polygon(s)\n",
      "MultiPolygon: 1 Polygon(s)\n",
      "MultiPolygon: 1 Polygon(s)\n",
      "MultiPolygon: 1 Polygon(s)\n",
      "MultiPolygon: 1 Polygon(s)\n",
      "MultiPolygon: 1 Polygon(s)\n",
      "MultiPolygon: 1 Polygon(s)\n",
      "MultiPolygon: 1 Polygon(s)\n",
      "MultiPolygon: 1 Polygon(s)\n",
      "MultiPolygon: 1 Polygon(s)\n",
      "MultiPolygon: 1 Polygon(s)\n",
      "MultiPolygon: 1 Polygon(s)\n",
      "MultiPolygon: 1 Polygon(s)\n",
      "MultiPolygon: 1 Polygon(s)\n",
      "MultiPolygon: 1 Polygon(s)\n",
      "MultiPolygon: 1 Polygon(s)\n",
      "MultiPolygon: 1 Polygon(s)\n",
      "MultiPolygon: 1 Polygon(s)\n",
      "MultiPolygon: 1 Polygon(s)\n",
      "MultiPolygon: 1 Polygon(s)\n",
      "MultiPolygon: 1 Polygon(s)\n",
      "MultiPolygon: 1 Polygon(s)\n",
      "MultiPolygon: 1 Polygon(s)\n",
      "MultiPolygon: 1 Polygon(s)\n",
      "MultiPolygon: 1 Polygon(s)\n",
      "MultiPolygon: 1 Polygon(s)\n",
      "MultiPolygon: 1 Polygon(s)\n",
      "MultiPolygon: 1 Polygon(s)\n",
      "MultiPolygon: 1 Polygon(s)\n",
      "MultiPolygon: 1 Polygon(s)\n",
      "MultiPolygon: 1 Polygon(s)\n",
      "MultiPolygon: 1 Polygon(s)\n",
      "MultiPolygon: 1 Polygon(s)\n",
      "MultiPolygon: 1 Polygon(s)\n",
      "MultiPolygon: 1 Polygon(s)\n",
      "MultiPolygon: 1 Polygon(s)\n",
      "MultiPolygon: 1 Polygon(s)\n",
      "MultiPolygon: 1 Polygon(s)\n",
      "MultiPolygon: 1 Polygon(s)\n",
      "MultiPolygon: 2 Polygon(s)\n",
      "MultiPolygon: 1 Polygon(s)\n",
      "MultiPolygon: 1 Polygon(s)\n",
      "MultiPolygon: 1 Polygon(s)\n",
      "MultiPolygon: 1 Polygon(s)\n",
      "MultiPolygon: 1 Polygon(s)\n",
      "MultiPolygon: 1 Polygon(s)\n",
      "MultiPolygon: 1 Polygon(s)\n",
      "MultiPolygon: 1 Polygon(s)\n",
      "MultiPolygon: 1 Polygon(s)\n",
      "MultiPolygon: 1 Polygon(s)\n",
      "MultiPolygon: 1 Polygon(s)\n",
      "MultiPolygon: 1 Polygon(s)\n",
      "MultiPolygon: 1 Polygon(s)\n",
      "MultiPolygon: 1 Polygon(s)\n",
      "MultiPolygon: 1 Polygon(s)\n",
      "MultiPolygon: 1 Polygon(s)\n",
      "MultiPolygon: 1 Polygon(s)\n",
      "MultiPolygon: 1 Polygon(s)\n",
      "MultiPolygon: 1 Polygon(s)\n",
      "MultiPolygon: 1 Polygon(s)\n",
      "MultiPolygon: 1 Polygon(s)\n",
      "MultiPolygon: 1 Polygon(s)\n",
      "MultiPolygon: 1 Polygon(s)\n",
      "MultiPolygon: 1 Polygon(s)\n",
      "MultiPolygon: 1 Polygon(s)\n",
      "MultiPolygon: 1 Polygon(s)\n",
      "MultiPolygon: 1 Polygon(s)\n",
      "MultiPolygon: 1 Polygon(s)\n",
      "MultiPolygon: 1 Polygon(s)\n",
      "MultiPolygon: 1 Polygon(s)\n",
      "MultiPolygon: 1 Polygon(s)\n",
      "MultiPolygon: 1 Polygon(s)\n",
      "MultiPolygon: 1 Polygon(s)\n",
      "MultiPolygon: 1 Polygon(s)\n",
      "MultiPolygon: 1 Polygon(s)\n",
      "MultiPolygon: 1 Polygon(s)\n",
      "MultiPolygon: 1 Polygon(s)\n",
      "MultiPolygon: 1 Polygon(s)\n",
      "MultiPolygon: 1 Polygon(s)\n",
      "MultiPolygon: 1 Polygon(s)\n",
      "MultiPolygon: 1 Polygon(s)\n",
      "MultiPolygon: 1 Polygon(s)\n",
      "MultiPolygon: 1 Polygon(s)\n",
      "MultiPolygon: 1 Polygon(s)\n",
      "MultiPolygon: 1 Polygon(s)\n",
      "MultiPolygon: 1 Polygon(s)\n",
      "MultiPolygon: 1 Polygon(s)\n",
      "MultiPolygon: 1 Polygon(s)\n",
      "MultiPolygon: 1 Polygon(s)\n",
      "MultiPolygon: 1 Polygon(s)\n",
      "MultiPolygon: 1 Polygon(s)\n",
      "MultiPolygon: 1 Polygon(s)\n",
      "MultiPolygon: 1 Polygon(s)\n",
      "MultiPolygon: 1 Polygon(s)\n",
      "MultiPolygon: 1 Polygon(s)\n",
      "MultiPolygon: 1 Polygon(s)\n",
      "MultiPolygon: 1 Polygon(s)\n",
      "MultiPolygon: 1 Polygon(s)\n",
      "MultiPolygon: 1 Polygon(s)\n",
      "MultiPolygon: 1 Polygon(s)\n",
      "MultiPolygon: 1 Polygon(s)\n",
      "MultiPolygon: 1 Polygon(s)\n",
      "MultiPolygon: 1 Polygon(s)\n",
      "MultiPolygon: 1 Polygon(s)\n",
      "MultiPolygon: 1 Polygon(s)\n",
      "MultiPolygon: 1 Polygon(s)\n",
      "MultiPolygon: 1 Polygon(s)\n",
      "MultiPolygon: 1 Polygon(s)\n",
      "MultiPolygon: 1 Polygon(s)\n",
      "MultiPolygon: 1 Polygon(s)\n",
      "MultiPolygon: 1 Polygon(s)\n",
      "MultiPolygon: 1 Polygon(s)\n",
      "MultiPolygon: 1 Polygon(s)\n",
      "MultiPolygon: 1 Polygon(s)\n",
      "MultiPolygon: 1 Polygon(s)\n",
      "MultiPolygon: 1 Polygon(s)\n",
      "MultiPolygon: 1 Polygon(s)\n",
      "MultiPolygon: 1 Polygon(s)\n",
      "MultiPolygon: 1 Polygon(s)\n",
      "MultiPolygon: 1 Polygon(s)\n",
      "MultiPolygon: 1 Polygon(s)\n",
      "MultiPolygon: 1 Polygon(s)\n",
      "MultiPolygon: 1 Polygon(s)\n",
      "MultiPolygon: 1 Polygon(s)\n",
      "MultiPolygon: 1 Polygon(s)\n",
      "MultiPolygon: 2 Polygon(s)\n",
      "MultiPolygon: 1 Polygon(s)\n",
      "MultiPolygon: 1 Polygon(s)\n",
      "MultiPolygon: 1 Polygon(s)\n",
      "MultiPolygon: 1 Polygon(s)\n",
      "MultiPolygon: 1 Polygon(s)\n",
      "MultiPolygon: 1 Polygon(s)\n",
      "MultiPolygon: 1 Polygon(s)\n",
      "MultiPolygon: 1 Polygon(s)\n"
     ]
    }
   ],
   "source": [
    "for feature in vfc.features:\n",
    "    print(vfc.features[feature]['geometry'])"
   ]
  },
  {
   "cell_type": "code",
   "execution_count": null,
   "metadata": {
    "collapsed": false
   },
   "outputs": [],
   "source": [
    "fp = ps.examples.get_path('columbus.json')\n",
    "cfc = FeatureCollection(fp)"
   ]
  },
  {
   "cell_type": "code",
   "execution_count": null,
   "metadata": {
    "collapsed": false
   },
   "outputs": [],
   "source": [
    "print(cfc.features[0]['geometry'])"
   ]
  },
  {
   "cell_type": "code",
   "execution_count": null,
   "metadata": {
    "collapsed": false
   },
   "outputs": [],
   "source": [
    "cfc.getPropertyTypes()"
   ]
  },
  {
   "cell_type": "code",
   "execution_count": null,
   "metadata": {
    "collapsed": false
   },
   "outputs": [],
   "source": [
    "X = cfc.getPropertiesAsArray(['AREA', 'CRIME'])"
   ]
  },
  {
   "cell_type": "code",
   "execution_count": null,
   "metadata": {
    "collapsed": true
   },
   "outputs": [],
   "source": [
    "XL = cfc.getPropertiesAsLists(['AREA', 'CRIME'])\n",
    "XL"
   ]
  },
  {
   "cell_type": "code",
   "execution_count": null,
   "metadata": {
    "collapsed": false
   },
   "outputs": [],
   "source": [
    "cfc.features[0]['geometry']"
   ]
  },
  {
   "cell_type": "code",
   "execution_count": null,
   "metadata": {
    "collapsed": false
   },
   "outputs": [],
   "source": [
    "dir(cfc.features[0]['geometry'])"
   ]
  },
  {
   "cell_type": "code",
   "execution_count": null,
   "metadata": {
    "collapsed": false
   },
   "outputs": [],
   "source": [
    "cfc.features[0]['geometry'].coordinates"
   ]
  },
  {
   "cell_type": "code",
   "execution_count": null,
   "metadata": {
    "collapsed": false
   },
   "outputs": [],
   "source": [
    "c =  [\n",
    "      [ [100.0, 0.0], [101.0, 0.0], [101.0, 1.0], [100.0, 1.0], [100.0, 0.0] ],\n",
    "      [ [100.2, 0.2], [100.8, 0.2], [100.8, 0.8], [100.2, 0.8], [100.2, 0.2] ]\n",
    "      ]\n",
    "p = Polygon(c)\n",
    "p.coordinates\n",
    "print(p.bbox)\n",
    "p.bboxes\n",
    "\n",
    "c = [\n",
    "      [[[102.0, 2.0], [103.0, 2.0], [103.0, 3.0], [102.0, 3.0], [102.0, 2.0]]],\n",
    "      [[[100.0, 0.0], [101.0, 0.0], [101.0, 1.0], [100.0, 1.0], [100.0, 0.0]],\n",
    "       [[100.2, 0.2], [100.8, 0.2], [100.8, 0.8], [100.2, 0.8], [100.2, 0.2]]]\n",
    "      ]\n",
    "\n",
    "print(\"\\n\")\n",
    "mp = MultiPolygon(c)\n",
    "\n",
    "print(mp.bbox)\n",
    "\n",
    "c =  [ [100.0, 0.0], [101.0, 1.0] ]\n",
    "l = LineString(c)\n",
    "print(l.bbox)\n",
    "\n",
    "c = [\n",
    "        [ [100.0, 0.0], [101.0, 1.0] ],\n",
    "        [ [102.0, 2.0], [103.0, 3.0] ]\n",
    "      ]\n",
    "\n",
    "mls = MultiLineString(c)\n",
    "mls.bbox\n",
    "\n",
    "c = [100.0, 0.0]\n",
    "p = Point(c)\n",
    "p.bbox\n",
    "\n",
    "c = [ [100.0, 0.0], [101.0, 1.0] ]\n",
    "\n",
    "np.array(c).max(axis=0)\n",
    "mp = MultiPoint(c)\n",
    "mp.bbox\n",
    "\n",
    "c = [ [100.0, 0.0], [101.0, 1.0], [40, 7]]\n",
    "MultiPoint(c).bbox\n",
    "\n",
    "c = [ [100.0, 0.0, 20], [101.0, 1.0, 50], [40, 7, 10]]\n",
    "MultiPoint(c).bbox\n",
    "\n",
    "str(mp)"
   ]
  },
  {
   "cell_type": "code",
   "execution_count": null,
   "metadata": {
    "collapsed": false
   },
   "outputs": [],
   "source": [
    "def bbox_overlap(A, B):\n",
    "    \"\"\"\n",
    "    Test if two bounding boxes overlap\n",
    "    \n",
    "    Arguments\n",
    "    ---------\n",
    "    A, B: list of [left, bottom, right, top]\n",
    "    \"\"\"\n",
    "    l = 0\n",
    "    b = 1\n",
    "    r = 2\n",
    "    t = 3\n",
    "    if A[b] > B[t] or A[t] < B[b] or A[r] < B[l] or A[l] > B[r]:\n",
    "        return False\n",
    "    else:\n",
    "        return True\n",
    "    \n",
    "b1 = [0,0, 10,10]\n",
    "b2 = [11,0, 10, 10]\n",
    "bbox_overlap(b1, b2)\n",
    "b2 = [5,5, 10, 10]\n",
    "bbox_overlap(b1, b2)\n",
    "b2 = [-5,5, -1, 10]\n",
    "bbox_overlap(b1, b2)\n",
    "b2 = [10,10, 20,20]\n",
    "bbox_overlap(b1, b2)\n",
    "\n"
   ]
  },
  {
   "cell_type": "code",
   "execution_count": null,
   "metadata": {
    "collapsed": false
   },
   "outputs": [],
   "source": [
    "cfc = FeatureCollection()"
   ]
  },
  {
   "cell_type": "code",
   "execution_count": null,
   "metadata": {
    "collapsed": false
   },
   "outputs": [],
   "source": [
    "a = range(3)\n",
    "b = range(5,6)\n",
    "common_vertices = [v for v in a if v in b]\n",
    "if common_vertices:\n",
    "    print True"
   ]
  },
  {
   "cell_type": "code",
   "execution_count": null,
   "metadata": {
    "collapsed": true
   },
   "outputs": [],
   "source": [
    "def _queen(ring1, ring2):\n",
    "    common_vertices = [v for v in ring1 if v in ring2]\n",
    "    if common_vertices:\n",
    "        return True\n",
    "    return False\n",
    "    "
   ]
  },
  {
   "cell_type": "code",
   "execution_count": null,
   "metadata": {
    "collapsed": false
   },
   "outputs": [],
   "source": [
    "_queen(range(10), range(5,9))"
   ]
  },
  {
   "cell_type": "code",
   "execution_count": null,
   "metadata": {
    "collapsed": false
   },
   "outputs": [],
   "source": [
    "_queen(range(10), range(20,40))"
   ]
  },
  {
   "cell_type": "code",
   "execution_count": null,
   "metadata": {
    "collapsed": true
   },
   "outputs": [],
   "source": []
  },
  {
   "cell_type": "code",
   "execution_count": null,
   "metadata": {
    "collapsed": false
   },
   "outputs": [],
   "source": [
    "def _queen(ring1, ring2):\n",
    "    common_vertices = [v for v in ring1 if v in ring2]\n",
    "    if common_vertices:\n",
    "        return True\n",
    "    return False\n",
    "    \n",
    "\n",
    "def _rook(ring1, ring2):\n",
    "    n1 = len(ring1)\n",
    "    n2 = len(ring2)\n",
    "    edges1 = [sorted(ring1[l:l+2]) for l in range(n1-1)]\n",
    "    edges2 = [sorted(ring2[l:l+2]) for l in range(n2-1)]\n",
    "    common_edges = [e for e in edges1 if e in edges2]\n",
    "    if common_edges:\n",
    "        return True\n",
    "    return False\n",
    "    \n",
    "def contiguous(g1, g2, criterion='QUEEN'):\n",
    "    \n",
    "    if g1.type != g2.type:\n",
    "        raise ValueError('Geometries must be of same type.')\n",
    "    elif not bbox_overlap(g1.bbox, g2.bbox):\n",
    "        # bounding box containing all g1 rings not overlapping that of g2\n",
    "        return False\n",
    "    else:\n",
    "        criterion = criterion.lower()\n",
    "        # check if the bounding boxes for any rings in g1 overlap with any rings in g2\n",
    "        overlap = False\n",
    "        if g1.type == 'Polygon':\n",
    "            # find all pairs where a ring from g1 and a ring from g2 have overlapping bbs\n",
    "            pairs = []\n",
    "            for i, bbox1 in enumerate(g1.bboxes):\n",
    "                for j, bbox2 in enumerate(g2.bboxes):\n",
    "                    if bbox_overlap(bbox1, bbox2):\n",
    "                        overlap=True\n",
    "                        pairs.append((i,j))\n",
    "            if overlap:\n",
    "                # search overlapping pairs and the first (if any) neighbor pair\n",
    "                for pair in pairs:\n",
    "                    i, j = pair\n",
    "                    pi = g1.coordinates[i]\n",
    "                    pj = g2.coordinates[j]\n",
    "                    if _queen(pi, pj):\n",
    "                        if criterion == 'queen':\n",
    "                            return True\n",
    "                        else:\n",
    "                            return _rook(pi, pj)\n",
    "                return False\n",
    "            else:\n",
    "                return False\n",
    "           \n",
    "        elif g1.type == 'MultiPolygon':\n",
    "            pairs = []\n",
    "            overlap = False\n",
    "            for i, pi in enumerate(g1.bboxes):\n",
    "                for ii, bi in enumerate(pi):\n",
    "                    for j, pj in enumerate(g2.bboxes):\n",
    "                        for jj, bj in enumerate(pj):\n",
    "                            if bbox_overlap(bi, bj):\n",
    "                                overlap = True\n",
    "                                pair = (i,ii,j,jj)\n",
    "                                pairs.append(pair)\n",
    "                                \n",
    "            if overlap:\n",
    "                for pair in pairs:\n",
    "                    i, ii, j, jj = pair\n",
    "                    pi = g1.coordinates[i][ii]\n",
    "                    pj = g2.coordinates[j][jj]\n",
    "                    if _queen(pi, pj):\n",
    "                        if criterion == 'queen':\n",
    "                            return  True \n",
    "                        else:\n",
    "                            return _rook(pi, pj)\n",
    "                return False\n",
    "            else:\n",
    "                return False\n",
    "        else:\n",
    "            return False\n",
    "\n",
    "       "
   ]
  },
  {
   "cell_type": "code",
   "execution_count": null,
   "metadata": {
    "collapsed": true
   },
   "outputs": [],
   "source": [
    "cvc = FeatureCollection(ps.examples.get_path('columbus.json'))"
   ]
  },
  {
   "cell_type": "code",
   "execution_count": null,
   "metadata": {
    "collapsed": false
   },
   "outputs": [],
   "source": [
    "g0 = cvc.features[0]['geometry']\n",
    "g1 = cvc.features[1]['geometry']\n",
    "g3 = cvc.features[3]['geometry']\n",
    "print(contiguous(g0, g1))\n",
    "print(contiguous(g0, g3))"
   ]
  },
  {
   "cell_type": "code",
   "execution_count": null,
   "metadata": {
    "collapsed": true
   },
   "outputs": [],
   "source": []
  },
  {
   "cell_type": "code",
   "execution_count": null,
   "metadata": {
    "collapsed": true
   },
   "outputs": [],
   "source": [
    "fp = ps.examples.get_path('virginia.json')\n",
    "vfc = FeatureCollection(fp)"
   ]
  },
  {
   "cell_type": "code",
   "execution_count": null,
   "metadata": {
    "collapsed": false
   },
   "outputs": [],
   "source": [
    "g0 = vfc.features[0]['geometry']\n",
    "g3 = vfc.features[3]['geometry']\n",
    "print(contiguous(g0, g3))\n",
    "g2 = vfc.features[2]['geometry']\n",
    "print(contiguous(g0, g2))\n",
    "g4 = vfc.features[4]"
   ]
  },
  {
   "cell_type": "code",
   "execution_count": null,
   "metadata": {
    "collapsed": false
   },
   "outputs": [],
   "source": [
    "print(contiguous(g0, g2), 'rook')\n"
   ]
  },
  {
   "cell_type": "code",
   "execution_count": null,
   "metadata": {
    "collapsed": false
   },
   "outputs": [],
   "source": [
    "g1 = vfc.features[1]['geometry']\n",
    "print(contiguous(g0, g1))"
   ]
  },
  {
   "cell_type": "code",
   "execution_count": null,
   "metadata": {
    "collapsed": false
   },
   "outputs": [],
   "source": [
    "g2.coordinates[0][0]"
   ]
  },
  {
   "cell_type": "code",
   "execution_count": null,
   "metadata": {
    "collapsed": true
   },
   "outputs": [],
   "source": [
    "f0 = vfc.features[0]\n",
    "f2 = vfc.features[2]"
   ]
  },
  {
   "cell_type": "code",
   "execution_count": null,
   "metadata": {
    "collapsed": false
   },
   "outputs": [],
   "source": [
    "g0.bbox"
   ]
  },
  {
   "cell_type": "code",
   "execution_count": null,
   "metadata": {
    "collapsed": false
   },
   "outputs": [],
   "source": [
    "g2.bbox"
   ]
  },
  {
   "cell_type": "code",
   "execution_count": null,
   "metadata": {
    "collapsed": false
   },
   "outputs": [],
   "source": [
    "f2"
   ]
  },
  {
   "cell_type": "code",
   "execution_count": null,
   "metadata": {
    "collapsed": true
   },
   "outputs": [],
   "source": []
  },
  {
   "cell_type": "code",
   "execution_count": null,
   "metadata": {
    "collapsed": true
   },
   "outputs": [],
   "source": []
  },
  {
   "cell_type": "code",
   "execution_count": null,
   "metadata": {
    "collapsed": true
   },
   "outputs": [],
   "source": []
  },
  {
   "cell_type": "code",
   "execution_count": null,
   "metadata": {
    "collapsed": true
   },
   "outputs": [],
   "source": []
  },
  {
   "cell_type": "code",
   "execution_count": null,
   "metadata": {
    "collapsed": true
   },
   "outputs": [],
   "source": []
  },
  {
   "cell_type": "code",
   "execution_count": null,
   "metadata": {
    "collapsed": true
   },
   "outputs": [],
   "source": []
  },
  {
   "cell_type": "code",
   "execution_count": null,
   "metadata": {
    "collapsed": true
   },
   "outputs": [],
   "source": []
  },
  {
   "cell_type": "code",
   "execution_count": null,
   "metadata": {
    "collapsed": true
   },
   "outputs": [],
   "source": []
  },
  {
   "cell_type": "code",
   "execution_count": null,
   "metadata": {
    "collapsed": false
   },
   "outputs": [],
   "source": [
    "# full enumeration check of contiguity\n",
    "# in practice we would filter the bounding boxes first and then only check overlapping pairs\n",
    "\n",
    "# virginia is a good test case as it has holes as well as embedded polygons (one polygons hole ring is another polygon's exterior ring)\n",
    "neighbors = dict([(i,[]) for i in xrange(vfc.n_features)])\n",
    "for i in xrange(vfc.n_features - 1):\n",
    "    gi = vfc.features[i]['geometry']\n",
    "    for j in xrange(i+1, vfc.n_features):\n",
    "            gj = vfc.features[j]['geometry']\n",
    "            if contiguous(gi, gj):\n",
    "                neighbors[i].append(j)\n",
    "                neighbors[j].append(i)\n"
   ]
  },
  {
   "cell_type": "code",
   "execution_count": null,
   "metadata": {
    "collapsed": false
   },
   "outputs": [],
   "source": [
    "neighbors"
   ]
  },
  {
   "cell_type": "code",
   "execution_count": null,
   "metadata": {
    "collapsed": true
   },
   "outputs": [],
   "source": []
  },
  {
   "cell_type": "code",
   "execution_count": null,
   "metadata": {
    "collapsed": true
   },
   "outputs": [],
   "source": []
  }
 ],
 "metadata": {
  "kernelspec": {
   "display_name": "Python 2",
   "language": "python",
   "name": "python2"
  },
  "language_info": {
   "codemirror_mode": {
    "name": "ipython",
    "version": 2
   },
   "file_extension": ".py",
   "mimetype": "text/x-python",
   "name": "python",
   "nbconvert_exporter": "python",
   "pygments_lexer": "ipython2",
   "version": "2.7.10"
  }
 },
 "nbformat": 4,
 "nbformat_minor": 0
}
