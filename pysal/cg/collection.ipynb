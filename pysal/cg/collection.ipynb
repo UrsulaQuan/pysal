{
 "cells": [
  {
   "cell_type": "code",
   "execution_count": 1,
   "metadata": {
    "collapsed": false
   },
   "outputs": [],
   "source": [
    "import pysal as ps\n",
    "import numpy as np\n",
    "import json\n",
    "from collection import Point, MultiPoint, LineString, MultiLineString\n",
    "from collection import Polygon, MultiPolygon\n",
    "from collection import geometryDispatcher, FeatureCollection"
   ]
  },
  {
   "cell_type": "code",
   "execution_count": 2,
   "metadata": {
    "collapsed": false
   },
   "outputs": [
    {
     "data": {
      "text/plain": [
       "{'description': 'Virginia counties shapefile',\n",
       " 'explanation': ['  * virginia.shp: Shapefile',\n",
       "  '  * virginia.shx: shapefile index',\n",
       "  '  * virginia.dbf: attributes',\n",
       "  '  * virginia.prj: shapefile projection',\n",
       "  '  * virginia.json: geojson file'],\n",
       " 'name': 'virginia'}"
      ]
     },
     "execution_count": 2,
     "metadata": {},
     "output_type": "execute_result"
    }
   ],
   "source": [
    "ps.examples.explain('virginia')"
   ]
  },
  {
   "cell_type": "code",
   "execution_count": 3,
   "metadata": {
    "collapsed": false
   },
   "outputs": [],
   "source": [
    "fp = ps.examples.get_path('virginia.json')\n",
    "vfc = FeatureCollection(fp)"
   ]
  },
  {
   "cell_type": "code",
   "execution_count": 4,
   "metadata": {
    "collapsed": false
   },
   "outputs": [
    {
     "data": {
      "text/plain": [
       "{u'CNTY_FIPS': unicode,\n",
       " u'FIPS': unicode,\n",
       " u'Key': int,\n",
       " u'NAME': unicode,\n",
       " u'POLY_ID': int,\n",
       " u'STATE_FIPS': unicode,\n",
       " u'STATE_NAME': unicode}"
      ]
     },
     "execution_count": 4,
     "metadata": {},
     "output_type": "execute_result"
    }
   ],
   "source": [
    "vfc.getPropertyTypes()"
   ]
  },
  {
   "cell_type": "code",
   "execution_count": 5,
   "metadata": {
    "collapsed": false
   },
   "outputs": [
    {
     "data": {
      "text/plain": [
       "{u'CNTY_FIPS': u'069',\n",
       " u'FIPS': u'51069',\n",
       " u'Key': 1147,\n",
       " u'NAME': u'Frederick',\n",
       " u'POLY_ID': 1,\n",
       " u'STATE_FIPS': u'51',\n",
       " u'STATE_NAME': u'Virginia'}"
      ]
     },
     "execution_count": 5,
     "metadata": {},
     "output_type": "execute_result"
    }
   ],
   "source": [
    "f0 = vfc.features[0]\n",
    "f0['properties']"
   ]
  },
  {
   "cell_type": "code",
   "execution_count": 6,
   "metadata": {
    "collapsed": false
   },
   "outputs": [
    {
     "name": "stdout",
     "output_type": "stream",
     "text": [
      "MultiPolygon: 1 Polygon(s)\n"
     ]
    }
   ],
   "source": [
    "print(vfc.features[0]['geometry'])"
   ]
  },
  {
   "cell_type": "code",
   "execution_count": 7,
   "metadata": {
    "collapsed": false
   },
   "outputs": [
    {
     "name": "stdout",
     "output_type": "stream",
     "text": [
      "MultiPolygon: 1 Polygon(s)\n",
      "MultiPolygon: 1 Polygon(s)\n",
      "MultiPolygon: 1 Polygon(s)\n",
      "MultiPolygon: 1 Polygon(s)\n",
      "MultiPolygon: 1 Polygon(s)\n",
      "MultiPolygon: 1 Polygon(s)\n",
      "MultiPolygon: 1 Polygon(s)\n",
      "MultiPolygon: 1 Polygon(s)\n",
      "MultiPolygon: 1 Polygon(s)\n",
      "MultiPolygon: 1 Polygon(s)\n",
      "MultiPolygon: 1 Polygon(s)\n",
      "MultiPolygon: 1 Polygon(s)\n",
      "MultiPolygon: 1 Polygon(s)\n",
      "MultiPolygon: 1 Polygon(s)\n",
      "MultiPolygon: 1 Polygon(s)\n",
      "MultiPolygon: 1 Polygon(s)\n",
      "MultiPolygon: 1 Polygon(s)\n",
      "MultiPolygon: 1 Polygon(s)\n",
      "MultiPolygon: 1 Polygon(s)\n",
      "MultiPolygon: 1 Polygon(s)\n",
      "MultiPolygon: 1 Polygon(s)\n",
      "MultiPolygon: 1 Polygon(s)\n",
      "MultiPolygon: 1 Polygon(s)\n",
      "MultiPolygon: 1 Polygon(s)\n",
      "MultiPolygon: 1 Polygon(s)\n",
      "MultiPolygon: 1 Polygon(s)\n",
      "MultiPolygon: 1 Polygon(s)\n",
      "MultiPolygon: 1 Polygon(s)\n",
      "MultiPolygon: 1 Polygon(s)\n",
      "MultiPolygon: 1 Polygon(s)\n",
      "MultiPolygon: 1 Polygon(s)\n",
      "MultiPolygon: 1 Polygon(s)\n",
      "MultiPolygon: 1 Polygon(s)\n",
      "MultiPolygon: 1 Polygon(s)\n",
      "MultiPolygon: 1 Polygon(s)\n",
      "MultiPolygon: 1 Polygon(s)\n",
      "MultiPolygon: 1 Polygon(s)\n",
      "MultiPolygon: 1 Polygon(s)\n",
      "MultiPolygon: 1 Polygon(s)\n",
      "MultiPolygon: 1 Polygon(s)\n",
      "MultiPolygon: 1 Polygon(s)\n",
      "MultiPolygon: 2 Polygon(s)\n",
      "MultiPolygon: 1 Polygon(s)\n",
      "MultiPolygon: 1 Polygon(s)\n",
      "MultiPolygon: 1 Polygon(s)\n",
      "MultiPolygon: 1 Polygon(s)\n",
      "MultiPolygon: 1 Polygon(s)\n",
      "MultiPolygon: 1 Polygon(s)\n",
      "MultiPolygon: 1 Polygon(s)\n",
      "MultiPolygon: 1 Polygon(s)\n",
      "MultiPolygon: 1 Polygon(s)\n",
      "MultiPolygon: 1 Polygon(s)\n",
      "MultiPolygon: 1 Polygon(s)\n",
      "MultiPolygon: 1 Polygon(s)\n",
      "MultiPolygon: 1 Polygon(s)\n",
      "MultiPolygon: 1 Polygon(s)\n",
      "MultiPolygon: 1 Polygon(s)\n",
      "MultiPolygon: 1 Polygon(s)\n",
      "MultiPolygon: 1 Polygon(s)\n",
      "MultiPolygon: 1 Polygon(s)\n",
      "MultiPolygon: 1 Polygon(s)\n",
      "MultiPolygon: 1 Polygon(s)\n",
      "MultiPolygon: 1 Polygon(s)\n",
      "MultiPolygon: 1 Polygon(s)\n",
      "MultiPolygon: 1 Polygon(s)\n",
      "MultiPolygon: 1 Polygon(s)\n",
      "MultiPolygon: 1 Polygon(s)\n",
      "MultiPolygon: 1 Polygon(s)\n",
      "MultiPolygon: 1 Polygon(s)\n",
      "MultiPolygon: 1 Polygon(s)\n",
      "MultiPolygon: 1 Polygon(s)\n",
      "MultiPolygon: 1 Polygon(s)\n",
      "MultiPolygon: 1 Polygon(s)\n",
      "MultiPolygon: 1 Polygon(s)\n",
      "MultiPolygon: 1 Polygon(s)\n",
      "MultiPolygon: 1 Polygon(s)\n",
      "MultiPolygon: 1 Polygon(s)\n",
      "MultiPolygon: 1 Polygon(s)\n",
      "MultiPolygon: 1 Polygon(s)\n",
      "MultiPolygon: 1 Polygon(s)\n",
      "MultiPolygon: 1 Polygon(s)\n",
      "MultiPolygon: 1 Polygon(s)\n",
      "MultiPolygon: 1 Polygon(s)\n",
      "MultiPolygon: 1 Polygon(s)\n",
      "MultiPolygon: 1 Polygon(s)\n",
      "MultiPolygon: 1 Polygon(s)\n",
      "MultiPolygon: 1 Polygon(s)\n",
      "MultiPolygon: 1 Polygon(s)\n",
      "MultiPolygon: 1 Polygon(s)\n",
      "MultiPolygon: 1 Polygon(s)\n",
      "MultiPolygon: 1 Polygon(s)\n",
      "MultiPolygon: 1 Polygon(s)\n",
      "MultiPolygon: 1 Polygon(s)\n",
      "MultiPolygon: 1 Polygon(s)\n",
      "MultiPolygon: 1 Polygon(s)\n",
      "MultiPolygon: 1 Polygon(s)\n",
      "MultiPolygon: 1 Polygon(s)\n",
      "MultiPolygon: 1 Polygon(s)\n",
      "MultiPolygon: 1 Polygon(s)\n",
      "MultiPolygon: 1 Polygon(s)\n",
      "MultiPolygon: 1 Polygon(s)\n",
      "MultiPolygon: 1 Polygon(s)\n",
      "MultiPolygon: 1 Polygon(s)\n",
      "MultiPolygon: 1 Polygon(s)\n",
      "MultiPolygon: 1 Polygon(s)\n",
      "MultiPolygon: 1 Polygon(s)\n",
      "MultiPolygon: 1 Polygon(s)\n",
      "MultiPolygon: 1 Polygon(s)\n",
      "MultiPolygon: 1 Polygon(s)\n",
      "MultiPolygon: 1 Polygon(s)\n",
      "MultiPolygon: 1 Polygon(s)\n",
      "MultiPolygon: 1 Polygon(s)\n",
      "MultiPolygon: 1 Polygon(s)\n",
      "MultiPolygon: 1 Polygon(s)\n",
      "MultiPolygon: 1 Polygon(s)\n",
      "MultiPolygon: 1 Polygon(s)\n",
      "MultiPolygon: 1 Polygon(s)\n",
      "MultiPolygon: 1 Polygon(s)\n",
      "MultiPolygon: 1 Polygon(s)\n",
      "MultiPolygon: 1 Polygon(s)\n",
      "MultiPolygon: 1 Polygon(s)\n",
      "MultiPolygon: 1 Polygon(s)\n",
      "MultiPolygon: 1 Polygon(s)\n",
      "MultiPolygon: 1 Polygon(s)\n",
      "MultiPolygon: 1 Polygon(s)\n",
      "MultiPolygon: 1 Polygon(s)\n",
      "MultiPolygon: 1 Polygon(s)\n",
      "MultiPolygon: 2 Polygon(s)\n",
      "MultiPolygon: 1 Polygon(s)\n",
      "MultiPolygon: 1 Polygon(s)\n",
      "MultiPolygon: 1 Polygon(s)\n",
      "MultiPolygon: 1 Polygon(s)\n",
      "MultiPolygon: 1 Polygon(s)\n",
      "MultiPolygon: 1 Polygon(s)\n",
      "MultiPolygon: 1 Polygon(s)\n",
      "MultiPolygon: 1 Polygon(s)\n"
     ]
    }
   ],
   "source": [
    "for feature in vfc.features:\n",
    "    print(vfc.features[feature]['geometry'])"
   ]
  },
  {
   "cell_type": "code",
   "execution_count": 8,
   "metadata": {
    "collapsed": false
   },
   "outputs": [],
   "source": [
    "fp = ps.examples.get_path('columbus.json')\n",
    "cfc = FeatureCollection(fp)"
   ]
  },
  {
   "cell_type": "code",
   "execution_count": 9,
   "metadata": {
    "collapsed": false
   },
   "outputs": [
    {
     "name": "stdout",
     "output_type": "stream",
     "text": [
      "Polygon: 1 Rings, 0 Holes\n"
     ]
    }
   ],
   "source": [
    "print(cfc.features[0]['geometry'])"
   ]
  },
  {
   "cell_type": "code",
   "execution_count": 10,
   "metadata": {
    "collapsed": false
   },
   "outputs": [
    {
     "data": {
      "text/plain": [
       "{u'AREA': float,\n",
       " u'COLUMBUS_': float,\n",
       " u'COLUMBUS_I': float,\n",
       " u'CP': float,\n",
       " u'CRIME': float,\n",
       " u'DISCBD': float,\n",
       " u'EW': float,\n",
       " u'HOVAL': float,\n",
       " u'INC': float,\n",
       " u'NEIG': int,\n",
       " u'NEIGNO': float,\n",
       " u'NSA': float,\n",
       " u'NSB': float,\n",
       " u'OPEN': float,\n",
       " u'PERIMETER': float,\n",
       " u'PLUMB': float,\n",
       " u'POLYID': float,\n",
       " u'THOUS': float,\n",
       " u'X': float,\n",
       " u'Y': float}"
      ]
     },
     "execution_count": 10,
     "metadata": {},
     "output_type": "execute_result"
    }
   ],
   "source": [
    "cfc.getPropertyTypes()"
   ]
  },
  {
   "cell_type": "code",
   "execution_count": 11,
   "metadata": {
    "collapsed": false
   },
   "outputs": [],
   "source": [
    "X = cfc.getPropertiesAsArray(['AREA', 'CRIME'])"
   ]
  },
  {
   "cell_type": "code",
   "execution_count": 12,
   "metadata": {
    "collapsed": false
   },
   "outputs": [
    {
     "data": {
      "text/plain": [
       "[[0.309441, 15.72598],\n",
       " [0.259329, 18.801754],\n",
       " [0.192468, 30.626781],\n",
       " [0.083841, 32.38776],\n",
       " [0.488888, 50.73151],\n",
       " [0.283079, 26.066658],\n",
       " [0.257084, 0.178269],\n",
       " [0.204954, 38.425858],\n",
       " [0.500755, 30.515917],\n",
       " [0.246689, 34.000835],\n",
       " [0.041012, 62.275448],\n",
       " [0.035769, 56.705669],\n",
       " [0.034377, 46.716129],\n",
       " [0.060884, 57.066132],\n",
       " [0.106653, 48.585487],\n",
       " [0.093154, 54.838711],\n",
       " [0.102087, 36.868774],\n",
       " [0.055494, 43.962486],\n",
       " [0.061342, 54.521965],\n",
       " [0.444629, 0.223797],\n",
       " [0.699258, 40.074074],\n",
       " [0.192891, 33.705048],\n",
       " [0.24712, 20.048504],\n",
       " [0.192226, 38.297871],\n",
       " [0.17168, 61.299175],\n",
       " [0.107298, 40.969742],\n",
       " [0.137802, 52.79443],\n",
       " [0.174773, 56.919785],\n",
       " [0.085972, 60.750446],\n",
       " [0.104355, 68.892044],\n",
       " [0.117409, 17.677214],\n",
       " [0.18558, 19.145592],\n",
       " [0.087472, 41.968163],\n",
       " [0.226594, 23.974028],\n",
       " [0.175453, 39.175053],\n",
       " [0.17813, 14.305556],\n",
       " [0.121154, 42.445076],\n",
       " [0.053881, 53.710938],\n",
       " [0.174823, 19.100863],\n",
       " [0.302908, 16.241299],\n",
       " [0.137024, 18.905146],\n",
       " [0.266541, 16.49189],\n",
       " [0.060241, 36.663612],\n",
       " [0.173337, 25.962263],\n",
       " [0.256431, 29.028488],\n",
       " [0.124728, 16.530533],\n",
       " [0.245249, 27.822861],\n",
       " [0.069762, 26.645266],\n",
       " [0.205964, 22.541491]]"
      ]
     },
     "execution_count": 12,
     "metadata": {},
     "output_type": "execute_result"
    }
   ],
   "source": [
    "XL = cfc.getPropertiesAsLists(['AREA', 'CRIME'])\n",
    "XL"
   ]
  },
  {
   "cell_type": "code",
   "execution_count": null,
   "metadata": {
    "collapsed": true
   },
   "outputs": [],
   "source": []
  },
  {
   "cell_type": "code",
   "execution_count": 13,
   "metadata": {
    "collapsed": false
   },
   "outputs": [],
   "source": [
    "g = cfc.getGeometryCollection()"
   ]
  },
  {
   "cell_type": "code",
   "execution_count": 14,
   "metadata": {
    "collapsed": false
   },
   "outputs": [
    {
     "data": {
      "text/plain": [
       "generator"
      ]
     },
     "execution_count": 14,
     "metadata": {},
     "output_type": "execute_result"
    }
   ],
   "source": [
    "type(g)"
   ]
  },
  {
   "cell_type": "code",
   "execution_count": 15,
   "metadata": {
    "collapsed": false
   },
   "outputs": [
    {
     "data": {
      "text/plain": [
       "<collection.Polygon object at 0x7f07686b0d90>"
      ]
     },
     "execution_count": 15,
     "metadata": {},
     "output_type": "execute_result"
    }
   ],
   "source": [
    "cfc.features[0]['geometry']"
   ]
  },
  {
   "cell_type": "code",
   "execution_count": 16,
   "metadata": {
    "collapsed": false
   },
   "outputs": [
    {
     "data": {
      "text/plain": [
       "['_Geometry__bbox',\n",
       " '__class__',\n",
       " '__delattr__',\n",
       " '__dict__',\n",
       " '__doc__',\n",
       " '__format__',\n",
       " '__getattribute__',\n",
       " '__hash__',\n",
       " '__init__',\n",
       " '__module__',\n",
       " '__new__',\n",
       " '__reduce__',\n",
       " '__reduce_ex__',\n",
       " '__repr__',\n",
       " '__setattr__',\n",
       " '__sizeof__',\n",
       " '__str__',\n",
       " '__subclasshook__',\n",
       " '__weakref__',\n",
       " 'bbox',\n",
       " 'bboxes',\n",
       " 'build_bbox',\n",
       " 'coordinates',\n",
       " 'getbbox',\n",
       " 'setbbox',\n",
       " 'type']"
      ]
     },
     "execution_count": 16,
     "metadata": {},
     "output_type": "execute_result"
    }
   ],
   "source": [
    "dir(cfc.features[0]['geometry'])"
   ]
  },
  {
   "cell_type": "code",
   "execution_count": 17,
   "metadata": {
    "collapsed": false
   },
   "outputs": [
    {
     "data": {
      "text/plain": [
       "[[[8.624129295349121, 14.236980438232422],\n",
       "  [8.559700012207031, 14.742449760437012],\n",
       "  [8.809452056884766, 14.734430313110352],\n",
       "  [8.808412551879883, 14.636520385742188],\n",
       "  [8.919304847717285, 14.638500213623047],\n",
       "  [9.087138175964355, 14.63049030303955],\n",
       "  [9.09996509552002, 14.244830131530762],\n",
       "  [9.015047073364258, 14.241840362548828],\n",
       "  [9.008951187133789, 13.995059967041016],\n",
       "  [8.818140029907227, 14.002050399780273],\n",
       "  [8.653305053710938, 14.008090019226074],\n",
       "  [8.642902374267578, 14.089710235595703],\n",
       "  [8.63259220123291, 14.1705904006958],\n",
       "  [8.625825881958008, 14.22367000579834],\n",
       "  [8.624129295349121, 14.236980438232422]]]"
      ]
     },
     "execution_count": 17,
     "metadata": {},
     "output_type": "execute_result"
    }
   ],
   "source": [
    "cfc.features[0]['geometry'].coordinates"
   ]
  },
  {
   "cell_type": "code",
   "execution_count": null,
   "metadata": {
    "collapsed": true
   },
   "outputs": [],
   "source": []
  },
  {
   "cell_type": "code",
   "execution_count": null,
   "metadata": {
    "collapsed": true
   },
   "outputs": [],
   "source": []
  },
  {
   "cell_type": "code",
   "execution_count": null,
   "metadata": {
    "collapsed": true
   },
   "outputs": [],
   "source": []
  },
  {
   "cell_type": "code",
   "execution_count": null,
   "metadata": {
    "collapsed": true
   },
   "outputs": [],
   "source": []
  },
  {
   "cell_type": "code",
   "execution_count": null,
   "metadata": {
    "collapsed": true
   },
   "outputs": [],
   "source": []
  },
  {
   "cell_type": "code",
   "execution_count": 18,
   "metadata": {
    "collapsed": false
   },
   "outputs": [],
   "source": [
    "def geojson_handler(file_path):\n",
    "    with open(file_path) as source:\n",
    "        data = json.load(source)\n",
    "    feature_type = data['features'][0]['geometry']['type']\n",
    "    return data"
   ]
  },
  {
   "cell_type": "code",
   "execution_count": 19,
   "metadata": {
    "collapsed": true
   },
   "outputs": [],
   "source": [
    "data = geojson_handler(ps.examples.get_path('virginia.json'))"
   ]
  },
  {
   "cell_type": "code",
   "execution_count": 20,
   "metadata": {
    "collapsed": false
   },
   "outputs": [
    {
     "data": {
      "text/plain": [
       "[u'crs', u'type', u'features']"
      ]
     },
     "execution_count": 20,
     "metadata": {},
     "output_type": "execute_result"
    }
   ],
   "source": [
    "data.keys()"
   ]
  },
  {
   "cell_type": "code",
   "execution_count": null,
   "metadata": {
    "collapsed": true
   },
   "outputs": [],
   "source": []
  },
  {
   "cell_type": "code",
   "execution_count": 21,
   "metadata": {
    "collapsed": false
   },
   "outputs": [
    {
     "data": {
      "text/plain": [
       "{'geometry': <collection.MultiPolygon object at 0x7f07686b0dd0>,\n",
       " 'properties': {u'CNTY_FIPS': u'069',\n",
       "  u'FIPS': u'51069',\n",
       "  u'Key': 1147,\n",
       "  u'NAME': u'Frederick',\n",
       "  u'POLY_ID': 1,\n",
       "  u'STATE_FIPS': u'51',\n",
       "  u'STATE_NAME': u'Virginia'}}"
      ]
     },
     "execution_count": 21,
     "metadata": {},
     "output_type": "execute_result"
    }
   ],
   "source": [
    "f0"
   ]
  },
  {
   "cell_type": "code",
   "execution_count": 22,
   "metadata": {
    "collapsed": false
   },
   "outputs": [
    {
     "data": {
      "text/plain": [
       "{'geometry': <collection.MultiPolygon object at 0x7f07686b0dd0>,\n",
       " 'properties': {u'CNTY_FIPS': u'069',\n",
       "  u'FIPS': u'51069',\n",
       "  u'Key': 1147,\n",
       "  u'NAME': u'Frederick',\n",
       "  u'POLY_ID': 1,\n",
       "  u'STATE_FIPS': u'51',\n",
       "  u'STATE_NAME': u'Virginia'}}"
      ]
     },
     "execution_count": 22,
     "metadata": {},
     "output_type": "execute_result"
    }
   ],
   "source": [
    "f0"
   ]
  },
  {
   "cell_type": "code",
   "execution_count": 23,
   "metadata": {
    "collapsed": false
   },
   "outputs": [
    {
     "name": "stdout",
     "output_type": "stream",
     "text": [
      "[100.0, 0.0, 101.0, 1.0]\n",
      "\n",
      "\n",
      "[100.0, 0.0, 103.0, 3.0]\n",
      "(100.0, 0.0, 101.0, 1.0)\n"
     ]
    },
    {
     "data": {
      "text/plain": [
       "'MultiPoint: [[100.0, 0.0], [101.0, 1.0]]'"
      ]
     },
     "execution_count": 23,
     "metadata": {},
     "output_type": "execute_result"
    }
   ],
   "source": [
    "c =  [\n",
    "      [ [100.0, 0.0], [101.0, 0.0], [101.0, 1.0], [100.0, 1.0], [100.0, 0.0] ],\n",
    "      [ [100.2, 0.2], [100.8, 0.2], [100.8, 0.8], [100.2, 0.8], [100.2, 0.2] ]\n",
    "      ]\n",
    "p = Polygon(c)\n",
    "p.coordinates\n",
    "print(p.bbox)\n",
    "p.bboxes\n",
    "\n",
    "c = [\n",
    "      [[[102.0, 2.0], [103.0, 2.0], [103.0, 3.0], [102.0, 3.0], [102.0, 2.0]]],\n",
    "      [[[100.0, 0.0], [101.0, 0.0], [101.0, 1.0], [100.0, 1.0], [100.0, 0.0]],\n",
    "       [[100.2, 0.2], [100.8, 0.2], [100.8, 0.8], [100.2, 0.8], [100.2, 0.2]]]\n",
    "      ]\n",
    "\n",
    "print(\"\\n\")\n",
    "mp = MultiPolygon(c)\n",
    "\n",
    "print(mp.bbox)\n",
    "\n",
    "c =  [ [100.0, 0.0], [101.0, 1.0] ]\n",
    "l = LineString(c)\n",
    "print(l.bbox)\n",
    "\n",
    "c = [\n",
    "        [ [100.0, 0.0], [101.0, 1.0] ],\n",
    "        [ [102.0, 2.0], [103.0, 3.0] ]\n",
    "      ]\n",
    "\n",
    "mls = MultiLineString(c)\n",
    "mls.bbox\n",
    "\n",
    "c = [100.0, 0.0]\n",
    "p = Point(c)\n",
    "p.bbox\n",
    "\n",
    "c = [ [100.0, 0.0], [101.0, 1.0] ]\n",
    "\n",
    "np.array(c).max(axis=0)\n",
    "mp = MultiPoint(c)\n",
    "mp.bbox\n",
    "\n",
    "c = [ [100.0, 0.0], [101.0, 1.0], [40, 7]]\n",
    "MultiPoint(c).bbox\n",
    "\n",
    "c = [ [100.0, 0.0, 20], [101.0, 1.0, 50], [40, 7, 10]]\n",
    "MultiPoint(c).bbox\n",
    "\n",
    "str(mp)"
   ]
  },
  {
   "cell_type": "code",
   "execution_count": 24,
   "metadata": {
    "collapsed": false
   },
   "outputs": [
    {
     "data": {
      "text/plain": [
       "'MultiPoint: [[100.0, 0.0], [101.0, 1.0]]'"
      ]
     },
     "execution_count": 24,
     "metadata": {},
     "output_type": "execute_result"
    }
   ],
   "source": [
    "str(mp)"
   ]
  },
  {
   "cell_type": "code",
   "execution_count": 25,
   "metadata": {
    "collapsed": true
   },
   "outputs": [],
   "source": [
    "geometryDispatcher = {}\n",
    "geometryDispatcher['Point'] = Point"
   ]
  },
  {
   "cell_type": "code",
   "execution_count": 28,
   "metadata": {
    "collapsed": false
   },
   "outputs": [
    {
     "data": {
      "text/plain": [
       "'MultiPolygon'"
      ]
     },
     "execution_count": 28,
     "metadata": {},
     "output_type": "execute_result"
    }
   ],
   "source": [
    "v.type"
   ]
  },
  {
   "cell_type": "code",
   "execution_count": 29,
   "metadata": {
    "collapsed": false
   },
   "outputs": [
    {
     "data": {
      "text/plain": [
       "'Point'"
      ]
     },
     "execution_count": 29,
     "metadata": {},
     "output_type": "execute_result"
    }
   ],
   "source": [
    "b.type"
   ]
  },
  {
   "cell_type": "code",
   "execution_count": 30,
   "metadata": {
    "collapsed": false
   },
   "outputs": [
    {
     "data": {
      "text/plain": [
       "<generator object <genexpr> at 0x7f0768588b40>"
      ]
     },
     "execution_count": 30,
     "metadata": {},
     "output_type": "execute_result"
    }
   ],
   "source": [
    "b.geometries"
   ]
  },
  {
   "cell_type": "code",
   "execution_count": 31,
   "metadata": {
    "collapsed": false
   },
   "outputs": [
    {
     "data": {
      "text/plain": [
       "'Polygon'"
      ]
     },
     "execution_count": 31,
     "metadata": {},
     "output_type": "execute_result"
    }
   ],
   "source": [
    "c.type"
   ]
  },
  {
   "cell_type": "code",
   "execution_count": 32,
   "metadata": {
    "collapsed": false
   },
   "outputs": [],
   "source": [
    "for g in c.geometries:\n",
    "    print g"
   ]
  },
  {
   "cell_type": "code",
   "execution_count": 33,
   "metadata": {
    "collapsed": false
   },
   "outputs": [
    {
     "data": {
      "text/plain": [
       "[5.87490701675415, 11.287420272827148, 10.788629531860352, 14.742449760437012]"
      ]
     },
     "execution_count": 33,
     "metadata": {},
     "output_type": "execute_result"
    }
   ],
   "source": [
    "c.bbox"
   ]
  },
  {
   "cell_type": "code",
   "execution_count": 34,
   "metadata": {
    "collapsed": false
   },
   "outputs": [
    {
     "data": {
      "text/plain": [
       "[255.0, 247.0, 335.0, 399.0]"
      ]
     },
     "execution_count": 34,
     "metadata": {},
     "output_type": "execute_result"
    }
   ],
   "source": [
    "b.bbox"
   ]
  },
  {
   "cell_type": "code",
   "execution_count": 39,
   "metadata": {
    "collapsed": false
   },
   "outputs": [
    {
     "data": {
      "text/plain": [
       "True"
      ]
     },
     "execution_count": 39,
     "metadata": {},
     "output_type": "execute_result"
    }
   ],
   "source": [
    "def bbox_overlap(A, B):\n",
    "    \"\"\"\n",
    "    Test if two bounding boxes overlap\n",
    "    \n",
    "    Arguments\n",
    "    ---------\n",
    "    A, B: list of [left, bottom, right, top]\n",
    "    \"\"\"\n",
    "    l = 0\n",
    "    b = 1\n",
    "    r = 2\n",
    "    t = 3\n",
    "    if A[b] > B[t] or A[t] < B[b] or A[r] < B[l] or A[l] > B[r]:\n",
    "        return False\n",
    "    else:\n",
    "        return True\n",
    "    \n",
    "b1 = [0,0, 10,10]\n",
    "b2 = [11,0, 10, 10]\n",
    "bbox_overlap(b1, b2)\n",
    "b2 = [5,5, 10, 10]\n",
    "bbox_overlap(b1, b2)\n",
    "b2 = [-5,5, -1, 10]\n",
    "bbox_overlap(b1, b2)\n",
    "b2 = [10,10, 20,20]\n",
    "bbox_overlap(b1, b2)\n",
    "\n"
   ]
  },
  {
   "cell_type": "code",
   "execution_count": 40,
   "metadata": {
    "collapsed": false
   },
   "outputs": [
    {
     "data": {
      "text/plain": [
       "<collection.FeatureCollection at 0x7f07686b09d0>"
      ]
     },
     "execution_count": 40,
     "metadata": {},
     "output_type": "execute_result"
    }
   ],
   "source": [
    "cfc"
   ]
  },
  {
   "cell_type": "code",
   "execution_count": 221,
   "metadata": {
    "collapsed": true
   },
   "outputs": [],
   "source": [
    "def contiguous(g1, g2, criterion='QUEEN'):\n",
    "    if not bbox_overlap(g1.bbox, g2.bbox):\n",
    "        return False\n",
    "    else:\n",
    "        #print('checking geometries')\n",
    "        if g1.type == g2.type:\n",
    "            #print('same types')\n",
    "            gtype = g1.type, g2.type\n",
    "            overlap = False\n",
    "            if g1.type == 'Polygon':\n",
    "                pairs = []\n",
    "                for i, bbox1 in enumerate(g1.bboxes):\n",
    "                    for j, bbox2 in enumerate(g2.bboxes):\n",
    "                        if bbox_overlap(bbox1, bbox2):\n",
    "                            overlap=True\n",
    "                            pairs.append((i,j))\n",
    "                            #break\n",
    "                #print('still in if broke out of 2fl')\n",
    "                #print pairs\n",
    "            elif g1.type == 'MultiPolygon':\n",
    "                #print 'mp'\n",
    "                pairs = []\n",
    "                for i, pi in enumerate(g1.bboxes):\n",
    "                    for ii, bi in enumerate(pi):\n",
    "                        for j, pj in enumerate(g2.bboxes):\n",
    "                            for jj, bj in enumerate(pj):\n",
    "                                if bbox_overlap(bi, bj):\n",
    "                                    overlap = True\n",
    "                                    pair = (i,ii,j,jj)\n",
    "                                    pairs.append(pair)\n",
    "                                    #break\n",
    "                #print(pairs)\n",
    "                #print('still in if broke out of 4fl')\n",
    "                if overlap:\n",
    "                    #print('explict check to be done')\n",
    "                    if criterion.lower()== 'queen':\n",
    "                        queen = False\n",
    "                        for pair in pairs:\n",
    "                            #print(pair)\n",
    "                            i, ii, j, jj = pair\n",
    "                            pi = g1.bboxes[i][ii]\n",
    "                            pj = g2.bboxes[j][jj]\n",
    "                            npi = len(pi)\n",
    "                            npj = len(pj)\n",
    "                            cis = [pi[l:l+2] for l in range(npi-1)]\n",
    "                            cjs = [pj[l:l+2] for l in range(npj-1)]\n",
    "                            iinj = [ci for ci in cis if ci in cjs]\n",
    "                            if iinj:\n",
    "                                queen = True\n",
    "                                break\n",
    "                        return queen\n",
    "                    else: # rook\n",
    "                        rook = False\n",
    "                        for pair in pairs:\n",
    "                            #print(pair)\n",
    "                            i, ii, j, jj = pair\n",
    "                            pi = g1.bboxes[i][ii]\n",
    "                            pj = g2.bboxes[j][jj]\n",
    "                            npi = len(pi)\n",
    "                            npj = len(pj)\n",
    "                            cis = [pi[l:l+2] for l in range(npi-1)]\n",
    "                            cjs = [pj[l:l+2] for l in range(npj-1)]\n",
    "                            iinj = [ci for ci in cis if ci in cjs]\n",
    "                            if iinj:\n",
    "                                ncis = len(cis)\n",
    "                                ncjs = len(cjs)\n",
    "                                eis = [sorted(cis[l:l+2]) for l in range(ncis-1)]\n",
    "                                ejs = [sorted(cjs[l:l+2]) for l in range(ncjs-1)]\n",
    "                                eiinj = [ei for ei in eis if ei in ejs]\n",
    "                                if eiinj:\n",
    "                                    rook = True\n",
    "                                    #print 'rook neighbors'\n",
    "                                    break\n",
    "                        return rook\n",
    "                else:\n",
    "                    return False\n",
    "                \n",
    "        else:\n",
    "            return False\n",
    "\n",
    "       "
   ]
  },
  {
   "cell_type": "code",
   "execution_count": 222,
   "metadata": {
    "collapsed": false
   },
   "outputs": [
    {
     "name": "stdout",
     "output_type": "stream",
     "text": [
      "True\n",
      "False\n"
     ]
    }
   ],
   "source": [
    "g41 = vfc.features[41]['geometry']\n",
    "g41c = vfc.features[41]['geometry']\n",
    "g0 = vfc.features[0]['geometry']\n",
    "print(contiguous(g41, g41c))\n",
    "print(contiguous(g0, g41))"
   ]
  },
  {
   "cell_type": "code",
   "execution_count": 224,
   "metadata": {
    "collapsed": false
   },
   "outputs": [
    {
     "name": "stdout",
     "output_type": "stream",
     "text": [
      "True\n"
     ]
    }
   ],
   "source": [
    "print(contiguous(g41, g41c, 'rook'))"
   ]
  },
  {
   "cell_type": "code",
   "execution_count": 225,
   "metadata": {
    "collapsed": false
   },
   "outputs": [
    {
     "data": {
      "text/plain": [
       "136"
      ]
     },
     "execution_count": 225,
     "metadata": {},
     "output_type": "execute_result"
    }
   ],
   "source": [
    "vfc.n_features"
   ]
  },
  {
   "cell_type": "code",
   "execution_count": null,
   "metadata": {
    "collapsed": true
   },
   "outputs": [],
   "source": [
    "neighbors = dict([(i,[]) for i in xrange(vfc.n_features)])\n",
    "for i in xrange(vfc.n_features - 1):\n",
    "    for j in xrange(i+1, vfc.n_features):"
   ]
  }
 ],
 "metadata": {
  "kernelspec": {
   "display_name": "Python 2",
   "language": "python",
   "name": "python2"
  },
  "language_info": {
   "codemirror_mode": {
    "name": "ipython",
    "version": 2
   },
   "file_extension": ".py",
   "mimetype": "text/x-python",
   "name": "python",
   "nbconvert_exporter": "python",
   "pygments_lexer": "ipython2",
   "version": "2.7.10"
  }
 },
 "nbformat": 4,
 "nbformat_minor": 0
}
