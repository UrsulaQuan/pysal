{
 "cells": [
  {
   "cell_type": "code",
   "execution_count": 1,
   "metadata": {
    "collapsed": false
   },
   "outputs": [],
   "source": [
    "import pysal as ps\n",
    "import numpy as np\n",
    "import json\n",
    "from collection import Point, MultiPoint, LineString, MultiLineString\n",
    "from collection import Polygon, MultiPolygon\n",
    "from collection import geometryDispatcher, FeatureCollection"
   ]
  },
  {
   "cell_type": "code",
   "execution_count": 2,
   "metadata": {
    "collapsed": false
   },
   "outputs": [
    {
     "data": {
      "text/plain": [
       "{'description': 'Virginia counties shapefile',\n",
       " 'explanation': ['  * virginia.shp: Shapefile',\n",
       "  '  * virginia.shx: shapefile index',\n",
       "  '  * virginia.dbf: attributes',\n",
       "  '  * virginia.prj: shapefile projection',\n",
       "  '  * virginia.json: geojson file'],\n",
       " 'name': 'virginia'}"
      ]
     },
     "execution_count": 2,
     "metadata": {},
     "output_type": "execute_result"
    }
   ],
   "source": [
    "ps.examples.explain('virginia')"
   ]
  },
  {
   "cell_type": "code",
   "execution_count": 3,
   "metadata": {
    "collapsed": false
   },
   "outputs": [],
   "source": [
    "fp = ps.examples.get_path('virginia.json')\n",
    "vfc = FeatureCollection(fp)"
   ]
  },
  {
   "cell_type": "code",
   "execution_count": 4,
   "metadata": {
    "collapsed": false
   },
   "outputs": [
    {
     "data": {
      "text/plain": [
       "{u'CNTY_FIPS': unicode,\n",
       " u'FIPS': unicode,\n",
       " u'Key': int,\n",
       " u'NAME': unicode,\n",
       " u'POLY_ID': int,\n",
       " u'STATE_FIPS': unicode,\n",
       " u'STATE_NAME': unicode}"
      ]
     },
     "execution_count": 4,
     "metadata": {},
     "output_type": "execute_result"
    }
   ],
   "source": [
    "vfc.getPropertyTypes()"
   ]
  },
  {
   "cell_type": "code",
   "execution_count": 5,
   "metadata": {
    "collapsed": false
   },
   "outputs": [
    {
     "data": {
      "text/plain": [
       "{u'CNTY_FIPS': u'069',\n",
       " u'FIPS': u'51069',\n",
       " u'Key': 1147,\n",
       " u'NAME': u'Frederick',\n",
       " u'POLY_ID': 1,\n",
       " u'STATE_FIPS': u'51',\n",
       " u'STATE_NAME': u'Virginia'}"
      ]
     },
     "execution_count": 5,
     "metadata": {},
     "output_type": "execute_result"
    }
   ],
   "source": [
    "f0 = vfc.features[0]\n",
    "f0['properties']"
   ]
  },
  {
   "cell_type": "code",
   "execution_count": 6,
   "metadata": {
    "collapsed": false
   },
   "outputs": [
    {
     "name": "stdout",
     "output_type": "stream",
     "text": [
      "MultiPolygon: 1 Polygon(s)\n"
     ]
    }
   ],
   "source": [
    "print(vfc.features[0]['geometry'])"
   ]
  },
  {
   "cell_type": "code",
   "execution_count": 7,
   "metadata": {
    "collapsed": true
   },
   "outputs": [
    {
     "name": "stdout",
     "output_type": "stream",
     "text": [
      "MultiPolygon: 1 Polygon(s)\n",
      "MultiPolygon: 1 Polygon(s)\n",
      "MultiPolygon: 1 Polygon(s)\n",
      "MultiPolygon: 1 Polygon(s)\n",
      "MultiPolygon: 1 Polygon(s)\n",
      "MultiPolygon: 1 Polygon(s)\n",
      "MultiPolygon: 1 Polygon(s)\n",
      "MultiPolygon: 1 Polygon(s)\n",
      "MultiPolygon: 1 Polygon(s)\n",
      "MultiPolygon: 1 Polygon(s)\n",
      "MultiPolygon: 1 Polygon(s)\n",
      "MultiPolygon: 1 Polygon(s)\n",
      "MultiPolygon: 1 Polygon(s)\n",
      "MultiPolygon: 1 Polygon(s)\n",
      "MultiPolygon: 1 Polygon(s)\n",
      "MultiPolygon: 1 Polygon(s)\n",
      "MultiPolygon: 1 Polygon(s)\n",
      "MultiPolygon: 1 Polygon(s)\n",
      "MultiPolygon: 1 Polygon(s)\n",
      "MultiPolygon: 1 Polygon(s)\n",
      "MultiPolygon: 1 Polygon(s)\n",
      "MultiPolygon: 1 Polygon(s)\n",
      "MultiPolygon: 1 Polygon(s)\n",
      "MultiPolygon: 1 Polygon(s)\n",
      "MultiPolygon: 1 Polygon(s)\n",
      "MultiPolygon: 1 Polygon(s)\n",
      "MultiPolygon: 1 Polygon(s)\n",
      "MultiPolygon: 1 Polygon(s)\n",
      "MultiPolygon: 1 Polygon(s)\n",
      "MultiPolygon: 1 Polygon(s)\n",
      "MultiPolygon: 1 Polygon(s)\n",
      "MultiPolygon: 1 Polygon(s)\n",
      "MultiPolygon: 1 Polygon(s)\n",
      "MultiPolygon: 1 Polygon(s)\n",
      "MultiPolygon: 1 Polygon(s)\n",
      "MultiPolygon: 1 Polygon(s)\n",
      "MultiPolygon: 1 Polygon(s)\n",
      "MultiPolygon: 1 Polygon(s)\n",
      "MultiPolygon: 1 Polygon(s)\n",
      "MultiPolygon: 1 Polygon(s)\n",
      "MultiPolygon: 1 Polygon(s)\n",
      "MultiPolygon: 2 Polygon(s)\n",
      "MultiPolygon: 1 Polygon(s)\n",
      "MultiPolygon: 1 Polygon(s)\n",
      "MultiPolygon: 1 Polygon(s)\n",
      "MultiPolygon: 1 Polygon(s)\n",
      "MultiPolygon: 1 Polygon(s)\n",
      "MultiPolygon: 1 Polygon(s)\n",
      "MultiPolygon: 1 Polygon(s)\n",
      "MultiPolygon: 1 Polygon(s)\n",
      "MultiPolygon: 1 Polygon(s)\n",
      "MultiPolygon: 1 Polygon(s)\n",
      "MultiPolygon: 1 Polygon(s)\n",
      "MultiPolygon: 1 Polygon(s)\n",
      "MultiPolygon: 1 Polygon(s)\n",
      "MultiPolygon: 1 Polygon(s)\n",
      "MultiPolygon: 1 Polygon(s)\n",
      "MultiPolygon: 1 Polygon(s)\n",
      "MultiPolygon: 1 Polygon(s)\n",
      "MultiPolygon: 1 Polygon(s)\n",
      "MultiPolygon: 1 Polygon(s)\n",
      "MultiPolygon: 1 Polygon(s)\n",
      "MultiPolygon: 1 Polygon(s)\n",
      "MultiPolygon: 1 Polygon(s)\n",
      "MultiPolygon: 1 Polygon(s)\n",
      "MultiPolygon: 1 Polygon(s)\n",
      "MultiPolygon: 1 Polygon(s)\n",
      "MultiPolygon: 1 Polygon(s)\n",
      "MultiPolygon: 1 Polygon(s)\n",
      "MultiPolygon: 1 Polygon(s)\n",
      "MultiPolygon: 1 Polygon(s)\n",
      "MultiPolygon: 1 Polygon(s)\n",
      "MultiPolygon: 1 Polygon(s)\n",
      "MultiPolygon: 1 Polygon(s)\n",
      "MultiPolygon: 1 Polygon(s)\n",
      "MultiPolygon: 1 Polygon(s)\n",
      "MultiPolygon: 1 Polygon(s)\n",
      "MultiPolygon: 1 Polygon(s)\n",
      "MultiPolygon: 1 Polygon(s)\n",
      "MultiPolygon: 1 Polygon(s)\n",
      "MultiPolygon: 1 Polygon(s)\n",
      "MultiPolygon: 1 Polygon(s)\n",
      "MultiPolygon: 1 Polygon(s)\n",
      "MultiPolygon: 1 Polygon(s)\n",
      "MultiPolygon: 1 Polygon(s)\n",
      "MultiPolygon: 1 Polygon(s)\n",
      "MultiPolygon: 1 Polygon(s)\n",
      "MultiPolygon: 1 Polygon(s)\n",
      "MultiPolygon: 1 Polygon(s)\n",
      "MultiPolygon: 1 Polygon(s)\n",
      "MultiPolygon: 1 Polygon(s)\n",
      "MultiPolygon: 1 Polygon(s)\n",
      "MultiPolygon: 1 Polygon(s)\n",
      "MultiPolygon: 1 Polygon(s)\n",
      "MultiPolygon: 1 Polygon(s)\n",
      "MultiPolygon: 1 Polygon(s)\n",
      "MultiPolygon: 1 Polygon(s)\n",
      "MultiPolygon: 1 Polygon(s)\n",
      "MultiPolygon: 1 Polygon(s)\n",
      "MultiPolygon: 1 Polygon(s)\n",
      "MultiPolygon: 1 Polygon(s)\n",
      "MultiPolygon: 1 Polygon(s)\n",
      "MultiPolygon: 1 Polygon(s)\n",
      "MultiPolygon: 1 Polygon(s)\n",
      "MultiPolygon: 1 Polygon(s)\n",
      "MultiPolygon: 1 Polygon(s)\n",
      "MultiPolygon: 1 Polygon(s)\n",
      "MultiPolygon: 1 Polygon(s)\n",
      "MultiPolygon: 1 Polygon(s)\n",
      "MultiPolygon: 1 Polygon(s)\n",
      "MultiPolygon: 1 Polygon(s)\n",
      "MultiPolygon: 1 Polygon(s)\n",
      "MultiPolygon: 1 Polygon(s)\n",
      "MultiPolygon: 1 Polygon(s)\n",
      "MultiPolygon: 1 Polygon(s)\n",
      "MultiPolygon: 1 Polygon(s)\n",
      "MultiPolygon: 1 Polygon(s)\n",
      "MultiPolygon: 1 Polygon(s)\n",
      "MultiPolygon: 1 Polygon(s)\n",
      "MultiPolygon: 1 Polygon(s)\n",
      "MultiPolygon: 1 Polygon(s)\n",
      "MultiPolygon: 1 Polygon(s)\n",
      "MultiPolygon: 1 Polygon(s)\n",
      "MultiPolygon: 1 Polygon(s)\n",
      "MultiPolygon: 1 Polygon(s)\n",
      "MultiPolygon: 1 Polygon(s)\n",
      "MultiPolygon: 1 Polygon(s)\n",
      "MultiPolygon: 2 Polygon(s)\n",
      "MultiPolygon: 1 Polygon(s)\n",
      "MultiPolygon: 1 Polygon(s)\n",
      "MultiPolygon: 1 Polygon(s)\n",
      "MultiPolygon: 1 Polygon(s)\n",
      "MultiPolygon: 1 Polygon(s)\n",
      "MultiPolygon: 1 Polygon(s)\n",
      "MultiPolygon: 1 Polygon(s)\n",
      "MultiPolygon: 1 Polygon(s)\n"
     ]
    }
   ],
   "source": [
    "for feature in vfc.features:\n",
    "    print(vfc.features[feature]['geometry'])"
   ]
  },
  {
   "cell_type": "code",
   "execution_count": 8,
   "metadata": {
    "collapsed": false
   },
   "outputs": [],
   "source": [
    "fp = ps.examples.get_path('columbus.json')\n",
    "cfc = FeatureCollection(fp)"
   ]
  },
  {
   "cell_type": "code",
   "execution_count": 9,
   "metadata": {
    "collapsed": false
   },
   "outputs": [
    {
     "name": "stdout",
     "output_type": "stream",
     "text": [
      "Polygon: 1 Rings, 0 Holes\n"
     ]
    }
   ],
   "source": [
    "print(cfc.features[0]['geometry'])"
   ]
  },
  {
   "cell_type": "code",
   "execution_count": 10,
   "metadata": {
    "collapsed": false
   },
   "outputs": [
    {
     "data": {
      "text/plain": [
       "{u'AREA': float,\n",
       " u'COLUMBUS_': float,\n",
       " u'COLUMBUS_I': float,\n",
       " u'CP': float,\n",
       " u'CRIME': float,\n",
       " u'DISCBD': float,\n",
       " u'EW': float,\n",
       " u'HOVAL': float,\n",
       " u'INC': float,\n",
       " u'NEIG': int,\n",
       " u'NEIGNO': float,\n",
       " u'NSA': float,\n",
       " u'NSB': float,\n",
       " u'OPEN': float,\n",
       " u'PERIMETER': float,\n",
       " u'PLUMB': float,\n",
       " u'POLYID': float,\n",
       " u'THOUS': float,\n",
       " u'X': float,\n",
       " u'Y': float}"
      ]
     },
     "execution_count": 10,
     "metadata": {},
     "output_type": "execute_result"
    }
   ],
   "source": [
    "cfc.getPropertyTypes()"
   ]
  },
  {
   "cell_type": "code",
   "execution_count": 11,
   "metadata": {
    "collapsed": false
   },
   "outputs": [],
   "source": [
    "X = cfc.getPropertiesAsArray(['AREA', 'CRIME'])"
   ]
  },
  {
   "cell_type": "code",
   "execution_count": 12,
   "metadata": {
    "collapsed": true
   },
   "outputs": [
    {
     "data": {
      "text/plain": [
       "[[0.309441, 15.72598],\n",
       " [0.259329, 18.801754],\n",
       " [0.192468, 30.626781],\n",
       " [0.083841, 32.38776],\n",
       " [0.488888, 50.73151],\n",
       " [0.283079, 26.066658],\n",
       " [0.257084, 0.178269],\n",
       " [0.204954, 38.425858],\n",
       " [0.500755, 30.515917],\n",
       " [0.246689, 34.000835],\n",
       " [0.041012, 62.275448],\n",
       " [0.035769, 56.705669],\n",
       " [0.034377, 46.716129],\n",
       " [0.060884, 57.066132],\n",
       " [0.106653, 48.585487],\n",
       " [0.093154, 54.838711],\n",
       " [0.102087, 36.868774],\n",
       " [0.055494, 43.962486],\n",
       " [0.061342, 54.521965],\n",
       " [0.444629, 0.223797],\n",
       " [0.699258, 40.074074],\n",
       " [0.192891, 33.705048],\n",
       " [0.24712, 20.048504],\n",
       " [0.192226, 38.297871],\n",
       " [0.17168, 61.299175],\n",
       " [0.107298, 40.969742],\n",
       " [0.137802, 52.79443],\n",
       " [0.174773, 56.919785],\n",
       " [0.085972, 60.750446],\n",
       " [0.104355, 68.892044],\n",
       " [0.117409, 17.677214],\n",
       " [0.18558, 19.145592],\n",
       " [0.087472, 41.968163],\n",
       " [0.226594, 23.974028],\n",
       " [0.175453, 39.175053],\n",
       " [0.17813, 14.305556],\n",
       " [0.121154, 42.445076],\n",
       " [0.053881, 53.710938],\n",
       " [0.174823, 19.100863],\n",
       " [0.302908, 16.241299],\n",
       " [0.137024, 18.905146],\n",
       " [0.266541, 16.49189],\n",
       " [0.060241, 36.663612],\n",
       " [0.173337, 25.962263],\n",
       " [0.256431, 29.028488],\n",
       " [0.124728, 16.530533],\n",
       " [0.245249, 27.822861],\n",
       " [0.069762, 26.645266],\n",
       " [0.205964, 22.541491]]"
      ]
     },
     "execution_count": 12,
     "metadata": {},
     "output_type": "execute_result"
    }
   ],
   "source": [
    "XL = cfc.getPropertiesAsLists(['AREA', 'CRIME'])\n",
    "XL"
   ]
  },
  {
   "cell_type": "code",
   "execution_count": 15,
   "metadata": {
    "collapsed": false
   },
   "outputs": [
    {
     "data": {
      "text/plain": [
       "<collection.Polygon object at 0x7f5a52df29d0>"
      ]
     },
     "execution_count": 15,
     "metadata": {},
     "output_type": "execute_result"
    }
   ],
   "source": [
    "cfc.features[0]['geometry']"
   ]
  },
  {
   "cell_type": "code",
   "execution_count": 16,
   "metadata": {
    "collapsed": false
   },
   "outputs": [
    {
     "data": {
      "text/plain": [
       "['_Geometry__bbox',\n",
       " '__class__',\n",
       " '__delattr__',\n",
       " '__dict__',\n",
       " '__doc__',\n",
       " '__format__',\n",
       " '__getattribute__',\n",
       " '__hash__',\n",
       " '__init__',\n",
       " '__module__',\n",
       " '__new__',\n",
       " '__reduce__',\n",
       " '__reduce_ex__',\n",
       " '__repr__',\n",
       " '__setattr__',\n",
       " '__sizeof__',\n",
       " '__str__',\n",
       " '__subclasshook__',\n",
       " '__weakref__',\n",
       " 'bbox',\n",
       " 'bboxes',\n",
       " 'build_bbox',\n",
       " 'coordinates',\n",
       " 'getbbox',\n",
       " 'setbbox',\n",
       " 'type']"
      ]
     },
     "execution_count": 16,
     "metadata": {},
     "output_type": "execute_result"
    }
   ],
   "source": [
    "dir(cfc.features[0]['geometry'])"
   ]
  },
  {
   "cell_type": "code",
   "execution_count": 17,
   "metadata": {
    "collapsed": false
   },
   "outputs": [
    {
     "data": {
      "text/plain": [
       "[[[8.624129295349121, 14.236980438232422],\n",
       "  [8.559700012207031, 14.742449760437012],\n",
       "  [8.809452056884766, 14.734430313110352],\n",
       "  [8.808412551879883, 14.636520385742188],\n",
       "  [8.919304847717285, 14.638500213623047],\n",
       "  [9.087138175964355, 14.63049030303955],\n",
       "  [9.09996509552002, 14.244830131530762],\n",
       "  [9.015047073364258, 14.241840362548828],\n",
       "  [9.008951187133789, 13.995059967041016],\n",
       "  [8.818140029907227, 14.002050399780273],\n",
       "  [8.653305053710938, 14.008090019226074],\n",
       "  [8.642902374267578, 14.089710235595703],\n",
       "  [8.63259220123291, 14.1705904006958],\n",
       "  [8.625825881958008, 14.22367000579834],\n",
       "  [8.624129295349121, 14.236980438232422]]]"
      ]
     },
     "execution_count": 17,
     "metadata": {},
     "output_type": "execute_result"
    }
   ],
   "source": [
    "cfc.features[0]['geometry'].coordinates"
   ]
  },
  {
   "cell_type": "code",
   "execution_count": 23,
   "metadata": {
    "collapsed": false
   },
   "outputs": [
    {
     "name": "stdout",
     "output_type": "stream",
     "text": [
      "[100.0, 0.0, 101.0, 1.0]\n",
      "\n",
      "\n",
      "[100.0, 0.0, 103.0, 3.0]\n",
      "(100.0, 0.0, 101.0, 1.0)\n"
     ]
    },
    {
     "data": {
      "text/plain": [
       "'MultiPoint: [[100.0, 0.0], [101.0, 1.0]]'"
      ]
     },
     "execution_count": 23,
     "metadata": {},
     "output_type": "execute_result"
    }
   ],
   "source": [
    "c =  [\n",
    "      [ [100.0, 0.0], [101.0, 0.0], [101.0, 1.0], [100.0, 1.0], [100.0, 0.0] ],\n",
    "      [ [100.2, 0.2], [100.8, 0.2], [100.8, 0.8], [100.2, 0.8], [100.2, 0.2] ]\n",
    "      ]\n",
    "p = Polygon(c)\n",
    "p.coordinates\n",
    "print(p.bbox)\n",
    "p.bboxes\n",
    "\n",
    "c = [\n",
    "      [[[102.0, 2.0], [103.0, 2.0], [103.0, 3.0], [102.0, 3.0], [102.0, 2.0]]],\n",
    "      [[[100.0, 0.0], [101.0, 0.0], [101.0, 1.0], [100.0, 1.0], [100.0, 0.0]],\n",
    "       [[100.2, 0.2], [100.8, 0.2], [100.8, 0.8], [100.2, 0.8], [100.2, 0.2]]]\n",
    "      ]\n",
    "\n",
    "print(\"\\n\")\n",
    "mp = MultiPolygon(c)\n",
    "\n",
    "print(mp.bbox)\n",
    "\n",
    "c =  [ [100.0, 0.0], [101.0, 1.0] ]\n",
    "l = LineString(c)\n",
    "print(l.bbox)\n",
    "\n",
    "c = [\n",
    "        [ [100.0, 0.0], [101.0, 1.0] ],\n",
    "        [ [102.0, 2.0], [103.0, 3.0] ]\n",
    "      ]\n",
    "\n",
    "mls = MultiLineString(c)\n",
    "mls.bbox\n",
    "\n",
    "c = [100.0, 0.0]\n",
    "p = Point(c)\n",
    "p.bbox\n",
    "\n",
    "c = [ [100.0, 0.0], [101.0, 1.0] ]\n",
    "\n",
    "np.array(c).max(axis=0)\n",
    "mp = MultiPoint(c)\n",
    "mp.bbox\n",
    "\n",
    "c = [ [100.0, 0.0], [101.0, 1.0], [40, 7]]\n",
    "MultiPoint(c).bbox\n",
    "\n",
    "c = [ [100.0, 0.0, 20], [101.0, 1.0, 50], [40, 7, 10]]\n",
    "MultiPoint(c).bbox\n",
    "\n",
    "str(mp)"
   ]
  },
  {
   "cell_type": "code",
   "execution_count": 33,
   "metadata": {
    "collapsed": false
   },
   "outputs": [
    {
     "data": {
      "text/plain": [
       "True"
      ]
     },
     "execution_count": 33,
     "metadata": {},
     "output_type": "execute_result"
    }
   ],
   "source": [
    "def bbox_overlap(A, B):\n",
    "    \"\"\"\n",
    "    Test if two bounding boxes overlap\n",
    "    \n",
    "    Arguments\n",
    "    ---------\n",
    "    A, B: list of [left, bottom, right, top]\n",
    "    \"\"\"\n",
    "    l = 0\n",
    "    b = 1\n",
    "    r = 2\n",
    "    t = 3\n",
    "    if A[b] > B[t] or A[t] < B[b] or A[r] < B[l] or A[l] > B[r]:\n",
    "        return False\n",
    "    else:\n",
    "        return True\n",
    "    \n",
    "b1 = [0,0, 10,10]\n",
    "b2 = [11,0, 10, 10]\n",
    "bbox_overlap(b1, b2)\n",
    "b2 = [5,5, 10, 10]\n",
    "bbox_overlap(b1, b2)\n",
    "b2 = [-5,5, -1, 10]\n",
    "bbox_overlap(b1, b2)\n",
    "b2 = [10,10, 20,20]\n",
    "bbox_overlap(b1, b2)\n",
    "\n"
   ]
  },
  {
   "cell_type": "code",
   "execution_count": 40,
   "metadata": {
    "collapsed": false
   },
   "outputs": [
    {
     "data": {
      "text/plain": [
       "<collection.FeatureCollection at 0x7f07686b09d0>"
      ]
     },
     "execution_count": 40,
     "metadata": {},
     "output_type": "execute_result"
    }
   ],
   "source": [
    "cfc = FeatureCollection()"
   ]
  },
  {
   "cell_type": "code",
   "execution_count": 99,
   "metadata": {
    "collapsed": false
   },
   "outputs": [],
   "source": [
    "a = range(3)\n",
    "b = range(5,6)\n",
    "common_vertices = [v for v in a if v in b]\n",
    "if common_vertices:\n",
    "    print True"
   ]
  },
  {
   "cell_type": "code",
   "execution_count": 101,
   "metadata": {
    "collapsed": true
   },
   "outputs": [],
   "source": [
    "def _queen(ring1, ring2):\n",
    "    common_vertices = [v for v in ring1 if v in ring2]\n",
    "    if common_vertices:\n",
    "        return True\n",
    "    return False\n",
    "    "
   ]
  },
  {
   "cell_type": "code",
   "execution_count": 104,
   "metadata": {
    "collapsed": false
   },
   "outputs": [
    {
     "data": {
      "text/plain": [
       "True"
      ]
     },
     "execution_count": 104,
     "metadata": {},
     "output_type": "execute_result"
    }
   ],
   "source": [
    "_queen(range(10), range(5,9))"
   ]
  },
  {
   "cell_type": "code",
   "execution_count": 106,
   "metadata": {
    "collapsed": false
   },
   "outputs": [
    {
     "data": {
      "text/plain": [
       "False"
      ]
     },
     "execution_count": 106,
     "metadata": {},
     "output_type": "execute_result"
    }
   ],
   "source": [
    "_queen(range(10), range(20,40))"
   ]
  },
  {
   "cell_type": "code",
   "execution_count": null,
   "metadata": {
    "collapsed": true
   },
   "outputs": [],
   "source": []
  },
  {
   "cell_type": "code",
   "execution_count": 137,
   "metadata": {
    "collapsed": false
   },
   "outputs": [],
   "source": [
    "def _queen(ring1, ring2):\n",
    "    common_vertices = [v for v in ring1 if v in ring2]\n",
    "    if common_vertices:\n",
    "        return True\n",
    "    return False\n",
    "    \n",
    "\n",
    "def _rook(ring1, ring2):\n",
    "    n1 = len(ring1)\n",
    "    n2 = len(ring2)\n",
    "    edges1 = [sorted(ring1[l:l+2]) for l in range(n1-1)]\n",
    "    edges2 = [sorted(ring2[l:l+2]) for l in range(n2-1)]\n",
    "    common_edges = [e for e in edges1 if e in edges2]\n",
    "    if common_edges:\n",
    "        return True\n",
    "    return False\n",
    "    \n",
    "def contiguous(g1, g2, criterion='QUEEN'):\n",
    "    \n",
    "    if g1.type != g2.type:\n",
    "        raise ValueError('Geometries must be of same type.')\n",
    "    elif not bbox_overlap(g1.bbox, g2.bbox):\n",
    "        # bounding box containing all g1 rings not overlapping that of g2\n",
    "        return False\n",
    "    else:\n",
    "        criterion = criterion.lower()\n",
    "        # check if the bounding boxes for any rings in g1 overlap with any rings in g2\n",
    "        overlap = False\n",
    "        if g1.type == 'Polygon':\n",
    "            # find all pairs where a ring from g1 and a ring from g2 have overlapping bbs\n",
    "            pairs = []\n",
    "            for i, bbox1 in enumerate(g1.bboxes):\n",
    "                for j, bbox2 in enumerate(g2.bboxes):\n",
    "                    if bbox_overlap(bbox1, bbox2):\n",
    "                        overlap=True\n",
    "                        pairs.append((i,j))\n",
    "            if overlap:\n",
    "                # search overlapping pairs and the first (if any) neighbor pair\n",
    "                for pair in pairs:\n",
    "                    i, j = pair\n",
    "                    pi = g1.coordinates[i]\n",
    "                    pj = g2.coordinates[j]\n",
    "                    if _queen(pi, pj):\n",
    "                        if criterion == 'queen':\n",
    "                            return True\n",
    "                        else:\n",
    "                            return _rook(pi, pj)\n",
    "                return False\n",
    "            else:\n",
    "                return False\n",
    "           \n",
    "        elif g1.type == 'MultiPolygon':\n",
    "            pairs = []\n",
    "            overlap = False\n",
    "            for i, pi in enumerate(g1.bboxes):\n",
    "                for ii, bi in enumerate(pi):\n",
    "                    for j, pj in enumerate(g2.bboxes):\n",
    "                        for jj, bj in enumerate(pj):\n",
    "                            if bbox_overlap(bi, bj):\n",
    "                                overlap = True\n",
    "                                pair = (i,ii,j,jj)\n",
    "                                pairs.append(pair)\n",
    "                                \n",
    "            if overlap:\n",
    "                for pair in pairs:\n",
    "                    i, ii, j, jj = pair\n",
    "                    pi = g1.coordinates[i][ii]\n",
    "                    pj = g2.coordinates[j][jj]\n",
    "                    if _queen(pi, pj):\n",
    "                        if criterion == 'queen':\n",
    "                            return  True \n",
    "                        else:\n",
    "                            return _rook(pi, pj)\n",
    "                return False\n",
    "            else:\n",
    "                return False\n",
    "        else:\n",
    "            return False\n",
    "\n",
    "       "
   ]
  },
  {
   "cell_type": "code",
   "execution_count": 138,
   "metadata": {
    "collapsed": true
   },
   "outputs": [],
   "source": [
    "cvc = FeatureCollection(ps.examples.get_path('columbus.json'))"
   ]
  },
  {
   "cell_type": "code",
   "execution_count": 139,
   "metadata": {
    "collapsed": false
   },
   "outputs": [
    {
     "name": "stdout",
     "output_type": "stream",
     "text": [
      "True\n",
      "False\n"
     ]
    }
   ],
   "source": [
    "g0 = cvc.features[0]['geometry']\n",
    "g1 = cvc.features[1]['geometry']\n",
    "g3 = cvc.features[3]['geometry']\n",
    "print(contiguous(g0, g1))\n",
    "print(contiguous(g0, g3))"
   ]
  },
  {
   "cell_type": "code",
   "execution_count": null,
   "metadata": {
    "collapsed": true
   },
   "outputs": [],
   "source": []
  },
  {
   "cell_type": "code",
   "execution_count": 140,
   "metadata": {
    "collapsed": true
   },
   "outputs": [],
   "source": [
    "fp = ps.examples.get_path('virginia.json')\n",
    "vfc = FeatureCollection(fp)"
   ]
  },
  {
   "cell_type": "code",
   "execution_count": 141,
   "metadata": {
    "collapsed": false
   },
   "outputs": [
    {
     "name": "stdout",
     "output_type": "stream",
     "text": [
      "True\n",
      "True\n"
     ]
    }
   ],
   "source": [
    "g0 = vfc.features[0]['geometry']\n",
    "g3 = vfc.features[3]['geometry']\n",
    "print(contiguous(g0, g3))\n",
    "g2 = vfc.features[2]['geometry']\n",
    "print(contiguous(g0, g2))\n",
    "g4 = vfc.features[4]"
   ]
  },
  {
   "cell_type": "code",
   "execution_count": 142,
   "metadata": {
    "collapsed": false
   },
   "outputs": [
    {
     "name": "stdout",
     "output_type": "stream",
     "text": [
      "(True, 'rook')\n"
     ]
    }
   ],
   "source": [
    "print(contiguous(g0, g2), 'rook')\n"
   ]
  },
  {
   "cell_type": "code",
   "execution_count": 143,
   "metadata": {
    "collapsed": false
   },
   "outputs": [
    {
     "name": "stdout",
     "output_type": "stream",
     "text": [
      "False\n"
     ]
    }
   ],
   "source": [
    "g1 = vfc.features[1]['geometry']\n",
    "print(contiguous(g0, g1))"
   ]
  },
  {
   "cell_type": "code",
   "execution_count": 144,
   "metadata": {
    "collapsed": false
   },
   "outputs": [
    {
     "data": {
      "text/plain": [
       "[[-78.00310516357422, 38.97920227050781],\n",
       " [-78.05608367919922, 39.019317626953125],\n",
       " [-78.09986877441406, 39.01412582397461],\n",
       " [-78.15458679199219, 39.040592193603516],\n",
       " [-78.15116882324219, 39.05602264404297],\n",
       " [-78.1089096069336, 39.10428237915039],\n",
       " [-78.0997543334961, 39.14466857910156],\n",
       " [-78.03360748291016, 39.26553726196289],\n",
       " [-77.83096313476562, 39.132076263427734],\n",
       " [-77.85400390625, 39.11252212524414],\n",
       " [-77.8639144897461, 39.07804489135742],\n",
       " [-77.88993072509766, 39.067543029785156],\n",
       " [-77.91468048095703, 39.04253387451172],\n",
       " [-77.93596649169922, 39.03656768798828],\n",
       " [-77.96187591552734, 39.01154327392578],\n",
       " [-78.00310516357422, 38.97920227050781]]"
      ]
     },
     "execution_count": 144,
     "metadata": {},
     "output_type": "execute_result"
    }
   ],
   "source": [
    "g2.coordinates[0][0]"
   ]
  },
  {
   "cell_type": "code",
   "execution_count": 145,
   "metadata": {
    "collapsed": true
   },
   "outputs": [],
   "source": [
    "f0 = vfc.features[0]\n",
    "f2 = vfc.features[2]"
   ]
  },
  {
   "cell_type": "code",
   "execution_count": 146,
   "metadata": {
    "collapsed": false
   },
   "outputs": [
    {
     "data": {
      "text/plain": [
       "[-78.53691864013672, 39.0107421875, -78.03360748291016, 39.45690155029297]"
      ]
     },
     "execution_count": 146,
     "metadata": {},
     "output_type": "execute_result"
    }
   ],
   "source": [
    "g0.bbox"
   ]
  },
  {
   "cell_type": "code",
   "execution_count": 147,
   "metadata": {
    "collapsed": false
   },
   "outputs": [
    {
     "data": {
      "text/plain": [
       "[-78.15458679199219, 38.97920227050781, -77.83096313476562, 39.26553726196289]"
      ]
     },
     "execution_count": 147,
     "metadata": {},
     "output_type": "execute_result"
    }
   ],
   "source": [
    "g2.bbox"
   ]
  },
  {
   "cell_type": "code",
   "execution_count": 148,
   "metadata": {
    "collapsed": false
   },
   "outputs": [
    {
     "data": {
      "text/plain": [
       "{'geometry': <collection.MultiPolygon object at 0x7f5a52e5f990>,\n",
       " 'properties': {u'CNTY_FIPS': u'043',\n",
       "  u'FIPS': u'51043',\n",
       "  u'Key': 1188,\n",
       "  u'NAME': u'Clarke',\n",
       "  u'POLY_ID': 3,\n",
       "  u'STATE_FIPS': u'51',\n",
       "  u'STATE_NAME': u'Virginia'}}"
      ]
     },
     "execution_count": 148,
     "metadata": {},
     "output_type": "execute_result"
    }
   ],
   "source": [
    "f2"
   ]
  },
  {
   "cell_type": "code",
   "execution_count": null,
   "metadata": {
    "collapsed": true
   },
   "outputs": [],
   "source": []
  },
  {
   "cell_type": "code",
   "execution_count": null,
   "metadata": {
    "collapsed": true
   },
   "outputs": [],
   "source": []
  },
  {
   "cell_type": "code",
   "execution_count": null,
   "metadata": {
    "collapsed": true
   },
   "outputs": [],
   "source": []
  },
  {
   "cell_type": "code",
   "execution_count": null,
   "metadata": {
    "collapsed": true
   },
   "outputs": [],
   "source": []
  },
  {
   "cell_type": "code",
   "execution_count": null,
   "metadata": {
    "collapsed": true
   },
   "outputs": [],
   "source": []
  },
  {
   "cell_type": "code",
   "execution_count": null,
   "metadata": {
    "collapsed": true
   },
   "outputs": [],
   "source": []
  },
  {
   "cell_type": "code",
   "execution_count": null,
   "metadata": {
    "collapsed": true
   },
   "outputs": [],
   "source": []
  },
  {
   "cell_type": "code",
   "execution_count": null,
   "metadata": {
    "collapsed": true
   },
   "outputs": [],
   "source": []
  },
  {
   "cell_type": "code",
   "execution_count": 149,
   "metadata": {
    "collapsed": false
   },
   "outputs": [],
   "source": [
    "# full enumeration check of contiguity\n",
    "# in practice we would filter the bounding boxes first and then only check overlapping pairs\n",
    "\n",
    "# virginia is a good test case as it has holes as well as embedded polygons (one polygons hole ring is another polygon's exterior ring)\n",
    "neighbors = dict([(i,[]) for i in xrange(vfc.n_features)])\n",
    "for i in xrange(vfc.n_features - 1):\n",
    "    gi = vfc.features[i]['geometry']\n",
    "    for j in xrange(i+1, vfc.n_features):\n",
    "            gj = vfc.features[j]['geometry']\n",
    "            if contiguous(gi, gj):\n",
    "                neighbors[i].append(j)\n",
    "                neighbors[j].append(i)\n"
   ]
  },
  {
   "cell_type": "code",
   "execution_count": 150,
   "metadata": {
    "collapsed": false
   },
   "outputs": [
    {
     "data": {
      "text/plain": [
       "{0: [2, 3, 4, 6],\n",
       " 1: [2, 5, 7, 8],\n",
       " 2: [0, 1, 6, 7],\n",
       " 3: [0],\n",
       " 4: [0, 6, 14, 15],\n",
       " 5: [1, 8, 9, 10, 11, 13],\n",
       " 6: [0, 2, 4, 7, 12, 15],\n",
       " 7: [1, 2, 6, 8, 12, 18, 20],\n",
       " 8: [1, 5, 7, 16, 17, 20],\n",
       " 9: [5, 10, 13],\n",
       " 10: [5, 9],\n",
       " 11: [5],\n",
       " 12: [6, 7, 15, 18, 19],\n",
       " 13: [5, 9],\n",
       " 14: [4, 15, 22, 23, 24, 30],\n",
       " 15: [4, 6, 12, 14, 19, 23],\n",
       " 16: [8, 17],\n",
       " 17: [8, 16],\n",
       " 18: [7, 12, 19, 20, 25, 26],\n",
       " 19: [12, 15, 18, 23, 25],\n",
       " 20: [7, 8, 18, 26, 27, 28, 32],\n",
       " 21: [22, 31],\n",
       " 22: [14, 21, 30, 31, 33, 37, 38, 40],\n",
       " 23: [14, 15, 19, 25, 30],\n",
       " 24: [14],\n",
       " 25: [18, 19, 23, 26, 30, 35],\n",
       " 26: [18, 20, 25, 28, 32, 35, 43],\n",
       " 27: [20, 29, 32, 34],\n",
       " 28: [20, 26],\n",
       " 29: [27, 34, 36, 42],\n",
       " 30: [14, 22, 23, 25, 35, 39, 40, 44, 55],\n",
       " 31: [21, 22, 38, 46],\n",
       " 32: [20, 26, 27, 34, 43, 45, 47],\n",
       " 33: [22],\n",
       " 34: [27, 29, 32, 36, 45, 56],\n",
       " 35: [25, 26, 30, 43, 44, 48],\n",
       " 36: [29, 34, 42, 50],\n",
       " 37: [22],\n",
       " 38: [22, 31, 40, 46, 51, 53, 54, 58, 63],\n",
       " 39: [30],\n",
       " 40: [22, 30, 38, 51, 55, 67],\n",
       " 41: [68],\n",
       " 42: [29, 36, 50],\n",
       " 43: [26, 32, 35, 47, 48, 59, 62],\n",
       " 44: [30, 35, 48, 55, 57],\n",
       " 45: [32, 34, 47, 56, 62, 65, 75],\n",
       " 46: [31, 38, 49, 52, 54, 61],\n",
       " 47: [32, 43, 45, 62],\n",
       " 48: [35, 43, 44, 57, 59, 60, 66],\n",
       " 49: [46],\n",
       " 50: [36, 42],\n",
       " 51: [38, 40, 63, 67, 74, 76],\n",
       " 52: [46],\n",
       " 53: [38],\n",
       " 54: [38, 46, 61, 63, 77],\n",
       " 55: [30, 40, 44, 57, 67, 78],\n",
       " 56: [34, 45, 65],\n",
       " 57: [44, 48, 55, 60, 71, 78],\n",
       " 58: [38],\n",
       " 59: [43, 48, 60, 62, 64, 66, 72],\n",
       " 60: [48, 57, 59, 66, 71],\n",
       " 61: [46, 54, 73, 77, 80],\n",
       " 62: [43, 45, 47, 59, 72, 75],\n",
       " 63: [38, 51, 54, 74, 76, 77, 81, 98, 104],\n",
       " 64: [59, 66],\n",
       " 65: [45, 56, 70, 75],\n",
       " 66: [48, 59, 60, 64, 71, 72, 83, 85, 90, 92, 95],\n",
       " 67: [40, 51, 55, 76, 78, 93],\n",
       " 68: [41],\n",
       " 69: [82, 88, 103],\n",
       " 70: [65],\n",
       " 71: [57, 60, 66, 78, 89, 92],\n",
       " 72: [59, 62, 66, 75, 83, 85, 94],\n",
       " 73: [61, 80, 87, 96],\n",
       " 74: [51, 63, 76],\n",
       " 75: [45, 62, 65, 72, 79, 91, 97],\n",
       " 76: [51, 63, 67, 74, 93, 104, 110],\n",
       " 77: [54, 61, 63, 80, 84, 86, 98, 105],\n",
       " 78: [55, 57, 67, 71, 89, 93, 106],\n",
       " 79: [75, 91, 97, 100, 108],\n",
       " 80: [61, 73, 77, 96, 101, 105],\n",
       " 81: [63],\n",
       " 82: [69, 87, 103, 112],\n",
       " 83: [66, 72, 85, 90, 92, 94, 95, 107],\n",
       " 84: [77],\n",
       " 85: [66, 72, 83],\n",
       " 86: [77],\n",
       " 87: [73, 82, 96, 109, 112],\n",
       " 88: [69, 99, 103],\n",
       " 89: [71, 78, 92, 106, 111],\n",
       " 90: [66, 83, 95],\n",
       " 91: [75, 79],\n",
       " 92: [66, 71, 83, 89, 95, 107, 111, 120],\n",
       " 93: [67, 76, 78, 106, 110, 121],\n",
       " 94: [72, 83, 102, 107, 113],\n",
       " 95: [66, 83, 90, 92],\n",
       " 96: [73, 80, 87, 101, 105, 109, 117],\n",
       " 97: [75, 79, 108],\n",
       " 98: [63, 77, 104, 105, 124, 126],\n",
       " 99: [88, 103, 115, 122, 123],\n",
       " 100: [79, 108],\n",
       " 101: [80, 96],\n",
       " 102: [94, 113, 119, 133],\n",
       " 103: [69, 82, 88, 99, 112, 118, 123],\n",
       " 104: [63, 76, 98, 110, 126, 134],\n",
       " 105: [77, 80, 96, 98, 117, 124],\n",
       " 106: [78, 89, 93, 111, 121],\n",
       " 107: [83, 92, 94, 113, 120],\n",
       " 108: [79, 97, 100],\n",
       " 109: [87, 96, 112, 117, 128],\n",
       " 110: [76, 93, 104, 121, 131],\n",
       " 111: [89, 92, 106, 120, 121],\n",
       " 112: [82, 87, 103, 109, 118, 128],\n",
       " 113: [94, 102, 107, 119, 120, 133],\n",
       " 114: [116, 125, 127],\n",
       " 115: [99],\n",
       " 116: [114, 125],\n",
       " 117: [96, 105, 109, 124, 128, 132],\n",
       " 118: [103, 112, 123, 128, 135],\n",
       " 119: [102, 113, 125, 127],\n",
       " 120: [92, 107, 111, 113, 129],\n",
       " 121: [93, 106, 110, 111],\n",
       " 122: [99, 123],\n",
       " 123: [99, 103, 118, 122],\n",
       " 124: [98, 105, 117, 126],\n",
       " 125: [114, 116, 119, 127],\n",
       " 126: [98, 104, 124, 130],\n",
       " 127: [114, 119, 125],\n",
       " 128: [109, 112, 117, 118, 132],\n",
       " 129: [120],\n",
       " 130: [126],\n",
       " 131: [110],\n",
       " 132: [117, 128],\n",
       " 133: [102, 113],\n",
       " 134: [104],\n",
       " 135: [118]}"
      ]
     },
     "execution_count": 150,
     "metadata": {},
     "output_type": "execute_result"
    }
   ],
   "source": [
    "neighbors"
   ]
  },
  {
   "cell_type": "code",
   "execution_count": null,
   "metadata": {
    "collapsed": true
   },
   "outputs": [],
   "source": []
  },
  {
   "cell_type": "code",
   "execution_count": null,
   "metadata": {
    "collapsed": true
   },
   "outputs": [],
   "source": []
  }
 ],
 "metadata": {
  "kernelspec": {
   "display_name": "Python 2",
   "language": "python",
   "name": "python2"
  },
  "language_info": {
   "codemirror_mode": {
    "name": "ipython",
    "version": 2
   },
   "file_extension": ".py",
   "mimetype": "text/x-python",
   "name": "python",
   "nbconvert_exporter": "python",
   "pygments_lexer": "ipython2",
   "version": "2.7.10"
  }
 },
 "nbformat": 4,
 "nbformat_minor": 0
}
