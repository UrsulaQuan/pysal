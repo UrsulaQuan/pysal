{
 "cells": [
  {
   "cell_type": "code",
   "execution_count": 193,
   "metadata": {
    "collapsed": false
   },
   "outputs": [
    {
     "name": "stdout",
     "output_type": "stream",
     "text": [
      "The autoreload extension is already loaded. To reload it, use:\n",
      "  %reload_ext autoreload\n"
     ]
    }
   ],
   "source": [
    "%load_ext autoreload\n",
    "%autoreload 2\n",
    "import pysal as ps\n",
    "import numpy as np\n",
    "import json\n",
    "from collection import Point, MultiPoint, LineString, MultiLineString\n",
    "from collection import Polygon, MultiPolygon\n",
    "from collection import geometryDispatcher, FeatureCollection"
   ]
  },
  {
   "cell_type": "code",
   "execution_count": 194,
   "metadata": {
    "collapsed": false
   },
   "outputs": [
    {
     "data": {
      "text/plain": [
       "{'description': 'Virginia counties shapefile',\n",
       " 'explanation': ['  * virginia.shp: Shapefile',\n",
       "  '  * virginia.shx: shapefile index',\n",
       "  '  * virginia.dbf: attributes',\n",
       "  '  * virginia.prj: shapefile projection',\n",
       "  '  * virginia.json: geojson file'],\n",
       " 'name': 'virginia'}"
      ]
     },
     "execution_count": 194,
     "metadata": {},
     "output_type": "execute_result"
    }
   ],
   "source": [
    "ps.examples.explain('virginia')"
   ]
  },
  {
   "cell_type": "code",
   "execution_count": 195,
   "metadata": {
    "collapsed": false
   },
   "outputs": [
    {
     "ename": "NotImplementedError",
     "evalue": "Must implement in subclass",
     "output_type": "error",
     "traceback": [
      "\u001b[1;31m---------------------------------------------------------------------------\u001b[0m",
      "\u001b[1;31mNotImplementedError\u001b[0m                       Traceback (most recent call last)",
      "\u001b[1;32m<ipython-input-195-b17515828642>\u001b[0m in \u001b[0;36m<module>\u001b[1;34m()\u001b[0m\n\u001b[0;32m      1\u001b[0m \u001b[0mfp\u001b[0m \u001b[1;33m=\u001b[0m \u001b[0mps\u001b[0m\u001b[1;33m.\u001b[0m\u001b[0mexamples\u001b[0m\u001b[1;33m.\u001b[0m\u001b[0mget_path\u001b[0m\u001b[1;33m(\u001b[0m\u001b[1;34m'virginia.json'\u001b[0m\u001b[1;33m)\u001b[0m\u001b[1;33m\u001b[0m\u001b[0m\n\u001b[1;32m----> 2\u001b[1;33m \u001b[0mvfc\u001b[0m \u001b[1;33m=\u001b[0m \u001b[0mFeatureCollection\u001b[0m\u001b[1;33m(\u001b[0m\u001b[0mfp\u001b[0m\u001b[1;33m)\u001b[0m\u001b[1;33m\u001b[0m\u001b[0m\n\u001b[0m",
      "\u001b[1;32m/home/serge/Dropbox/p/pysal/src/pysal/pysal/cg/collection.pyc\u001b[0m in \u001b[0;36m__init__\u001b[1;34m(self, file_path, idVariable)\u001b[0m\n\u001b[0;32m    209\u001b[0m             \u001b[0mfc\u001b[0m \u001b[1;33m=\u001b[0m \u001b[0mfeature\u001b[0m\u001b[1;33m[\u001b[0m\u001b[1;34m'geometry'\u001b[0m\u001b[1;33m]\u001b[0m\u001b[1;33m[\u001b[0m\u001b[1;34m'coordinates'\u001b[0m\u001b[1;33m]\u001b[0m\u001b[1;33m\u001b[0m\u001b[0m\n\u001b[0;32m    210\u001b[0m             \u001b[0mf\u001b[0m \u001b[1;33m=\u001b[0m \u001b[1;33m{\u001b[0m\u001b[1;33m}\u001b[0m\u001b[1;33m\u001b[0m\u001b[0m\n\u001b[1;32m--> 211\u001b[1;33m             \u001b[0mf\u001b[0m\u001b[1;33m[\u001b[0m\u001b[1;34m'geometry'\u001b[0m\u001b[1;33m]\u001b[0m \u001b[1;33m=\u001b[0m \u001b[0mgeometryDispatcher\u001b[0m\u001b[1;33m[\u001b[0m\u001b[0mft\u001b[0m\u001b[1;33m]\u001b[0m\u001b[1;33m(\u001b[0m\u001b[0mfc\u001b[0m\u001b[1;33m)\u001b[0m\u001b[1;33m\u001b[0m\u001b[0m\n\u001b[0m\u001b[0;32m    212\u001b[0m             \u001b[0mf\u001b[0m\u001b[1;33m[\u001b[0m\u001b[1;34m'properties'\u001b[0m\u001b[1;33m]\u001b[0m \u001b[1;33m=\u001b[0m \u001b[0mfeature\u001b[0m\u001b[1;33m[\u001b[0m\u001b[1;34m'properties'\u001b[0m\u001b[1;33m]\u001b[0m\u001b[1;33m\u001b[0m\u001b[0m\n\u001b[0;32m    213\u001b[0m             \u001b[0mfeatures\u001b[0m\u001b[1;33m[\u001b[0m\u001b[0mi\u001b[0m\u001b[1;33m]\u001b[0m \u001b[1;33m=\u001b[0m \u001b[0mf\u001b[0m\u001b[1;33m\u001b[0m\u001b[0m\n",
      "\u001b[1;32m/home/serge/Dropbox/p/pysal/src/pysal/pysal/cg/collection.pyc\u001b[0m in \u001b[0;36m__init__\u001b[1;34m(self, coordinates)\u001b[0m\n\u001b[0;32m    105\u001b[0m         \u001b[0mcoordinates\u001b[0m\u001b[1;33m:\u001b[0m \u001b[0mlist\u001b[0m \u001b[0mof\u001b[0m \u001b[0mPolygon\u001b[0m \u001b[0mcoordinates\u001b[0m\u001b[1;33m\u001b[0m\u001b[0m\n\u001b[0;32m    106\u001b[0m         \"\"\"\n\u001b[1;32m--> 107\u001b[1;33m         \u001b[0msuper\u001b[0m\u001b[1;33m(\u001b[0m\u001b[0mMultiPolygon\u001b[0m\u001b[1;33m,\u001b[0m \u001b[0mself\u001b[0m\u001b[1;33m)\u001b[0m\u001b[1;33m.\u001b[0m\u001b[0m__init__\u001b[0m\u001b[1;33m(\u001b[0m\u001b[0mcoordinates\u001b[0m\u001b[1;33m)\u001b[0m\u001b[1;33m\u001b[0m\u001b[0m\n\u001b[0m\u001b[0;32m    108\u001b[0m         \u001b[0mself\u001b[0m\u001b[1;33m.\u001b[0m\u001b[0mtype\u001b[0m \u001b[1;33m=\u001b[0m \u001b[1;34m'MultiPolygon'\u001b[0m\u001b[1;33m\u001b[0m\u001b[0m\n\u001b[0;32m    109\u001b[0m \u001b[1;33m\u001b[0m\u001b[0m\n",
      "\u001b[1;32m/home/serge/Dropbox/p/pysal/src/pysal/pysal/cg/collection.pyc\u001b[0m in \u001b[0;36m__init__\u001b[1;34m(self, coordinates, bbox, rep_point)\u001b[0m\n\u001b[0;32m     18\u001b[0m         \u001b[0mself\u001b[0m\u001b[1;33m.\u001b[0m\u001b[0msetbbox\u001b[0m\u001b[1;33m(\u001b[0m\u001b[0mbbox\u001b[0m\u001b[1;33m)\u001b[0m\u001b[1;33m\u001b[0m\u001b[0m\n\u001b[0;32m     19\u001b[0m         \u001b[0mself\u001b[0m\u001b[1;33m.\u001b[0m\u001b[0mtype\u001b[0m \u001b[1;33m=\u001b[0m \u001b[1;34m'Geometry'\u001b[0m\u001b[1;33m\u001b[0m\u001b[0m\n\u001b[1;32m---> 20\u001b[1;33m         \u001b[0mself\u001b[0m\u001b[1;33m.\u001b[0m\u001b[0mset_rep_point\u001b[0m\u001b[1;33m(\u001b[0m\u001b[0mrep_point\u001b[0m\u001b[1;33m)\u001b[0m\u001b[1;33m\u001b[0m\u001b[0m\n\u001b[0m\u001b[0;32m     21\u001b[0m \u001b[1;33m\u001b[0m\u001b[0m\n\u001b[0;32m     22\u001b[0m     \u001b[1;32mdef\u001b[0m \u001b[0m__str__\u001b[0m\u001b[1;33m(\u001b[0m\u001b[0mself\u001b[0m\u001b[1;33m)\u001b[0m\u001b[1;33m:\u001b[0m\u001b[1;33m\u001b[0m\u001b[0m\n",
      "\u001b[1;32m/home/serge/Dropbox/p/pysal/src/pysal/pysal/cg/collection.pyc\u001b[0m in \u001b[0;36mset_rep_point\u001b[1;34m(self, value)\u001b[0m\n\u001b[0;32m     40\u001b[0m     \u001b[1;32mdef\u001b[0m \u001b[0mset_rep_point\u001b[0m\u001b[1;33m(\u001b[0m\u001b[0mself\u001b[0m\u001b[1;33m,\u001b[0m \u001b[0mvalue\u001b[0m\u001b[1;33m=\u001b[0m\u001b[0mNone\u001b[0m\u001b[1;33m)\u001b[0m\u001b[1;33m:\u001b[0m\u001b[1;33m\u001b[0m\u001b[0m\n\u001b[0;32m     41\u001b[0m         \u001b[1;32mif\u001b[0m \u001b[0mvalue\u001b[0m \u001b[1;32mis\u001b[0m \u001b[0mNone\u001b[0m\u001b[1;33m:\u001b[0m\u001b[1;33m\u001b[0m\u001b[0m\n\u001b[1;32m---> 42\u001b[1;33m             \u001b[0mvalue\u001b[0m \u001b[1;33m=\u001b[0m \u001b[0mself\u001b[0m\u001b[1;33m.\u001b[0m\u001b[0mdo_rep_point\u001b[0m\u001b[1;33m(\u001b[0m\u001b[1;33m)\u001b[0m\u001b[1;33m\u001b[0m\u001b[0m\n\u001b[0m\u001b[0;32m     43\u001b[0m         \u001b[0mself\u001b[0m\u001b[1;33m.\u001b[0m\u001b[0m__representative_point\u001b[0m \u001b[1;33m=\u001b[0m \u001b[0mvalue\u001b[0m\u001b[1;33m\u001b[0m\u001b[0m\n\u001b[0;32m     44\u001b[0m \u001b[1;33m\u001b[0m\u001b[0m\n",
      "\u001b[1;32m/home/serge/Dropbox/p/pysal/src/pysal/pysal/cg/collection.pyc\u001b[0m in \u001b[0;36mdo_rep_point\u001b[1;34m(self)\u001b[0m\n\u001b[0;32m     49\u001b[0m \u001b[1;33m\u001b[0m\u001b[0m\n\u001b[0;32m     50\u001b[0m     \u001b[1;32mdef\u001b[0m \u001b[0mdo_rep_point\u001b[0m\u001b[1;33m(\u001b[0m\u001b[0mself\u001b[0m\u001b[1;33m)\u001b[0m\u001b[1;33m:\u001b[0m\u001b[1;33m\u001b[0m\u001b[0m\n\u001b[1;32m---> 51\u001b[1;33m         \u001b[1;32mraise\u001b[0m \u001b[0mNotImplementedError\u001b[0m\u001b[1;33m(\u001b[0m\u001b[1;34m'Must implement in subclass'\u001b[0m\u001b[1;33m)\u001b[0m\u001b[1;33m\u001b[0m\u001b[0m\n\u001b[0m\u001b[0;32m     52\u001b[0m \u001b[1;33m\u001b[0m\u001b[0m\n\u001b[0;32m     53\u001b[0m \u001b[1;33m\u001b[0m\u001b[0m\n",
      "\u001b[1;31mNotImplementedError\u001b[0m: Must implement in subclass"
     ]
    }
   ],
   "source": [
    "fp = ps.examples.get_path('virginia.json')\n",
    "vfc = FeatureCollection(fp)"
   ]
  },
  {
   "cell_type": "code",
   "execution_count": 187,
   "metadata": {
    "collapsed": false
   },
   "outputs": [],
   "source": [
    "vfc.idVariable"
   ]
  },
  {
   "cell_type": "code",
   "execution_count": 188,
   "metadata": {
    "collapsed": false
   },
   "outputs": [
    {
     "data": {
      "text/plain": [
       "{u'CNTY_FIPS': unicode,\n",
       " u'FIPS': unicode,\n",
       " u'Key': int,\n",
       " u'NAME': unicode,\n",
       " u'POLY_ID': int,\n",
       " u'STATE_FIPS': unicode,\n",
       " u'STATE_NAME': unicode}"
      ]
     },
     "execution_count": 188,
     "metadata": {},
     "output_type": "execute_result"
    }
   ],
   "source": [
    "vfc.getPropertyTypes()"
   ]
  },
  {
   "cell_type": "code",
   "execution_count": 189,
   "metadata": {
    "collapsed": true
   },
   "outputs": [],
   "source": [
    "vfc.idVariable = 'NAME'"
   ]
  },
  {
   "cell_type": "code",
   "execution_count": 190,
   "metadata": {
    "collapsed": false
   },
   "outputs": [
    {
     "data": {
      "text/plain": [
       "'NAME'"
      ]
     },
     "execution_count": 190,
     "metadata": {},
     "output_type": "execute_result"
    }
   ],
   "source": [
    "vfc.idVariable"
   ]
  },
  {
   "cell_type": "code",
   "execution_count": 191,
   "metadata": {
    "collapsed": false
   },
   "outputs": [],
   "source": [
    "vfc.saveAsGeoJson()"
   ]
  },
  {
   "cell_type": "code",
   "execution_count": 192,
   "metadata": {
    "collapsed": false
   },
   "outputs": [],
   "source": [
    "f = vfc.getFeatures(['Page'])"
   ]
  },
  {
   "cell_type": "code",
   "execution_count": 165,
   "metadata": {
    "collapsed": true
   },
   "outputs": [],
   "source": [
    "f = vfc.features[0]"
   ]
  },
  {
   "cell_type": "code",
   "execution_count": 167,
   "metadata": {
    "collapsed": false
   },
   "outputs": [
    {
     "data": {
      "text/plain": [
       "'MultiPolygon'"
      ]
     },
     "execution_count": 167,
     "metadata": {},
     "output_type": "execute_result"
    }
   ],
   "source": [
    "f['geometry'].type"
   ]
  },
  {
   "cell_type": "code",
   "execution_count": null,
   "metadata": {
    "collapsed": true
   },
   "outputs": [],
   "source": []
  },
  {
   "cell_type": "code",
   "execution_count": null,
   "metadata": {
    "collapsed": true
   },
   "outputs": [],
   "source": []
  },
  {
   "cell_type": "code",
   "execution_count": null,
   "metadata": {
    "collapsed": true
   },
   "outputs": [],
   "source": []
  },
  {
   "cell_type": "code",
   "execution_count": null,
   "metadata": {
    "collapsed": true
   },
   "outputs": [],
   "source": []
  },
  {
   "cell_type": "code",
   "execution_count": 141,
   "metadata": {
    "collapsed": false
   },
   "outputs": [
    {
     "name": "stdout",
     "output_type": "stream",
     "text": [
      "{'geometry': <collection.MultiPolygon object at 0x7fb2200e6e50>, 'properties': {u'STATE_NAME': u'Virginia', u'CNTY_FIPS': u'139', u'STATE_FIPS': u'51', u'FIPS': u'51139', u'Key': 1303, u'POLY_ID': 16, u'NAME': u'Page'}}\n",
      "{'geometry': <collection.MultiPolygon object at 0x7fb2200e68d0>, 'properties': {u'STATE_NAME': u'Virginia', u'CNTY_FIPS': u'059', u'STATE_FIPS': u'51', u'FIPS': u'51059', u'Key': 1245, u'POLY_ID': 6, u'NAME': u'Fairfax'}}\n",
      "{'geometry': <collection.MultiPolygon object at 0x7fb2200e6910>, 'properties': {u'STATE_NAME': u'Virginia', u'CNTY_FIPS': u'013', u'STATE_FIPS': u'51', u'FIPS': u'51013', u'Key': 1273, u'POLY_ID': 10, u'NAME': u'Arlington'}}\n"
     ]
    }
   ],
   "source": [
    "g = vfc.getFeatures(['Page', 'Fairfax', 'Arlington'])\n",
    "for i in g:\n",
    "    print i"
   ]
  },
  {
   "cell_type": "code",
   "execution_count": 143,
   "metadata": {
    "collapsed": false
   },
   "outputs": [
    {
     "name": "stdout",
     "output_type": "stream",
     "text": [
      "{'geometry': <collection.MultiPolygon object at 0x7fb2200e6910>, 'properties': {u'STATE_NAME': u'Virginia', u'CNTY_FIPS': u'013', u'STATE_FIPS': u'51', u'FIPS': u'51013', u'Key': 1273, u'POLY_ID': 10, u'NAME': u'Arlington'}}\n"
     ]
    }
   ],
   "source": [
    "print i"
   ]
  },
  {
   "cell_type": "code",
   "execution_count": 153,
   "metadata": {
    "collapsed": false
   },
   "outputs": [
    {
     "name": "stdout",
     "output_type": "stream",
     "text": [
      "['_Geometry__bbox', '__class__', '__delattr__', '__dict__', '__doc__', '__format__', '__getattribute__', '__hash__', '__init__', '__module__', '__new__', '__reduce__', '__reduce_ex__', '__repr__', '__setattr__', '__sizeof__', '__str__', '__subclasshook__', '__weakref__', 'bbox', 'bboxes', 'build_bbox', 'coordinates', 'getbbox', 'setbbox', 'type']\n",
      "MultiPolygon: 1 Polygon(s)\n",
      "[[[[-78.45457458496094, 38.471622467041016], [-78.48970794677734, 38.418312072753906], [-78.5286636352539, 38.432044982910156], [-78.55210876464844, 38.42822265625], [-78.56295013427734, 38.446712493896484], [-78.62614440917969, 38.46745300292969], [-78.6330337524414, 38.49458694458008], [-78.66011810302734, 38.49705505371094], [-78.68267059326172, 38.50998306274414], [-78.685791015625, 38.52083206176758], [-78.64540100097656, 38.60869598388672], [-78.62451171875, 38.62882995605469], [-78.58843994140625, 38.69895553588867], [-78.55235290527344, 38.731449127197266], [-78.51449584960938, 38.72406005859375], [-78.48053741455078, 38.742919921875], [-78.44042205810547, 38.78900909423828], [-78.38953399658203, 38.827911376953125], [-78.32888793945312, 38.79297637939453], [-78.29279327392578, 38.7855110168457], [-78.28011322021484, 38.759300231933594], [-78.28643035888672, 38.742942810058594], [-78.31819915771484, 38.734580993652344], [-78.32633972167969, 38.72410202026367], [-78.33148956298828, 38.71046829223633], [-78.32180786132812, 38.688323974609375], [-78.32257843017578, 38.65251541137695], [-78.34112548828125, 38.62519454956055], [-78.35814666748047, 38.62009048461914], [-78.38662719726562, 38.58861541748047], [-78.39620208740234, 38.553646087646484], [-78.4469985961914, 38.52244186401367], [-78.45457458496094, 38.471622467041016]]]]\n",
      "['_Geometry__bbox', '__class__', '__delattr__', '__dict__', '__doc__', '__format__', '__getattribute__', '__hash__', '__init__', '__module__', '__new__', '__reduce__', '__reduce_ex__', '__repr__', '__setattr__', '__sizeof__', '__str__', '__subclasshook__', '__weakref__', 'bbox', 'bboxes', 'build_bbox', 'coordinates', 'getbbox', 'setbbox', 'type']\n",
      "MultiPolygon: 1 Polygon(s)\n",
      "[[[[-77.04544830322266, 38.78812026977539], [-77.04647064208984, 38.718780517578125], [-77.05712127685547, 38.71202087402344], [-77.08187866210938, 38.71527862548828], [-77.09314727783203, 38.703983306884766], [-77.12511444091797, 38.677799224853516], [-77.12998962402344, 38.64812469482422], [-77.19725799560547, 38.62269973754883], [-77.19474792480469, 38.6607666015625], [-77.22759246826172, 38.65072250366211], [-77.2712631225586, 38.690391540527344], [-77.31426239013672, 38.70405960083008], [-77.32837677001953, 38.71994400024414], [-77.35903930664062, 38.72406005859375], [-77.38087463378906, 38.71592712402344], [-77.38436889648438, 38.744483947753906], [-77.39910125732422, 38.753562927246094], [-77.40619659423828, 38.74223709106445], [-77.41386413574219, 38.744056701660156], [-77.42799377441406, 38.778961181640625], [-77.44922637939453, 38.79710388183594], [-77.4970474243164, 38.79167556762695], [-77.49527740478516, 38.81071090698242], [-77.50531768798828, 38.815696716308594], [-77.50945281982422, 38.8410758972168], [-77.529541015625, 38.83427810668945], [-77.53840637207031, 38.850589752197266], [-77.32460021972656, 39.06258773803711], [-77.25598907470703, 39.02757263183594], [-77.24372863769531, 38.97587966918945], [-77.15204620361328, 38.964778900146484], [-77.12262725830078, 38.93206024169922], [-77.17781066894531, 38.8936882019043], [-77.19853210449219, 38.88603591918945], [-77.19564819335938, 38.868804931640625], [-77.1548843383789, 38.864620208740234], [-77.14657592773438, 38.87275314331055], [-77.11419677734375, 38.848182678222656], [-77.14563751220703, 38.82244110107422], [-77.1416244506836, 38.79795455932617], [-77.09672546386719, 38.80280303955078], [-77.04544830322266, 38.78812026977539]], [[-77.2913818359375, 38.869911193847656], [-77.29672241210938, 38.862667083740234], [-77.34518432617188, 38.85820388793945], [-77.35231018066406, 38.84098815917969], [-77.29210662841797, 38.821414947509766], [-77.28204345703125, 38.83091354370117], [-77.26609802246094, 38.82907485961914], [-77.26361083984375, 38.868045806884766], [-77.2913818359375, 38.869911193847656]]]]\n",
      "['_Geometry__bbox', '__class__', '__delattr__', '__dict__', '__doc__', '__format__', '__getattribute__', '__hash__', '__init__', '__module__', '__new__', '__reduce__', '__reduce_ex__', '__repr__', '__setattr__', '__sizeof__', '__str__', '__subclasshook__', '__weakref__', 'bbox', 'bboxes', 'build_bbox', 'coordinates', 'getbbox', 'setbbox', 'type']\n",
      "MultiPolygon: 1 Polygon(s)\n",
      "[[[[-77.12262725830078, 38.93206024169922], [-77.07894897460938, 38.91559982299805], [-77.06788635253906, 38.88610076904297], [-77.03907775878906, 38.862430572509766], [-77.0404052734375, 38.83841323852539], [-77.08641815185547, 38.85081100463867], [-77.10655975341797, 38.8404541015625], [-77.11419677734375, 38.848182678222656], [-77.14657592773438, 38.87275314331055], [-77.17781066894531, 38.8936882019043], [-77.12262725830078, 38.93206024169922]]]]\n"
     ]
    }
   ],
   "source": [
    "g = vfc.getGeometries(['Page', 'Fairfax', 'Arlington'])\n",
    "for i in g:\n",
    "    print(dir(i))\n",
    "    print(i)\n",
    "    print(i.coordinates)\n",
    "    "
   ]
  },
  {
   "cell_type": "code",
   "execution_count": 151,
   "metadata": {
    "collapsed": false
   },
   "outputs": [
    {
     "name": "stdout",
     "output_type": "stream",
     "text": [
      "MultiPolygon: 1 Polygon(s)\n",
      "[[[[-78.45457458496094, 38.471622467041016], [-78.48970794677734, 38.418312072753906], [-78.5286636352539, 38.432044982910156], [-78.55210876464844, 38.42822265625], [-78.56295013427734, 38.446712493896484], [-78.62614440917969, 38.46745300292969], [-78.6330337524414, 38.49458694458008], [-78.66011810302734, 38.49705505371094], [-78.68267059326172, 38.50998306274414], [-78.685791015625, 38.52083206176758], [-78.64540100097656, 38.60869598388672], [-78.62451171875, 38.62882995605469], [-78.58843994140625, 38.69895553588867], [-78.55235290527344, 38.731449127197266], [-78.51449584960938, 38.72406005859375], [-78.48053741455078, 38.742919921875], [-78.44042205810547, 38.78900909423828], [-78.38953399658203, 38.827911376953125], [-78.32888793945312, 38.79297637939453], [-78.29279327392578, 38.7855110168457], [-78.28011322021484, 38.759300231933594], [-78.28643035888672, 38.742942810058594], [-78.31819915771484, 38.734580993652344], [-78.32633972167969, 38.72410202026367], [-78.33148956298828, 38.71046829223633], [-78.32180786132812, 38.688323974609375], [-78.32257843017578, 38.65251541137695], [-78.34112548828125, 38.62519454956055], [-78.35814666748047, 38.62009048461914], [-78.38662719726562, 38.58861541748047], [-78.39620208740234, 38.553646087646484], [-78.4469985961914, 38.52244186401367], [-78.45457458496094, 38.471622467041016]]]]\n",
      "MultiPolygon: 1 Polygon(s)\n",
      "[[[[-77.04544830322266, 38.78812026977539], [-77.04647064208984, 38.718780517578125], [-77.05712127685547, 38.71202087402344], [-77.08187866210938, 38.71527862548828], [-77.09314727783203, 38.703983306884766], [-77.12511444091797, 38.677799224853516], [-77.12998962402344, 38.64812469482422], [-77.19725799560547, 38.62269973754883], [-77.19474792480469, 38.6607666015625], [-77.22759246826172, 38.65072250366211], [-77.2712631225586, 38.690391540527344], [-77.31426239013672, 38.70405960083008], [-77.32837677001953, 38.71994400024414], [-77.35903930664062, 38.72406005859375], [-77.38087463378906, 38.71592712402344], [-77.38436889648438, 38.744483947753906], [-77.39910125732422, 38.753562927246094], [-77.40619659423828, 38.74223709106445], [-77.41386413574219, 38.744056701660156], [-77.42799377441406, 38.778961181640625], [-77.44922637939453, 38.79710388183594], [-77.4970474243164, 38.79167556762695], [-77.49527740478516, 38.81071090698242], [-77.50531768798828, 38.815696716308594], [-77.50945281982422, 38.8410758972168], [-77.529541015625, 38.83427810668945], [-77.53840637207031, 38.850589752197266], [-77.32460021972656, 39.06258773803711], [-77.25598907470703, 39.02757263183594], [-77.24372863769531, 38.97587966918945], [-77.15204620361328, 38.964778900146484], [-77.12262725830078, 38.93206024169922], [-77.17781066894531, 38.8936882019043], [-77.19853210449219, 38.88603591918945], [-77.19564819335938, 38.868804931640625], [-77.1548843383789, 38.864620208740234], [-77.14657592773438, 38.87275314331055], [-77.11419677734375, 38.848182678222656], [-77.14563751220703, 38.82244110107422], [-77.1416244506836, 38.79795455932617], [-77.09672546386719, 38.80280303955078], [-77.04544830322266, 38.78812026977539]], [[-77.2913818359375, 38.869911193847656], [-77.29672241210938, 38.862667083740234], [-77.34518432617188, 38.85820388793945], [-77.35231018066406, 38.84098815917969], [-77.29210662841797, 38.821414947509766], [-77.28204345703125, 38.83091354370117], [-77.26609802246094, 38.82907485961914], [-77.26361083984375, 38.868045806884766], [-77.2913818359375, 38.869911193847656]]]]\n",
      "MultiPolygon: 1 Polygon(s)\n",
      "[[[[-77.12262725830078, 38.93206024169922], [-77.07894897460938, 38.91559982299805], [-77.06788635253906, 38.88610076904297], [-77.03907775878906, 38.862430572509766], [-77.0404052734375, 38.83841323852539], [-77.08641815185547, 38.85081100463867], [-77.10655975341797, 38.8404541015625], [-77.11419677734375, 38.848182678222656], [-77.14657592773438, 38.87275314331055], [-77.17781066894531, 38.8936882019043], [-77.12262725830078, 38.93206024169922]]]]\n"
     ]
    }
   ],
   "source": [
    "for i in g:\n",
    "    print(i)\n",
    "    print(i.coordinates)\n",
    "    p"
   ]
  },
  {
   "cell_type": "code",
   "execution_count": null,
   "metadata": {
    "collapsed": true
   },
   "outputs": [],
   "source": []
  },
  {
   "cell_type": "code",
   "execution_count": null,
   "metadata": {
    "collapsed": true
   },
   "outputs": [],
   "source": []
  },
  {
   "cell_type": "code",
   "execution_count": 126,
   "metadata": {
    "collapsed": false
   },
   "outputs": [
    {
     "name": "stdout",
     "output_type": "stream",
     "text": [
      "{'geometry': <collection.MultiPolygon object at 0x7fb2201cc610>, 'properties': {u'STATE_NAME': u'Virginia', u'CNTY_FIPS': u'069', u'STATE_FIPS': u'51', u'FIPS': u'51069', u'Key': 1147, u'POLY_ID': 1, u'NAME': u'Frederick'}}\n",
      "{'geometry': <collection.MultiPolygon object at 0x7fb2201cc090>, 'properties': {u'STATE_NAME': u'Virginia', u'CNTY_FIPS': u'107', u'STATE_FIPS': u'51', u'FIPS': u'51107', u'Key': 1177, u'POLY_ID': 2, u'NAME': u'Loudoun'}}\n",
      "{'geometry': <collection.MultiPolygon object at 0x7fb2201cc190>, 'properties': {u'STATE_NAME': u'Virginia', u'CNTY_FIPS': u'043', u'STATE_FIPS': u'51', u'FIPS': u'51043', u'Key': 1188, u'POLY_ID': 3, u'NAME': u'Clarke'}}\n",
      "{'geometry': <collection.MultiPolygon object at 0x7fb2201cc150>, 'properties': {u'STATE_NAME': u'Virginia', u'CNTY_FIPS': u'840', u'STATE_FIPS': u'51', u'FIPS': u'51840', u'Key': 1207, u'POLY_ID': 4, u'NAME': u'Winchester'}}\n",
      "{'geometry': <collection.MultiPolygon object at 0x7fb2201cc710>, 'properties': {u'STATE_NAME': u'Virginia', u'CNTY_FIPS': u'171', u'STATE_FIPS': u'51', u'FIPS': u'51171', u'Key': 1237, u'POLY_ID': 5, u'NAME': u'Shenandoah'}}\n",
      "{'geometry': <collection.MultiPolygon object at 0x7fb2201cc110>, 'properties': {u'STATE_NAME': u'Virginia', u'CNTY_FIPS': u'059', u'STATE_FIPS': u'51', u'FIPS': u'51059', u'Key': 1245, u'POLY_ID': 6, u'NAME': u'Fairfax'}}\n",
      "{'geometry': <collection.MultiPolygon object at 0x7fb2201cc750>, 'properties': {u'STATE_NAME': u'Virginia', u'CNTY_FIPS': u'187', u'STATE_FIPS': u'51', u'FIPS': u'51187', u'Key': 1252, u'POLY_ID': 7, u'NAME': u'Warren'}}\n",
      "{'geometry': <collection.MultiPolygon object at 0x7fb2201cc6d0>, 'properties': {u'STATE_NAME': u'Virginia', u'CNTY_FIPS': u'061', u'STATE_FIPS': u'51', u'FIPS': u'51061', u'Key': 1259, u'POLY_ID': 8, u'NAME': u'Fauquier'}}\n",
      "{'geometry': <collection.MultiPolygon object at 0x7fb2201cc410>, 'properties': {u'STATE_NAME': u'Virginia', u'CNTY_FIPS': u'153', u'STATE_FIPS': u'51', u'FIPS': u'51153', u'Key': 1271, u'POLY_ID': 9, u'NAME': u'Prince William'}}\n",
      "{'geometry': <collection.MultiPolygon object at 0x7fb2201cc3d0>, 'properties': {u'STATE_NAME': u'Virginia', u'CNTY_FIPS': u'013', u'STATE_FIPS': u'51', u'FIPS': u'51013', u'Key': 1273, u'POLY_ID': 10, u'NAME': u'Arlington'}}\n",
      "{'geometry': <collection.MultiPolygon object at 0x7fb2201cbd50>, 'properties': {u'STATE_NAME': u'Virginia', u'CNTY_FIPS': u'610', u'STATE_FIPS': u'51', u'FIPS': u'51610', u'Key': 1284, u'POLY_ID': 11, u'NAME': u'Falls Chruch'}}\n",
      "{'geometry': <collection.MultiPolygon object at 0x7fb220242b90>, 'properties': {u'STATE_NAME': u'Virginia', u'CNTY_FIPS': u'600', u'STATE_FIPS': u'51', u'FIPS': u'51600', u'Key': 1287, u'POLY_ID': 12, u'NAME': u'Fairfax City'}}\n",
      "{'geometry': <collection.MultiPolygon object at 0x7fb220242ad0>, 'properties': {u'STATE_NAME': u'Virginia', u'CNTY_FIPS': u'157', u'STATE_FIPS': u'51', u'FIPS': u'51157', u'Key': 1292, u'POLY_ID': 13, u'NAME': u'Rappahannock'}}\n",
      "{'geometry': <collection.MultiPolygon object at 0x7fb220242b10>, 'properties': {u'STATE_NAME': u'Virginia', u'CNTY_FIPS': u'510', u'STATE_FIPS': u'51', u'FIPS': u'51510', u'Key': 1297, u'POLY_ID': 14, u'NAME': u'Alexandria'}}\n",
      "{'geometry': <collection.MultiPolygon object at 0x7fb220242a10>, 'properties': {u'STATE_NAME': u'Virginia', u'CNTY_FIPS': u'165', u'STATE_FIPS': u'51', u'FIPS': u'51165', u'Key': 1298, u'POLY_ID': 15, u'NAME': u'Rockingham'}}\n",
      "{'geometry': <collection.MultiPolygon object at 0x7fb220242990>, 'properties': {u'STATE_NAME': u'Virginia', u'CNTY_FIPS': u'139', u'STATE_FIPS': u'51', u'FIPS': u'51139', u'Key': 1303, u'POLY_ID': 16, u'NAME': u'Page'}}\n",
      "{'geometry': <collection.MultiPolygon object at 0x7fb220242fd0>, 'properties': {u'STATE_NAME': u'Virginia', u'CNTY_FIPS': u'685', u'STATE_FIPS': u'51', u'FIPS': u'51685', u'Key': 1307, u'POLY_ID': 17, u'NAME': u'Manassas Park City'}}\n",
      "{'geometry': <collection.MultiPolygon object at 0x7fb220242f90>, 'properties': {u'STATE_NAME': u'Virginia', u'CNTY_FIPS': u'683', u'STATE_FIPS': u'51', u'FIPS': u'51683', u'Key': 1309, u'POLY_ID': 18, u'NAME': u'Manassas City'}}\n",
      "{'geometry': <collection.MultiPolygon object at 0x7fb220242f50>, 'properties': {u'STATE_NAME': u'Virginia', u'CNTY_FIPS': u'047', u'STATE_FIPS': u'51', u'FIPS': u'51047', u'Key': 1331, u'POLY_ID': 19, u'NAME': u'Culpeper'}}\n",
      "{'geometry': <collection.MultiPolygon object at 0x7fb220242f10>, 'properties': {u'STATE_NAME': u'Virginia', u'CNTY_FIPS': u'113', u'STATE_FIPS': u'51', u'FIPS': u'51113', u'Key': 1349, u'POLY_ID': 20, u'NAME': u'Madison'}}\n",
      "{'geometry': <collection.MultiPolygon object at 0x7fb220242ed0>, 'properties': {u'STATE_NAME': u'Virginia', u'CNTY_FIPS': u'179', u'STATE_FIPS': u'51', u'FIPS': u'51179', u'Key': 1357, u'POLY_ID': 21, u'NAME': u'Stafford'}}\n",
      "{'geometry': <collection.MultiPolygon object at 0x7fb220242e90>, 'properties': {u'STATE_NAME': u'Virginia', u'CNTY_FIPS': u'091', u'STATE_FIPS': u'51', u'FIPS': u'51091', u'Key': 1359, u'POLY_ID': 22, u'NAME': u'Highland'}}\n",
      "{'geometry': <collection.MultiPolygon object at 0x7fb220242e50>, 'properties': {u'STATE_NAME': u'Virginia', u'CNTY_FIPS': u'015', u'STATE_FIPS': u'51', u'FIPS': u'51015', u'Key': 1388, u'POLY_ID': 23, u'NAME': u'Augusta'}}\n",
      "{'geometry': <collection.MultiPolygon object at 0x7fb220242e10>, 'properties': {u'STATE_NAME': u'Virginia', u'CNTY_FIPS': u'079', u'STATE_FIPS': u'51', u'FIPS': u'51079', u'Key': 1390, u'POLY_ID': 24, u'NAME': u'Greene'}}\n",
      "{'geometry': <collection.MultiPolygon object at 0x7fb220242dd0>, 'properties': {u'STATE_NAME': u'Virginia', u'CNTY_FIPS': u'660', u'STATE_FIPS': u'51', u'FIPS': u'51660', u'Key': 1392, u'POLY_ID': 25, u'NAME': u'Harrisonburg'}}\n",
      "{'geometry': <collection.MultiPolygon object at 0x7fb220242d90>, 'properties': {u'STATE_NAME': u'Virginia', u'CNTY_FIPS': u'137', u'STATE_FIPS': u'51', u'FIPS': u'51137', u'Key': 1404, u'POLY_ID': 26, u'NAME': u'Orange'}}\n",
      "{'geometry': <collection.MultiPolygon object at 0x7fb220242d50>, 'properties': {u'STATE_NAME': u'Virginia', u'CNTY_FIPS': u'177', u'STATE_FIPS': u'51', u'FIPS': u'51177', u'Key': 1409, u'POLY_ID': 27, u'NAME': u'Spotsylvania'}}\n",
      "{'geometry': <collection.MultiPolygon object at 0x7fb220242d10>, 'properties': {u'STATE_NAME': u'Virginia', u'CNTY_FIPS': u'099', u'STATE_FIPS': u'51', u'FIPS': u'51099', u'Key': 1410, u'POLY_ID': 28, u'NAME': u'King George'}}\n",
      "{'geometry': <collection.MultiPolygon object at 0x7fb220242910>, 'properties': {u'STATE_NAME': u'Virginia', u'CNTY_FIPS': u'630', u'STATE_FIPS': u'51', u'FIPS': u'51630', u'Key': 1418, u'POLY_ID': 29, u'NAME': u'Fredericksburg'}}\n",
      "{'geometry': <collection.MultiPolygon object at 0x7fb220242cd0>, 'properties': {u'STATE_NAME': u'Virginia', u'CNTY_FIPS': u'193', u'STATE_FIPS': u'51', u'FIPS': u'51193', u'Key': 1423, u'POLY_ID': 30, u'NAME': u'Westmoreland'}}\n",
      "{'geometry': <collection.MultiPolygon object at 0x7fb220242c90>, 'properties': {u'STATE_NAME': u'Virginia', u'CNTY_FIPS': u'003', u'STATE_FIPS': u'51', u'FIPS': u'51003', u'Key': 1424, u'POLY_ID': 31, u'NAME': u'Albemarle'}}\n",
      "{'geometry': <collection.MultiPolygon object at 0x7fb220242bd0>, 'properties': {u'STATE_NAME': u'Virginia', u'CNTY_FIPS': u'017', u'STATE_FIPS': u'51', u'FIPS': u'51017', u'Key': 1427, u'POLY_ID': 32, u'NAME': u'Bath'}}\n",
      "{'geometry': <collection.MultiPolygon object at 0x7fb2202429d0>, 'properties': {u'STATE_NAME': u'Virginia', u'CNTY_FIPS': u'033', u'STATE_FIPS': u'51', u'FIPS': u'51033', u'Key': 1443, u'POLY_ID': 33, u'NAME': u'Caroline'}}\n",
      "{'geometry': <collection.MultiPolygon object at 0x7fb220242b50>, 'properties': {u'STATE_NAME': u'Virginia', u'CNTY_FIPS': u'790', u'STATE_FIPS': u'51', u'FIPS': u'51790', u'Key': 1457, u'POLY_ID': 34, u'NAME': u'Staunton'}}\n",
      "{'geometry': <collection.MultiPolygon object at 0x7fb220242c50>, 'properties': {u'STATE_NAME': u'Virginia', u'CNTY_FIPS': u'057', u'STATE_FIPS': u'51', u'FIPS': u'51057', u'Key': 1462, u'POLY_ID': 35, u'NAME': u'Essex'}}\n",
      "{'geometry': <collection.MultiPolygon object at 0x7fb220242c10>, 'properties': {u'STATE_NAME': u'Virginia', u'CNTY_FIPS': u'109', u'STATE_FIPS': u'51', u'FIPS': u'51109', u'Key': 1467, u'POLY_ID': 36, u'NAME': u'Louisa'}}\n",
      "{'geometry': <collection.MultiPolygon object at 0x7fb2202428d0>, 'properties': {u'STATE_NAME': u'Virginia', u'CNTY_FIPS': u'159', u'STATE_FIPS': u'51', u'FIPS': u'51159', u'Key': 1477, u'POLY_ID': 37, u'NAME': u'Richmond'}}\n",
      "{'geometry': <collection.MultiPolygon object at 0x7fb220120310>, 'properties': {u'STATE_NAME': u'Virginia', u'CNTY_FIPS': u'820', u'STATE_FIPS': u'51', u'FIPS': u'51820', u'Key': 1479, u'POLY_ID': 38, u'NAME': u'Waynesboro'}}\n",
      "{'geometry': <collection.MultiPolygon object at 0x7fb220120d90>, 'properties': {u'STATE_NAME': u'Virginia', u'CNTY_FIPS': u'163', u'STATE_FIPS': u'51', u'FIPS': u'51163', u'Key': 1481, u'POLY_ID': 39, u'NAME': u'Rockbridge'}}\n",
      "{'geometry': <collection.MultiPolygon object at 0x7fb220120190>, 'properties': {u'STATE_NAME': u'Virginia', u'CNTY_FIPS': u'540', u'STATE_FIPS': u'51', u'FIPS': u'51540', u'Key': 1486, u'POLY_ID': 40, u'NAME': u'Charlottesville'}}\n",
      "{'geometry': <collection.MultiPolygon object at 0x7fb220120390>, 'properties': {u'STATE_NAME': u'Virginia', u'CNTY_FIPS': u'125', u'STATE_FIPS': u'51', u'FIPS': u'51125', u'Key': 1490, u'POLY_ID': 41, u'NAME': u'Nelson'}}\n",
      "{'geometry': <collection.MultiPolygon object at 0x7fb220120b50>, 'properties': {u'STATE_NAME': u'Virginia', u'CNTY_FIPS': u'001', u'STATE_FIPS': u'51', u'FIPS': u'51001', u'Key': 1494, u'POLY_ID': 42, u'NAME': u'Accomack'}}\n",
      "{'geometry': <collection.MultiPolygon object at 0x7fb2201201d0>, 'properties': {u'STATE_NAME': u'Virginia', u'CNTY_FIPS': u'133', u'STATE_FIPS': u'51', u'FIPS': u'51133', u'Key': 1495, u'POLY_ID': 43, u'NAME': u'Northumberland'}}\n",
      "{'geometry': <collection.MultiPolygon object at 0x7fb2201204d0>, 'properties': {u'STATE_NAME': u'Virginia', u'CNTY_FIPS': u'085', u'STATE_FIPS': u'51', u'FIPS': u'51085', u'Key': 1499, u'POLY_ID': 44, u'NAME': u'Hanover'}}\n",
      "{'geometry': <collection.MultiPolygon object at 0x7fb220120290>, 'properties': {u'STATE_NAME': u'Virginia', u'CNTY_FIPS': u'065', u'STATE_FIPS': u'51', u'FIPS': u'51065', u'Key': 1500, u'POLY_ID': 45, u'NAME': u'Fluvanna'}}\n",
      "{'geometry': <collection.MultiPolygon object at 0x7fb220120250>, 'properties': {u'STATE_NAME': u'Virginia', u'CNTY_FIPS': u'097', u'STATE_FIPS': u'51', u'FIPS': u'51097', u'Key': 1509, u'POLY_ID': 46, u'NAME': u'King and Queen'}}\n",
      "{'geometry': <collection.MultiPolygon object at 0x7fb220120490>, 'properties': {u'STATE_NAME': u'Virginia', u'CNTY_FIPS': u'005', u'STATE_FIPS': u'51', u'FIPS': u'51005', u'Key': 1515, u'POLY_ID': 47, u'NAME': u'Alleghany'}}\n",
      "{'geometry': <collection.MultiPolygon object at 0x7fb220120b10>, 'properties': {u'STATE_NAME': u'Virginia', u'CNTY_FIPS': u'101', u'STATE_FIPS': u'51', u'FIPS': u'51101', u'Key': 1522, u'POLY_ID': 48, u'NAME': u'King William'}}\n",
      "{'geometry': <collection.MultiPolygon object at 0x7fb220120150>, 'properties': {u'STATE_NAME': u'Virginia', u'CNTY_FIPS': u'075', u'STATE_FIPS': u'51', u'FIPS': u'51075', u'Key': 1526, u'POLY_ID': 49, u'NAME': u'Goochland'}}\n",
      "{'geometry': <collection.MultiPolygon object at 0x7fb220120510>, 'properties': {u'STATE_NAME': u'Virginia', u'CNTY_FIPS': u'560', u'STATE_FIPS': u'51', u'FIPS': u'51560', u'Key': 1539, u'POLY_ID': 50, u'NAME': u'Clifton Forge'}}\n",
      "{'geometry': <collection.MultiPolygon object at 0x7fb220120b90>, 'properties': {u'STATE_NAME': u'Virginia', u'CNTY_FIPS': u'103', u'STATE_FIPS': u'51', u'FIPS': u'51103', u'Key': 1541, u'POLY_ID': 51, u'NAME': u'Lancaster'}}\n",
      "{'geometry': <collection.MultiPolygon object at 0x7fb220120090>, 'properties': {u'STATE_NAME': u'Virginia', u'CNTY_FIPS': u'009', u'STATE_FIPS': u'51', u'FIPS': u'51009', u'Key': 1546, u'POLY_ID': 52, u'NAME': u'Amherst'}}\n",
      "{'geometry': <collection.MultiPolygon object at 0x7fb2201200d0>, 'properties': {u'STATE_NAME': u'Virginia', u'CNTY_FIPS': u'580', u'STATE_FIPS': u'51', u'FIPS': u'51580', u'Key': 1548, u'POLY_ID': 53, u'NAME': u'Covington'}}\n",
      "{'geometry': <collection.MultiPolygon object at 0x7fb220120410>, 'properties': {u'STATE_NAME': u'Virginia', u'CNTY_FIPS': u'678', u'STATE_FIPS': u'51', u'FIPS': u'51678', u'Key': 1550, u'POLY_ID': 54, u'NAME': u'Lexington'}}\n",
      "{'geometry': <collection.MultiPolygon object at 0x7fb220120550>, 'properties': {u'STATE_NAME': u'Virginia', u'CNTY_FIPS': u'023', u'STATE_FIPS': u'51', u'FIPS': u'51023', u'Key': 1552, u'POLY_ID': 55, u'NAME': u'Botetourt'}}\n",
      "{'geometry': <collection.MultiPolygon object at 0x7fb220120350>, 'properties': {u'STATE_NAME': u'Virginia', u'CNTY_FIPS': u'029', u'STATE_FIPS': u'51', u'FIPS': u'51029', u'Key': 1553, u'POLY_ID': 56, u'NAME': u'Buckingham'}}\n",
      "{'geometry': <collection.MultiPolygon object at 0x7fb2201205d0>, 'properties': {u'STATE_NAME': u'Virginia', u'CNTY_FIPS': u'119', u'STATE_FIPS': u'51', u'FIPS': u'51119', u'Key': 1555, u'POLY_ID': 57, u'NAME': u'Middlesex'}}\n",
      "{'geometry': <collection.MultiPolygon object at 0x7fb2201202d0>, 'properties': {u'STATE_NAME': u'Virginia', u'CNTY_FIPS': u'049', u'STATE_FIPS': u'51', u'FIPS': u'51049', u'Key': 1559, u'POLY_ID': 58, u'NAME': u'Cumberland'}}\n",
      "{'geometry': <collection.MultiPolygon object at 0x7fb2201203d0>, 'properties': {u'STATE_NAME': u'Virginia', u'CNTY_FIPS': u'530', u'STATE_FIPS': u'51', u'FIPS': u'51530', u'Key': 1560, u'POLY_ID': 59, u'NAME': u'Buena Vista'}}\n",
      "{'geometry': <collection.MultiPolygon object at 0x7fb220120ad0>, 'properties': {u'STATE_NAME': u'Virginia', u'CNTY_FIPS': u'087', u'STATE_FIPS': u'51', u'FIPS': u'51087', u'Key': 1576, u'POLY_ID': 60, u'NAME': u'Henrico'}}\n",
      "{'geometry': <collection.MultiPolygon object at 0x7fb22002a190>, 'properties': {u'STATE_NAME': u'Virginia', u'CNTY_FIPS': u'145', u'STATE_FIPS': u'51', u'FIPS': u'51145', u'Key': 1579, u'POLY_ID': 61, u'NAME': u'Powhatan'}}\n",
      "{'geometry': <collection.MultiPolygon object at 0x7fb22002a1d0>, 'properties': {u'STATE_NAME': u'Virginia', u'CNTY_FIPS': u'045', u'STATE_FIPS': u'51', u'FIPS': u'51045', u'Key': 1582, u'POLY_ID': 62, u'NAME': u'Craig'}}\n",
      "{'geometry': <collection.MultiPolygon object at 0x7fb22002a210>, 'properties': {u'STATE_NAME': u'Virginia', u'CNTY_FIPS': u'127', u'STATE_FIPS': u'51', u'FIPS': u'51127', u'Key': 1591, u'POLY_ID': 63, u'NAME': u'New Kent'}}\n",
      "{'geometry': <collection.MultiPolygon object at 0x7fb22002a250>, 'properties': {u'STATE_NAME': u'Virginia', u'CNTY_FIPS': u'019', u'STATE_FIPS': u'51', u'FIPS': u'51019', u'Key': 1594, u'POLY_ID': 64, u'NAME': u'Bedford'}}\n",
      "{'geometry': <collection.MultiPolygon object at 0x7fb22002a290>, 'properties': {u'STATE_NAME': u'Virginia', u'CNTY_FIPS': u'760', u'STATE_FIPS': u'51', u'FIPS': u'51760', u'Key': 1597, u'POLY_ID': 65, u'NAME': u'Richmond City'}}\n",
      "{'geometry': <collection.MultiPolygon object at 0x7fb22002a2d0>, 'properties': {u'STATE_NAME': u'Virginia', u'CNTY_FIPS': u'073', u'STATE_FIPS': u'51', u'FIPS': u'51073', u'Key': 1606, u'POLY_ID': 66, u'NAME': u'Gloucester'}}\n",
      "{'geometry': <collection.MultiPolygon object at 0x7fb22002a310>, 'properties': {u'STATE_NAME': u'Virginia', u'CNTY_FIPS': u'041', u'STATE_FIPS': u'51', u'FIPS': u'51041', u'Key': 1612, u'POLY_ID': 67, u'NAME': u'Chesterfield'}}\n",
      "{'geometry': <collection.MultiPolygon object at 0x7fb22002a350>, 'properties': {u'STATE_NAME': u'Virginia', u'CNTY_FIPS': u'011', u'STATE_FIPS': u'51', u'FIPS': u'51011', u'Key': 1613, u'POLY_ID': 68, u'NAME': u'Appomattox'}}\n",
      "{'geometry': <collection.MultiPolygon object at 0x7fb22002a390>, 'properties': {u'STATE_NAME': u'Virginia', u'CNTY_FIPS': u'131', u'STATE_FIPS': u'51', u'FIPS': u'51131', u'Key': 1614, u'POLY_ID': 69, u'NAME': u'Northampton'}}\n",
      "{'geometry': <collection.MultiPolygon object at 0x7fb22002a3d0>, 'properties': {u'STATE_NAME': u'Virginia', u'CNTY_FIPS': u'027', u'STATE_FIPS': u'51', u'FIPS': u'51027', u'Key': 1622, u'POLY_ID': 70, u'NAME': u'Buchanan'}}\n",
      "{'geometry': <collection.MultiPolygon object at 0x7fb22002a410>, 'properties': {u'STATE_NAME': u'Virginia', u'CNTY_FIPS': u'115', u'STATE_FIPS': u'51', u'FIPS': u'51115', u'Key': 1623, u'POLY_ID': 71, u'NAME': u'Mathews'}}\n",
      "{'geometry': <collection.MultiPolygon object at 0x7fb22002a450>, 'properties': {u'STATE_NAME': u'Virginia', u'CNTY_FIPS': u'007', u'STATE_FIPS': u'51', u'FIPS': u'51007', u'Key': 1624, u'POLY_ID': 72, u'NAME': u'Amelia'}}\n",
      "{'geometry': <collection.MultiPolygon object at 0x7fb22002a490>, 'properties': {u'STATE_NAME': u'Virginia', u'CNTY_FIPS': u'036', u'STATE_FIPS': u'51', u'FIPS': u'51036', u'Key': 1625, u'POLY_ID': 73, u'NAME': u'Charles City'}}\n",
      "{'geometry': <collection.MultiPolygon object at 0x7fb22002a4d0>, 'properties': {u'STATE_NAME': u'Virginia', u'CNTY_FIPS': u'071', u'STATE_FIPS': u'51', u'FIPS': u'51071', u'Key': 1630, u'POLY_ID': 74, u'NAME': u'Giles'}}\n",
      "{'geometry': <collection.MultiPolygon object at 0x7fb22002a510>, 'properties': {u'STATE_NAME': u'Virginia', u'CNTY_FIPS': u'680', u'STATE_FIPS': u'51', u'FIPS': u'51680', u'Key': 1633, u'POLY_ID': 75, u'NAME': u'Lynchburg'}}\n",
      "{'geometry': <collection.MultiPolygon object at 0x7fb22002a550>, 'properties': {u'STATE_NAME': u'Virginia', u'CNTY_FIPS': u'095', u'STATE_FIPS': u'51', u'FIPS': u'51095', u'Key': 1638, u'POLY_ID': 76, u'NAME': u'James City'}}\n",
      "{'geometry': <collection.MultiPolygon object at 0x7fb22002a590>, 'properties': {u'STATE_NAME': u'Virginia', u'CNTY_FIPS': u'031', u'STATE_FIPS': u'51', u'FIPS': u'51031', u'Key': 1642, u'POLY_ID': 77, u'NAME': u'Campbell'}}\n",
      "{'geometry': <collection.MultiPolygon object at 0x7fb22002a5d0>, 'properties': {u'STATE_NAME': u'Virginia', u'CNTY_FIPS': u'161', u'STATE_FIPS': u'51', u'FIPS': u'51161', u'Key': 1648, u'POLY_ID': 78, u'NAME': u'Roanoke'}}\n",
      "{'geometry': <collection.MultiPolygon object at 0x7fb22002a610>, 'properties': {u'STATE_NAME': u'Virginia', u'CNTY_FIPS': u'147', u'STATE_FIPS': u'51', u'FIPS': u'51147', u'Key': 1649, u'POLY_ID': 79, u'NAME': u'Prince Edward'}}\n",
      "{'geometry': <collection.MultiPolygon object at 0x7fb22002a650>, 'properties': {u'STATE_NAME': u'Virginia', u'CNTY_FIPS': u'199', u'STATE_FIPS': u'51', u'FIPS': u'51199', u'Key': 1660, u'POLY_ID': 80, u'NAME': u'York'}}\n",
      "{'geometry': <collection.MultiPolygon object at 0x7fb22002a690>, 'properties': {u'STATE_NAME': u'Virginia', u'CNTY_FIPS': u'121', u'STATE_FIPS': u'51', u'FIPS': u'51121', u'Key': 1661, u'POLY_ID': 81, u'NAME': u'Montgomery'}}\n",
      "{'geometry': <collection.MultiPolygon object at 0x7fb22002a6d0>, 'properties': {u'STATE_NAME': u'Virginia', u'CNTY_FIPS': u'515', u'STATE_FIPS': u'51', u'FIPS': u'51515', u'Key': 1665, u'POLY_ID': 82, u'NAME': u'Bedford City'}}\n",
      "{'geometry': <collection.MultiPolygon object at 0x7fb22002a710>, 'properties': {u'STATE_NAME': u'Virginia', u'CNTY_FIPS': u'185', u'STATE_FIPS': u'51', u'FIPS': u'51185', u'Key': 1668, u'POLY_ID': 83, u'NAME': u'Tazewell'}}\n",
      "{'geometry': <collection.MultiPolygon object at 0x7fb22002a750>, 'properties': {u'STATE_NAME': u'Virginia', u'CNTY_FIPS': u'149', u'STATE_FIPS': u'51', u'FIPS': u'51149', u'Key': 1673, u'POLY_ID': 84, u'NAME': u'Prince George'}}\n",
      "{'geometry': <collection.MultiPolygon object at 0x7fb22002a790>, 'properties': {u'STATE_NAME': u'Virginia', u'CNTY_FIPS': u'770', u'STATE_FIPS': u'51', u'FIPS': u'51770', u'Key': 1674, u'POLY_ID': 85, u'NAME': u'Roanoke City'}}\n",
      "{'geometry': <collection.MultiPolygon object at 0x7fb22002a7d0>, 'properties': {u'STATE_NAME': u'Virginia', u'CNTY_FIPS': u'670', u'STATE_FIPS': u'51', u'FIPS': u'51670', u'Key': 1675, u'POLY_ID': 86, u'NAME': u'Hopewell'}}\n",
      "{'geometry': <collection.MultiPolygon object at 0x7fb22002a810>, 'properties': {u'STATE_NAME': u'Virginia', u'CNTY_FIPS': u'775', u'STATE_FIPS': u'51', u'FIPS': u'51775', u'Key': 1677, u'POLY_ID': 87, u'NAME': u'Salem'}}\n",
      "{'geometry': <collection.MultiPolygon object at 0x7fb22002a850>, 'properties': {u'STATE_NAME': u'Virginia', u'CNTY_FIPS': u'021', u'STATE_FIPS': u'51', u'FIPS': u'51021', u'Key': 1680, u'POLY_ID': 88, u'NAME': u'Bland'}}\n",
      "{'geometry': <collection.MultiPolygon object at 0x7fb22002a890>, 'properties': {u'STATE_NAME': u'Virginia', u'CNTY_FIPS': u'051', u'STATE_FIPS': u'51', u'FIPS': u'51051', u'Key': 1681, u'POLY_ID': 89, u'NAME': u'Dickenson'}}\n",
      "{'geometry': <collection.MultiPolygon object at 0x7fb22002a8d0>, 'properties': {u'STATE_NAME': u'Virginia', u'CNTY_FIPS': u'135', u'STATE_FIPS': u'51', u'FIPS': u'51135', u'Key': 1683, u'POLY_ID': 90, u'NAME': u'Nottoway'}}\n",
      "{'geometry': <collection.MultiPolygon object at 0x7fb22002a910>, 'properties': {u'STATE_NAME': u'Virginia', u'CNTY_FIPS': u'570', u'STATE_FIPS': u'51', u'FIPS': u'51570', u'Key': 1684, u'POLY_ID': 91, u'NAME': u'Colonial Heights'}}\n",
      "{'geometry': <collection.MultiPolygon object at 0x7fb22002a950>, 'properties': {u'STATE_NAME': u'Virginia', u'CNTY_FIPS': u'830', u'STATE_FIPS': u'51', u'FIPS': u'51830', u'Key': 1685, u'POLY_ID': 92, u'NAME': u'Williamsburg'}}\n",
      "{'geometry': <collection.MultiPolygon object at 0x7fb22002a990>, 'properties': {u'STATE_NAME': u'Virginia', u'CNTY_FIPS': u'053', u'STATE_FIPS': u'51', u'FIPS': u'51053', u'Key': 1688, u'POLY_ID': 93, u'NAME': u'Dinwiddie'}}\n",
      "{'geometry': <collection.MultiPolygon object at 0x7fb22002a9d0>, 'properties': {u'STATE_NAME': u'Virginia', u'CNTY_FIPS': u'037', u'STATE_FIPS': u'51', u'FIPS': u'51037', u'Key': 1691, u'POLY_ID': 94, u'NAME': u'Charlotte'}}\n",
      "{'geometry': <collection.MultiPolygon object at 0x7fb22002aa10>, 'properties': {u'STATE_NAME': u'Virginia', u'CNTY_FIPS': u'181', u'STATE_FIPS': u'51', u'FIPS': u'51181', u'Key': 1692, u'POLY_ID': 95, u'NAME': u'Surry'}}\n",
      "{'geometry': <collection.MultiPolygon object at 0x7fb22002aa50>, 'properties': {u'STATE_NAME': u'Virginia', u'CNTY_FIPS': u'730', u'STATE_FIPS': u'51', u'FIPS': u'51730', u'Key': 1693, u'POLY_ID': 96, u'NAME': u'Petersburg'}}\n",
      "{'geometry': <collection.MultiPolygon object at 0x7fb22002aa90>, 'properties': {u'STATE_NAME': u'Virginia', u'CNTY_FIPS': u'155', u'STATE_FIPS': u'51', u'FIPS': u'51155', u'Key': 1694, u'POLY_ID': 97, u'NAME': u'Pulaski'}}\n",
      "{'geometry': <collection.MultiPolygon object at 0x7fb22002aad0>, 'properties': {u'STATE_NAME': u'Virginia', u'CNTY_FIPS': u'700', u'STATE_FIPS': u'51', u'FIPS': u'51700', u'Key': 1695, u'POLY_ID': 98, u'NAME': u'Newport News'}}\n",
      "{'geometry': <collection.MultiPolygon object at 0x7fb22002ab10>, 'properties': {u'STATE_NAME': u'Virginia', u'CNTY_FIPS': u'067', u'STATE_FIPS': u'51', u'FIPS': u'51067', u'Key': 1696, u'POLY_ID': 99, u'NAME': u'Franklin'}}\n",
      "{'geometry': <collection.MultiPolygon object at 0x7fb22002ab50>, 'properties': {u'STATE_NAME': u'Virginia', u'CNTY_FIPS': u'195', u'STATE_FIPS': u'51', u'FIPS': u'51195', u'Key': 1699, u'POLY_ID': 100, u'NAME': u'Wise'}}\n",
      "{'geometry': <collection.MultiPolygon object at 0x7fb22002ab90>, 'properties': {u'STATE_NAME': u'Virginia', u'CNTY_FIPS': u'735', u'STATE_FIPS': u'51', u'FIPS': u'51735', u'Key': 1704, u'POLY_ID': 101, u'NAME': u'Poquoson City'}}\n",
      "{'geometry': <collection.MultiPolygon object at 0x7fb22002abd0>, 'properties': {u'STATE_NAME': u'Virginia', u'CNTY_FIPS': u'750', u'STATE_FIPS': u'51', u'FIPS': u'51750', u'Key': 1707, u'POLY_ID': 102, u'NAME': u'Radford'}}\n",
      "{'geometry': <collection.MultiPolygon object at 0x7fb22002ac10>, 'properties': {u'STATE_NAME': u'Virginia', u'CNTY_FIPS': u'093', u'STATE_FIPS': u'51', u'FIPS': u'51093', u'Key': 1708, u'POLY_ID': 103, u'NAME': u'Isle of Wight'}}\n",
      "{'geometry': <collection.MultiPolygon object at 0x7fb22002ac50>, 'properties': {u'STATE_NAME': u'Virginia', u'CNTY_FIPS': u'167', u'STATE_FIPS': u'51', u'FIPS': u'51167', u'Key': 1709, u'POLY_ID': 104, u'NAME': u'Russell'}}\n",
      "{'geometry': <collection.MultiPolygon object at 0x7fb22002ac90>, 'properties': {u'STATE_NAME': u'Virginia', u'CNTY_FIPS': u'143', u'STATE_FIPS': u'51', u'FIPS': u'51143', u'Key': 1710, u'POLY_ID': 105, u'NAME': u'Pittsylvania'}}\n",
      "{'geometry': <collection.MultiPolygon object at 0x7fb22002acd0>, 'properties': {u'STATE_NAME': u'Virginia', u'CNTY_FIPS': u'063', u'STATE_FIPS': u'51', u'FIPS': u'51063', u'Key': 1712, u'POLY_ID': 106, u'NAME': u'Floyd'}}\n",
      "{'geometry': <collection.MultiPolygon object at 0x7fb22002ad10>, 'properties': {u'STATE_NAME': u'Virginia', u'CNTY_FIPS': u'111', u'STATE_FIPS': u'51', u'FIPS': u'51111', u'Key': 1713, u'POLY_ID': 107, u'NAME': u'Lunenburg'}}\n",
      "{'geometry': <collection.MultiPolygon object at 0x7fb22002ad50>, 'properties': {u'STATE_NAME': u'Virginia', u'CNTY_FIPS': u'183', u'STATE_FIPS': u'51', u'FIPS': u'51183', u'Key': 1714, u'POLY_ID': 108, u'NAME': u'Sussex'}}\n",
      "{'geometry': <collection.MultiPolygon object at 0x7fb22002ad90>, 'properties': {u'STATE_NAME': u'Virginia', u'CNTY_FIPS': u'650', u'STATE_FIPS': u'51', u'FIPS': u'51650', u'Key': 1715, u'POLY_ID': 109, u'NAME': u'Hampton'}}\n",
      "{'geometry': <collection.MultiPolygon object at 0x7fb22002add0>, 'properties': {u'STATE_NAME': u'Virginia', u'CNTY_FIPS': u'197', u'STATE_FIPS': u'51', u'FIPS': u'51197', u'Key': 1721, u'POLY_ID': 110, u'NAME': u'Wythe'}}\n",
      "{'geometry': <collection.MultiPolygon object at 0x7fb22002ae10>, 'properties': {u'STATE_NAME': u'Virginia', u'CNTY_FIPS': u'083', u'STATE_FIPS': u'51', u'FIPS': u'51083', u'Key': 1727, u'POLY_ID': 111, u'NAME': u'Halifax'}}\n",
      "{'geometry': <collection.MultiPolygon object at 0x7fb22002ae50>, 'properties': {u'STATE_NAME': u'Virginia', u'CNTY_FIPS': u'025', u'STATE_FIPS': u'51', u'FIPS': u'51025', u'Key': 1728, u'POLY_ID': 112, u'NAME': u'Brunswick'}}\n",
      "{'geometry': <collection.MultiPolygon object at 0x7fb22002ae90>, 'properties': {u'STATE_NAME': u'Virginia', u'CNTY_FIPS': u'173', u'STATE_FIPS': u'51', u'FIPS': u'51173', u'Key': 1730, u'POLY_ID': 113, u'NAME': u'Smyth'}}\n",
      "{'geometry': <collection.MultiPolygon object at 0x7fb22002aed0>, 'properties': {u'STATE_NAME': u'Virginia', u'CNTY_FIPS': u'175', u'STATE_FIPS': u'51', u'FIPS': u'51175', u'Key': 1751, u'POLY_ID': 114, u'NAME': u'Southampton'}}\n",
      "{'geometry': <collection.MultiPolygon object at 0x7fb22002af10>, 'properties': {u'STATE_NAME': u'Virginia', u'CNTY_FIPS': u'710', u'STATE_FIPS': u'51', u'FIPS': u'51710', u'Key': 1760, u'POLY_ID': 115, u'NAME': u'Norfolk'}}\n",
      "{'geometry': <collection.MultiPolygon object at 0x7fb22002af50>, 'properties': {u'STATE_NAME': u'Virginia', u'CNTY_FIPS': u'720', u'STATE_FIPS': u'51', u'FIPS': u'51720', u'Key': 1763, u'POLY_ID': 116, u'NAME': u'Norton'}}\n",
      "{'geometry': <collection.MultiPolygon object at 0x7fb22002af90>, 'properties': {u'STATE_NAME': u'Virginia', u'CNTY_FIPS': u'810', u'STATE_FIPS': u'51', u'FIPS': u'51810', u'Key': 1767, u'POLY_ID': 117, u'NAME': u'Virginia Beach'}}\n",
      "{'geometry': <collection.MultiPolygon object at 0x7fb22002afd0>, 'properties': {u'STATE_NAME': u'Virginia', u'CNTY_FIPS': u'035', u'STATE_FIPS': u'51', u'FIPS': u'51035', u'Key': 1768, u'POLY_ID': 118, u'NAME': u'Carroll'}}\n",
      "{'geometry': <collection.MultiPolygon object at 0x7fb22002f050>, 'properties': {u'STATE_NAME': u'Virginia', u'CNTY_FIPS': u'191', u'STATE_FIPS': u'51', u'FIPS': u'51191', u'Key': 1770, u'POLY_ID': 119, u'NAME': u'Washington'}}\n",
      "{'geometry': <collection.MultiPolygon object at 0x7fb22002f090>, 'properties': {u'STATE_NAME': u'Virginia', u'CNTY_FIPS': u'800', u'STATE_FIPS': u'51', u'FIPS': u'51800', u'Key': 1772, u'POLY_ID': 120, u'NAME': u'Suffolk'}}\n",
      "{'geometry': <collection.MultiPolygon object at 0x7fb22002f0d0>, 'properties': {u'STATE_NAME': u'Virginia', u'CNTY_FIPS': u'081', u'STATE_FIPS': u'51', u'FIPS': u'51081', u'Key': 1774, u'POLY_ID': 121, u'NAME': u'Greensville'}}\n",
      "{'geometry': <collection.MultiPolygon object at 0x7fb22002f110>, 'properties': {u'STATE_NAME': u'Virginia', u'CNTY_FIPS': u'117', u'STATE_FIPS': u'51', u'FIPS': u'51117', u'Key': 1775, u'POLY_ID': 122, u'NAME': u'Mecklenburg'}}\n",
      "{'geometry': <collection.MultiPolygon object at 0x7fb22002f150>, 'properties': {u'STATE_NAME': u'Virginia', u'CNTY_FIPS': u'105', u'STATE_FIPS': u'51', u'FIPS': u'51105', u'Key': 1776, u'POLY_ID': 123, u'NAME': u'Lee'}}\n",
      "{'geometry': <collection.MultiPolygon object at 0x7fb22002f190>, 'properties': {u'STATE_NAME': u'Virginia', u'CNTY_FIPS': u'169', u'STATE_FIPS': u'51', u'FIPS': u'51169', u'Key': 1778, u'POLY_ID': 124, u'NAME': u'Scott'}}\n",
      "{'geometry': <collection.MultiPolygon object at 0x7fb22002f1d0>, 'properties': {u'STATE_NAME': u'Virginia', u'CNTY_FIPS': u'141', u'STATE_FIPS': u'51', u'FIPS': u'51141', u'Key': 1781, u'POLY_ID': 125, u'NAME': u'Patrick'}}\n",
      "{'geometry': <collection.MultiPolygon object at 0x7fb22002f210>, 'properties': {u'STATE_NAME': u'Virginia', u'CNTY_FIPS': u'550', u'STATE_FIPS': u'51', u'FIPS': u'51550', u'Key': 1783, u'POLY_ID': 126, u'NAME': u'Chesapeake'}}\n",
      "{'geometry': <collection.MultiPolygon object at 0x7fb22002f250>, 'properties': {u'STATE_NAME': u'Virginia', u'CNTY_FIPS': u'089', u'STATE_FIPS': u'51', u'FIPS': u'51089', u'Key': 1785, u'POLY_ID': 127, u'NAME': u'Henry'}}\n",
      "{'geometry': <collection.MultiPolygon object at 0x7fb22002f290>, 'properties': {u'STATE_NAME': u'Virginia', u'CNTY_FIPS': u'740', u'STATE_FIPS': u'51', u'FIPS': u'51740', u'Key': 1787, u'POLY_ID': 128, u'NAME': u'Portsmouth'}}\n",
      "{'geometry': <collection.MultiPolygon object at 0x7fb22002f2d0>, 'properties': {u'STATE_NAME': u'Virginia', u'CNTY_FIPS': u'077', u'STATE_FIPS': u'51', u'FIPS': u'51077', u'Key': 1791, u'POLY_ID': 129, u'NAME': u'Grayson'}}\n",
      "{'geometry': <collection.MultiPolygon object at 0x7fb22002f310>, 'properties': {u'STATE_NAME': u'Virginia', u'CNTY_FIPS': u'595', u'STATE_FIPS': u'51', u'FIPS': u'51595', u'Key': 1797, u'POLY_ID': 130, u'NAME': u'Emporia'}}\n",
      "{'geometry': <collection.MultiPolygon object at 0x7fb22002f350>, 'properties': {u'STATE_NAME': u'Virginia', u'CNTY_FIPS': u'690', u'STATE_FIPS': u'51', u'FIPS': u'51690', u'Key': 1798, u'POLY_ID': 131, u'NAME': u'Martinsville'}}\n",
      "{'geometry': <collection.MultiPolygon object at 0x7fb22002f390>, 'properties': {u'STATE_NAME': u'Virginia', u'CNTY_FIPS': u'780', u'STATE_FIPS': u'51', u'FIPS': u'51780', u'Key': 1799, u'POLY_ID': 132, u'NAME': u'South Boston'}}\n",
      "{'geometry': <collection.MultiPolygon object at 0x7fb22002f3d0>, 'properties': {u'STATE_NAME': u'Virginia', u'CNTY_FIPS': u'640', u'STATE_FIPS': u'51', u'FIPS': u'51640', u'Key': 1800, u'POLY_ID': 133, u'NAME': u'Galax'}}\n",
      "{'geometry': <collection.MultiPolygon object at 0x7fb22002f410>, 'properties': {u'STATE_NAME': u'Virginia', u'CNTY_FIPS': u'620', u'STATE_FIPS': u'51', u'FIPS': u'51620', u'Key': 1801, u'POLY_ID': 134, u'NAME': u'Franklin City'}}\n",
      "{'geometry': <collection.MultiPolygon object at 0x7fb22002f450>, 'properties': {u'STATE_NAME': u'Virginia', u'CNTY_FIPS': u'590', u'STATE_FIPS': u'51', u'FIPS': u'51590', u'Key': 1808, u'POLY_ID': 135, u'NAME': u'Danville'}}\n",
      "{'geometry': <collection.MultiPolygon object at 0x7fb22002f490>, 'properties': {u'STATE_NAME': u'Virginia', u'CNTY_FIPS': u'520', u'STATE_FIPS': u'51', u'FIPS': u'51520', u'Key': 1812, u'POLY_ID': 136, u'NAME': u'Bristol'}}\n"
     ]
    }
   ],
   "source": [
    "for i in vfc.getFeatures():\n",
    "    print i\n"
   ]
  },
  {
   "cell_type": "code",
   "execution_count": 11,
   "metadata": {
    "collapsed": false
   },
   "outputs": [
    {
     "name": "stderr",
     "output_type": "stream",
     "text": [
      "collection.py:232: UserWarning: STATE_FIPS is not uniquely valued.  Cannot be used as idVariable\n",
      "  warnings.warn(msg)\n"
     ]
    }
   ],
   "source": [
    "vfc.idVariable = 'STATE_FIPS'"
   ]
  },
  {
   "cell_type": "code",
   "execution_count": 44,
   "metadata": {
    "collapsed": false
   },
   "outputs": [],
   "source": [
    "v = vfc.getIdVariableOrder()\n"
   ]
  },
  {
   "cell_type": "code",
   "execution_count": 86,
   "metadata": {
    "collapsed": false
   },
   "outputs": [
    {
     "data": {
      "text/plain": [
       "['_FeatureCollection__idVariable',\n",
       " '__class__',\n",
       " '__delattr__',\n",
       " '__dict__',\n",
       " '__doc__',\n",
       " '__format__',\n",
       " '__getattribute__',\n",
       " '__hash__',\n",
       " '__init__',\n",
       " '__module__',\n",
       " '__new__',\n",
       " '__reduce__',\n",
       " '__reduce_ex__',\n",
       " '__repr__',\n",
       " '__setattr__',\n",
       " '__sizeof__',\n",
       " '__str__',\n",
       " '__subclasshook__',\n",
       " '__weakref__',\n",
       " 'features',\n",
       " 'getGeometryCollection',\n",
       " 'getIdVariableOrder',\n",
       " 'getPropertiesAsArray',\n",
       " 'getPropertiesAsLists',\n",
       " 'getPropertyTypes',\n",
       " 'idVariable',\n",
       " 'is_unique',\n",
       " 'n_features',\n",
       " 'subset']"
      ]
     },
     "execution_count": 86,
     "metadata": {},
     "output_type": "execute_result"
    }
   ],
   "source": [
    "dir(vfc)"
   ]
  },
  {
   "cell_type": "code",
   "execution_count": 87,
   "metadata": {
    "collapsed": true
   },
   "outputs": [],
   "source": [
    "import copy\n",
    "v1 = copy.deepcopy(vfc)"
   ]
  },
  {
   "cell_type": "code",
   "execution_count": 12,
   "metadata": {
    "collapsed": false
   },
   "outputs": [
    {
     "data": {
      "text/plain": [
       "'NAME'"
      ]
     },
     "execution_count": 12,
     "metadata": {},
     "output_type": "execute_result"
    }
   ],
   "source": []
  },
  {
   "cell_type": "code",
   "execution_count": 8,
   "metadata": {
    "collapsed": false
   },
   "outputs": [
    {
     "data": {
      "text/plain": [
       "{u'CNTY_FIPS': u'069',\n",
       " u'FIPS': u'51069',\n",
       " u'Key': 1147,\n",
       " u'NAME': u'Frederick',\n",
       " u'POLY_ID': 1,\n",
       " u'STATE_FIPS': u'51',\n",
       " u'STATE_NAME': u'Virginia'}"
      ]
     },
     "execution_count": 8,
     "metadata": {},
     "output_type": "execute_result"
    }
   ],
   "source": [
    "f0 = vfc.features[0]\n",
    "f0['properties']"
   ]
  },
  {
   "cell_type": "code",
   "execution_count": 9,
   "metadata": {
    "collapsed": false
   },
   "outputs": [
    {
     "name": "stdout",
     "output_type": "stream",
     "text": [
      "MultiPolygon: 1 Polygon(s)\n"
     ]
    }
   ],
   "source": [
    "print(vfc.features[0]['geometry'])"
   ]
  },
  {
   "cell_type": "code",
   "execution_count": 10,
   "metadata": {
    "collapsed": false
   },
   "outputs": [
    {
     "name": "stdout",
     "output_type": "stream",
     "text": [
      "MultiPolygon: 1 Polygon(s)\n",
      "MultiPolygon: 1 Polygon(s)\n",
      "MultiPolygon: 1 Polygon(s)\n",
      "MultiPolygon: 1 Polygon(s)\n",
      "MultiPolygon: 1 Polygon(s)\n",
      "MultiPolygon: 1 Polygon(s)\n",
      "MultiPolygon: 1 Polygon(s)\n",
      "MultiPolygon: 1 Polygon(s)\n",
      "MultiPolygon: 1 Polygon(s)\n",
      "MultiPolygon: 1 Polygon(s)\n",
      "MultiPolygon: 1 Polygon(s)\n",
      "MultiPolygon: 1 Polygon(s)\n",
      "MultiPolygon: 1 Polygon(s)\n",
      "MultiPolygon: 1 Polygon(s)\n",
      "MultiPolygon: 1 Polygon(s)\n",
      "MultiPolygon: 1 Polygon(s)\n",
      "MultiPolygon: 1 Polygon(s)\n",
      "MultiPolygon: 1 Polygon(s)\n",
      "MultiPolygon: 1 Polygon(s)\n",
      "MultiPolygon: 1 Polygon(s)\n",
      "MultiPolygon: 1 Polygon(s)\n",
      "MultiPolygon: 1 Polygon(s)\n",
      "MultiPolygon: 1 Polygon(s)\n",
      "MultiPolygon: 1 Polygon(s)\n",
      "MultiPolygon: 1 Polygon(s)\n",
      "MultiPolygon: 1 Polygon(s)\n",
      "MultiPolygon: 1 Polygon(s)\n",
      "MultiPolygon: 1 Polygon(s)\n",
      "MultiPolygon: 1 Polygon(s)\n",
      "MultiPolygon: 1 Polygon(s)\n",
      "MultiPolygon: 1 Polygon(s)\n",
      "MultiPolygon: 1 Polygon(s)\n",
      "MultiPolygon: 1 Polygon(s)\n",
      "MultiPolygon: 1 Polygon(s)\n",
      "MultiPolygon: 1 Polygon(s)\n",
      "MultiPolygon: 1 Polygon(s)\n",
      "MultiPolygon: 1 Polygon(s)\n",
      "MultiPolygon: 1 Polygon(s)\n",
      "MultiPolygon: 1 Polygon(s)\n",
      "MultiPolygon: 1 Polygon(s)\n",
      "MultiPolygon: 1 Polygon(s)\n",
      "MultiPolygon: 2 Polygon(s)\n",
      "MultiPolygon: 1 Polygon(s)\n",
      "MultiPolygon: 1 Polygon(s)\n",
      "MultiPolygon: 1 Polygon(s)\n",
      "MultiPolygon: 1 Polygon(s)\n",
      "MultiPolygon: 1 Polygon(s)\n",
      "MultiPolygon: 1 Polygon(s)\n",
      "MultiPolygon: 1 Polygon(s)\n",
      "MultiPolygon: 1 Polygon(s)\n",
      "MultiPolygon: 1 Polygon(s)\n",
      "MultiPolygon: 1 Polygon(s)\n",
      "MultiPolygon: 1 Polygon(s)\n",
      "MultiPolygon: 1 Polygon(s)\n",
      "MultiPolygon: 1 Polygon(s)\n",
      "MultiPolygon: 1 Polygon(s)\n",
      "MultiPolygon: 1 Polygon(s)\n",
      "MultiPolygon: 1 Polygon(s)\n",
      "MultiPolygon: 1 Polygon(s)\n",
      "MultiPolygon: 1 Polygon(s)\n",
      "MultiPolygon: 1 Polygon(s)\n",
      "MultiPolygon: 1 Polygon(s)\n",
      "MultiPolygon: 1 Polygon(s)\n",
      "MultiPolygon: 1 Polygon(s)\n",
      "MultiPolygon: 1 Polygon(s)\n",
      "MultiPolygon: 1 Polygon(s)\n",
      "MultiPolygon: 1 Polygon(s)\n",
      "MultiPolygon: 1 Polygon(s)\n",
      "MultiPolygon: 1 Polygon(s)\n",
      "MultiPolygon: 1 Polygon(s)\n",
      "MultiPolygon: 1 Polygon(s)\n",
      "MultiPolygon: 1 Polygon(s)\n",
      "MultiPolygon: 1 Polygon(s)\n",
      "MultiPolygon: 1 Polygon(s)\n",
      "MultiPolygon: 1 Polygon(s)\n",
      "MultiPolygon: 1 Polygon(s)\n",
      "MultiPolygon: 1 Polygon(s)\n",
      "MultiPolygon: 1 Polygon(s)\n",
      "MultiPolygon: 1 Polygon(s)\n",
      "MultiPolygon: 1 Polygon(s)\n",
      "MultiPolygon: 1 Polygon(s)\n",
      "MultiPolygon: 1 Polygon(s)\n",
      "MultiPolygon: 1 Polygon(s)\n",
      "MultiPolygon: 1 Polygon(s)\n",
      "MultiPolygon: 1 Polygon(s)\n",
      "MultiPolygon: 1 Polygon(s)\n",
      "MultiPolygon: 1 Polygon(s)\n",
      "MultiPolygon: 1 Polygon(s)\n",
      "MultiPolygon: 1 Polygon(s)\n",
      "MultiPolygon: 1 Polygon(s)\n",
      "MultiPolygon: 1 Polygon(s)\n",
      "MultiPolygon: 1 Polygon(s)\n",
      "MultiPolygon: 1 Polygon(s)\n",
      "MultiPolygon: 1 Polygon(s)\n",
      "MultiPolygon: 1 Polygon(s)\n",
      "MultiPolygon: 1 Polygon(s)\n",
      "MultiPolygon: 1 Polygon(s)\n",
      "MultiPolygon: 1 Polygon(s)\n",
      "MultiPolygon: 1 Polygon(s)\n",
      "MultiPolygon: 1 Polygon(s)\n",
      "MultiPolygon: 1 Polygon(s)\n",
      "MultiPolygon: 1 Polygon(s)\n",
      "MultiPolygon: 1 Polygon(s)\n",
      "MultiPolygon: 1 Polygon(s)\n",
      "MultiPolygon: 1 Polygon(s)\n",
      "MultiPolygon: 1 Polygon(s)\n",
      "MultiPolygon: 1 Polygon(s)\n",
      "MultiPolygon: 1 Polygon(s)\n",
      "MultiPolygon: 1 Polygon(s)\n",
      "MultiPolygon: 1 Polygon(s)\n",
      "MultiPolygon: 1 Polygon(s)\n",
      "MultiPolygon: 1 Polygon(s)\n",
      "MultiPolygon: 1 Polygon(s)\n",
      "MultiPolygon: 1 Polygon(s)\n",
      "MultiPolygon: 1 Polygon(s)\n",
      "MultiPolygon: 1 Polygon(s)\n",
      "MultiPolygon: 1 Polygon(s)\n",
      "MultiPolygon: 1 Polygon(s)\n",
      "MultiPolygon: 1 Polygon(s)\n",
      "MultiPolygon: 1 Polygon(s)\n",
      "MultiPolygon: 1 Polygon(s)\n",
      "MultiPolygon: 1 Polygon(s)\n",
      "MultiPolygon: 1 Polygon(s)\n",
      "MultiPolygon: 1 Polygon(s)\n",
      "MultiPolygon: 1 Polygon(s)\n",
      "MultiPolygon: 1 Polygon(s)\n",
      "MultiPolygon: 1 Polygon(s)\n",
      "MultiPolygon: 2 Polygon(s)\n",
      "MultiPolygon: 1 Polygon(s)\n",
      "MultiPolygon: 1 Polygon(s)\n",
      "MultiPolygon: 1 Polygon(s)\n",
      "MultiPolygon: 1 Polygon(s)\n",
      "MultiPolygon: 1 Polygon(s)\n",
      "MultiPolygon: 1 Polygon(s)\n",
      "MultiPolygon: 1 Polygon(s)\n",
      "MultiPolygon: 1 Polygon(s)\n"
     ]
    }
   ],
   "source": [
    "for feature in vfc.features:\n",
    "    print(vfc.features[feature]['geometry'])"
   ]
  },
  {
   "cell_type": "code",
   "execution_count": null,
   "metadata": {
    "collapsed": false
   },
   "outputs": [],
   "source": [
    "fp = ps.examples.get_path('columbus.json')\n",
    "cfc = FeatureCollection(fp)"
   ]
  },
  {
   "cell_type": "code",
   "execution_count": null,
   "metadata": {
    "collapsed": false
   },
   "outputs": [],
   "source": [
    "print(cfc.features[0]['geometry'])"
   ]
  },
  {
   "cell_type": "code",
   "execution_count": null,
   "metadata": {
    "collapsed": false
   },
   "outputs": [],
   "source": [
    "cfc.getPropertyTypes()"
   ]
  },
  {
   "cell_type": "code",
   "execution_count": null,
   "metadata": {
    "collapsed": false
   },
   "outputs": [],
   "source": [
    "X = cfc.getPropertiesAsArray(['AREA', 'CRIME'])"
   ]
  },
  {
   "cell_type": "code",
   "execution_count": null,
   "metadata": {
    "collapsed": true
   },
   "outputs": [],
   "source": [
    "XL = cfc.getPropertiesAsLists(['AREA', 'CRIME'])\n",
    "XL"
   ]
  },
  {
   "cell_type": "code",
   "execution_count": null,
   "metadata": {
    "collapsed": false
   },
   "outputs": [],
   "source": [
    "cfc.features[0]['geometry']"
   ]
  },
  {
   "cell_type": "code",
   "execution_count": null,
   "metadata": {
    "collapsed": false
   },
   "outputs": [],
   "source": [
    "dir(cfc.features[0]['geometry'])"
   ]
  },
  {
   "cell_type": "code",
   "execution_count": null,
   "metadata": {
    "collapsed": false
   },
   "outputs": [],
   "source": [
    "cfc.features[0]['geometry'].coordinates"
   ]
  },
  {
   "cell_type": "code",
   "execution_count": null,
   "metadata": {
    "collapsed": false
   },
   "outputs": [],
   "source": [
    "c =  [\n",
    "      [ [100.0, 0.0], [101.0, 0.0], [101.0, 1.0], [100.0, 1.0], [100.0, 0.0] ],\n",
    "      [ [100.2, 0.2], [100.8, 0.2], [100.8, 0.8], [100.2, 0.8], [100.2, 0.2] ]\n",
    "      ]\n",
    "p = Polygon(c)\n",
    "p.coordinates\n",
    "print(p.bbox)\n",
    "p.bboxes\n",
    "\n",
    "c = [\n",
    "      [[[102.0, 2.0], [103.0, 2.0], [103.0, 3.0], [102.0, 3.0], [102.0, 2.0]]],\n",
    "      [[[100.0, 0.0], [101.0, 0.0], [101.0, 1.0], [100.0, 1.0], [100.0, 0.0]],\n",
    "       [[100.2, 0.2], [100.8, 0.2], [100.8, 0.8], [100.2, 0.8], [100.2, 0.2]]]\n",
    "      ]\n",
    "\n",
    "print(\"\\n\")\n",
    "mp = MultiPolygon(c)\n",
    "\n",
    "print(mp.bbox)\n",
    "\n",
    "c =  [ [100.0, 0.0], [101.0, 1.0] ]\n",
    "l = LineString(c)\n",
    "print(l.bbox)\n",
    "\n",
    "c = [\n",
    "        [ [100.0, 0.0], [101.0, 1.0] ],\n",
    "        [ [102.0, 2.0], [103.0, 3.0] ]\n",
    "      ]\n",
    "\n",
    "mls = MultiLineString(c)\n",
    "mls.bbox\n",
    "\n",
    "c = [100.0, 0.0]\n",
    "p = Point(c)\n",
    "p.bbox\n",
    "\n",
    "c = [ [100.0, 0.0], [101.0, 1.0] ]\n",
    "\n",
    "np.array(c).max(axis=0)\n",
    "mp = MultiPoint(c)\n",
    "mp.bbox\n",
    "\n",
    "c = [ [100.0, 0.0], [101.0, 1.0], [40, 7]]\n",
    "MultiPoint(c).bbox\n",
    "\n",
    "c = [ [100.0, 0.0, 20], [101.0, 1.0, 50], [40, 7, 10]]\n",
    "MultiPoint(c).bbox\n",
    "\n",
    "str(mp)"
   ]
  },
  {
   "cell_type": "code",
   "execution_count": null,
   "metadata": {
    "collapsed": false
   },
   "outputs": [],
   "source": [
    "def bbox_overlap(A, B):\n",
    "    \"\"\"\n",
    "    Test if two bounding boxes overlap\n",
    "    \n",
    "    Arguments\n",
    "    ---------\n",
    "    A, B: list of [left, bottom, right, top]\n",
    "    \"\"\"\n",
    "    l = 0\n",
    "    b = 1\n",
    "    r = 2\n",
    "    t = 3\n",
    "    if A[b] > B[t] or A[t] < B[b] or A[r] < B[l] or A[l] > B[r]:\n",
    "        return False\n",
    "    else:\n",
    "        return True\n",
    "    \n",
    "b1 = [0,0, 10,10]\n",
    "b2 = [11,0, 10, 10]\n",
    "bbox_overlap(b1, b2)\n",
    "b2 = [5,5, 10, 10]\n",
    "bbox_overlap(b1, b2)\n",
    "b2 = [-5,5, -1, 10]\n",
    "bbox_overlap(b1, b2)\n",
    "b2 = [10,10, 20,20]\n",
    "bbox_overlap(b1, b2)\n",
    "\n"
   ]
  },
  {
   "cell_type": "code",
   "execution_count": null,
   "metadata": {
    "collapsed": false
   },
   "outputs": [],
   "source": [
    "cfc = FeatureCollection()"
   ]
  },
  {
   "cell_type": "code",
   "execution_count": null,
   "metadata": {
    "collapsed": false
   },
   "outputs": [],
   "source": [
    "a = range(3)\n",
    "b = range(5,6)\n",
    "common_vertices = [v for v in a if v in b]\n",
    "if common_vertices:\n",
    "    print True"
   ]
  },
  {
   "cell_type": "code",
   "execution_count": null,
   "metadata": {
    "collapsed": true
   },
   "outputs": [],
   "source": [
    "def _queen(ring1, ring2):\n",
    "    common_vertices = [v for v in ring1 if v in ring2]\n",
    "    if common_vertices:\n",
    "        return True\n",
    "    return False\n",
    "    "
   ]
  },
  {
   "cell_type": "code",
   "execution_count": null,
   "metadata": {
    "collapsed": false
   },
   "outputs": [],
   "source": [
    "_queen(range(10), range(5,9))"
   ]
  },
  {
   "cell_type": "code",
   "execution_count": null,
   "metadata": {
    "collapsed": false
   },
   "outputs": [],
   "source": [
    "_queen(range(10), range(20,40))"
   ]
  },
  {
   "cell_type": "code",
   "execution_count": null,
   "metadata": {
    "collapsed": true
   },
   "outputs": [],
   "source": []
  },
  {
   "cell_type": "code",
   "execution_count": null,
   "metadata": {
    "collapsed": false
   },
   "outputs": [],
   "source": [
    "def _queen(ring1, ring2):\n",
    "    common_vertices = [v for v in ring1 if v in ring2]\n",
    "    if common_vertices:\n",
    "        return True\n",
    "    return False\n",
    "    \n",
    "\n",
    "def _rook(ring1, ring2):\n",
    "    n1 = len(ring1)\n",
    "    n2 = len(ring2)\n",
    "    edges1 = [sorted(ring1[l:l+2]) for l in range(n1-1)]\n",
    "    edges2 = [sorted(ring2[l:l+2]) for l in range(n2-1)]\n",
    "    common_edges = [e for e in edges1 if e in edges2]\n",
    "    if common_edges:\n",
    "        return True\n",
    "    return False\n",
    "    \n",
    "def contiguous(g1, g2, criterion='QUEEN'):\n",
    "    \n",
    "    if g1.type != g2.type:\n",
    "        raise ValueError('Geometries must be of same type.')\n",
    "    elif not bbox_overlap(g1.bbox, g2.bbox):\n",
    "        # bounding box containing all g1 rings not overlapping that of g2\n",
    "        return False\n",
    "    else:\n",
    "        criterion = criterion.lower()\n",
    "        # check if the bounding boxes for any rings in g1 overlap with any rings in g2\n",
    "        overlap = False\n",
    "        if g1.type == 'Polygon':\n",
    "            # find all pairs where a ring from g1 and a ring from g2 have overlapping bbs\n",
    "            pairs = []\n",
    "            for i, bbox1 in enumerate(g1.bboxes):\n",
    "                for j, bbox2 in enumerate(g2.bboxes):\n",
    "                    if bbox_overlap(bbox1, bbox2):\n",
    "                        overlap=True\n",
    "                        pairs.append((i,j))\n",
    "            if overlap:\n",
    "                # search overlapping pairs and the first (if any) neighbor pair\n",
    "                for pair in pairs:\n",
    "                    i, j = pair\n",
    "                    pi = g1.coordinates[i]\n",
    "                    pj = g2.coordinates[j]\n",
    "                    if _queen(pi, pj):\n",
    "                        if criterion == 'queen':\n",
    "                            return True\n",
    "                        else:\n",
    "                            return _rook(pi, pj)\n",
    "                return False\n",
    "            else:\n",
    "                return False\n",
    "           \n",
    "        elif g1.type == 'MultiPolygon':\n",
    "            pairs = []\n",
    "            overlap = False\n",
    "            for i, pi in enumerate(g1.bboxes):\n",
    "                for ii, bi in enumerate(pi):\n",
    "                    for j, pj in enumerate(g2.bboxes):\n",
    "                        for jj, bj in enumerate(pj):\n",
    "                            if bbox_overlap(bi, bj):\n",
    "                                overlap = True\n",
    "                                pair = (i,ii,j,jj)\n",
    "                                pairs.append(pair)\n",
    "                                \n",
    "            if overlap:\n",
    "                for pair in pairs:\n",
    "                    i, ii, j, jj = pair\n",
    "                    pi = g1.coordinates[i][ii]\n",
    "                    pj = g2.coordinates[j][jj]\n",
    "                    if _queen(pi, pj):\n",
    "                        if criterion == 'queen':\n",
    "                            return  True \n",
    "                        else:\n",
    "                            return _rook(pi, pj)\n",
    "                return False\n",
    "            else:\n",
    "                return False\n",
    "        else:\n",
    "            return False\n",
    "\n",
    "       "
   ]
  },
  {
   "cell_type": "code",
   "execution_count": null,
   "metadata": {
    "collapsed": true
   },
   "outputs": [],
   "source": [
    "cvc = FeatureCollection(ps.examples.get_path('columbus.json'))"
   ]
  },
  {
   "cell_type": "code",
   "execution_count": null,
   "metadata": {
    "collapsed": false
   },
   "outputs": [],
   "source": [
    "g0 = cvc.features[0]['geometry']\n",
    "g1 = cvc.features[1]['geometry']\n",
    "g3 = cvc.features[3]['geometry']\n",
    "print(contiguous(g0, g1))\n",
    "print(contiguous(g0, g3))"
   ]
  },
  {
   "cell_type": "code",
   "execution_count": null,
   "metadata": {
    "collapsed": true
   },
   "outputs": [],
   "source": []
  },
  {
   "cell_type": "code",
   "execution_count": null,
   "metadata": {
    "collapsed": true
   },
   "outputs": [],
   "source": [
    "fp = ps.examples.get_path('virginia.json')\n",
    "vfc = FeatureCollection(fp)"
   ]
  },
  {
   "cell_type": "code",
   "execution_count": null,
   "metadata": {
    "collapsed": false
   },
   "outputs": [],
   "source": [
    "g0 = vfc.features[0]['geometry']\n",
    "g3 = vfc.features[3]['geometry']\n",
    "print(contiguous(g0, g3))\n",
    "g2 = vfc.features[2]['geometry']\n",
    "print(contiguous(g0, g2))\n",
    "g4 = vfc.features[4]"
   ]
  },
  {
   "cell_type": "code",
   "execution_count": null,
   "metadata": {
    "collapsed": false
   },
   "outputs": [],
   "source": [
    "print(contiguous(g0, g2), 'rook')\n"
   ]
  },
  {
   "cell_type": "code",
   "execution_count": null,
   "metadata": {
    "collapsed": false
   },
   "outputs": [],
   "source": [
    "g1 = vfc.features[1]['geometry']\n",
    "print(contiguous(g0, g1))"
   ]
  },
  {
   "cell_type": "code",
   "execution_count": null,
   "metadata": {
    "collapsed": false
   },
   "outputs": [],
   "source": [
    "g2.coordinates[0][0]"
   ]
  },
  {
   "cell_type": "code",
   "execution_count": null,
   "metadata": {
    "collapsed": true
   },
   "outputs": [],
   "source": [
    "f0 = vfc.features[0]\n",
    "f2 = vfc.features[2]"
   ]
  },
  {
   "cell_type": "code",
   "execution_count": null,
   "metadata": {
    "collapsed": false
   },
   "outputs": [],
   "source": [
    "g0.bbox"
   ]
  },
  {
   "cell_type": "code",
   "execution_count": null,
   "metadata": {
    "collapsed": false
   },
   "outputs": [],
   "source": [
    "g2.bbox"
   ]
  },
  {
   "cell_type": "code",
   "execution_count": null,
   "metadata": {
    "collapsed": false
   },
   "outputs": [],
   "source": [
    "f2"
   ]
  },
  {
   "cell_type": "code",
   "execution_count": null,
   "metadata": {
    "collapsed": true
   },
   "outputs": [],
   "source": []
  },
  {
   "cell_type": "code",
   "execution_count": null,
   "metadata": {
    "collapsed": true
   },
   "outputs": [],
   "source": []
  },
  {
   "cell_type": "code",
   "execution_count": null,
   "metadata": {
    "collapsed": true
   },
   "outputs": [],
   "source": []
  },
  {
   "cell_type": "code",
   "execution_count": null,
   "metadata": {
    "collapsed": true
   },
   "outputs": [],
   "source": []
  },
  {
   "cell_type": "code",
   "execution_count": null,
   "metadata": {
    "collapsed": true
   },
   "outputs": [],
   "source": []
  },
  {
   "cell_type": "code",
   "execution_count": null,
   "metadata": {
    "collapsed": true
   },
   "outputs": [],
   "source": []
  },
  {
   "cell_type": "code",
   "execution_count": null,
   "metadata": {
    "collapsed": true
   },
   "outputs": [],
   "source": []
  },
  {
   "cell_type": "code",
   "execution_count": null,
   "metadata": {
    "collapsed": true
   },
   "outputs": [],
   "source": []
  },
  {
   "cell_type": "code",
   "execution_count": null,
   "metadata": {
    "collapsed": false
   },
   "outputs": [],
   "source": [
    "# full enumeration check of contiguity\n",
    "# in practice we would filter the bounding boxes first and then only check overlapping pairs\n",
    "\n",
    "# virginia is a good test case as it has holes as well as embedded polygons (one polygons hole ring is another polygon's exterior ring)\n",
    "neighbors = dict([(i,[]) for i in xrange(vfc.n_features)])\n",
    "for i in xrange(vfc.n_features - 1):\n",
    "    gi = vfc.features[i]['geometry']\n",
    "    for j in xrange(i+1, vfc.n_features):\n",
    "            gj = vfc.features[j]['geometry']\n",
    "            if contiguous(gi, gj):\n",
    "                neighbors[i].append(j)\n",
    "                neighbors[j].append(i)\n"
   ]
  },
  {
   "cell_type": "code",
   "execution_count": null,
   "metadata": {
    "collapsed": false
   },
   "outputs": [],
   "source": [
    "neighbors"
   ]
  },
  {
   "cell_type": "code",
   "execution_count": null,
   "metadata": {
    "collapsed": true
   },
   "outputs": [],
   "source": []
  },
  {
   "cell_type": "code",
   "execution_count": null,
   "metadata": {
    "collapsed": true
   },
   "outputs": [],
   "source": []
  }
 ],
 "metadata": {
  "kernelspec": {
   "display_name": "Python 2",
   "language": "python",
   "name": "python2"
  },
  "language_info": {
   "codemirror_mode": {
    "name": "ipython",
    "version": 2
   },
   "file_extension": ".py",
   "mimetype": "text/x-python",
   "name": "python",
   "nbconvert_exporter": "python",
   "pygments_lexer": "ipython2",
   "version": "2.7.10"
  }
 },
 "nbformat": 4,
 "nbformat_minor": 0
}
