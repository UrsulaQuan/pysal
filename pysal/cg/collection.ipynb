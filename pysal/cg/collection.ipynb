{
 "cells": [
  {
   "cell_type": "code",
   "execution_count": 1,
   "metadata": {
    "collapsed": true
   },
   "outputs": [],
   "source": [
    "import pysal as ps\n",
    "import numpy as np\n",
    "import json"
   ]
  },
  {
   "cell_type": "code",
   "execution_count": 2,
   "metadata": {
    "collapsed": false
   },
   "outputs": [
    {
     "data": {
      "text/plain": [
       "{'description': 'Virginia counties shapefile',\n",
       " 'explanation': ['  * virginia.shp: Shapefile',\n",
       "  '  * virginia.shx: shapefile index',\n",
       "  '  * virginia.dbf: attributes',\n",
       "  '  * virginia.prj: shapefile projection',\n",
       "  '  * virginia.json: geojson file'],\n",
       " 'name': 'virginia'}"
      ]
     },
     "execution_count": 2,
     "metadata": {},
     "output_type": "execute_result"
    }
   ],
   "source": [
    "ps.examples.explain('virginia')"
   ]
  },
  {
   "cell_type": "code",
   "execution_count": 3,
   "metadata": {
    "collapsed": true
   },
   "outputs": [],
   "source": [
    "def geojson_handler(file_path):\n",
    "    with open(file_path) as source:\n",
    "        data = json.load(source)\n",
    "    feature_type = data['features'][0]['geometry']['type']\n",
    "    return data"
   ]
  },
  {
   "cell_type": "code",
   "execution_count": 4,
   "metadata": {
    "collapsed": true
   },
   "outputs": [],
   "source": [
    "data = geojson_handler(ps.examples.get_path('virginia.json'))"
   ]
  },
  {
   "cell_type": "code",
   "execution_count": 5,
   "metadata": {
    "collapsed": false
   },
   "outputs": [
    {
     "data": {
      "text/plain": [
       "[u'crs', u'type', u'features']"
      ]
     },
     "execution_count": 5,
     "metadata": {},
     "output_type": "execute_result"
    }
   ],
   "source": [
    "data.keys()"
   ]
  },
  {
   "cell_type": "code",
   "execution_count": 6,
   "metadata": {
    "collapsed": true
   },
   "outputs": [],
   "source": [
    "f0 = data['features'][0]['geometry']['type']"
   ]
  },
  {
   "cell_type": "code",
   "execution_count": 7,
   "metadata": {
    "collapsed": false
   },
   "outputs": [
    {
     "data": {
      "text/plain": [
       "u'MultiPolygon'"
      ]
     },
     "execution_count": 7,
     "metadata": {},
     "output_type": "execute_result"
    }
   ],
   "source": [
    "f0"
   ]
  },
  {
   "cell_type": "code",
   "execution_count": 8,
   "metadata": {
    "collapsed": false
   },
   "outputs": [
    {
     "data": {
      "text/plain": [
       "u'MultiPolygon'"
      ]
     },
     "execution_count": 8,
     "metadata": {},
     "output_type": "execute_result"
    }
   ],
   "source": [
    "f0"
   ]
  },
  {
   "cell_type": "code",
   "execution_count": 53,
   "metadata": {
    "collapsed": false
   },
   "outputs": [],
   "source": [
    "class GeometryCollection(object):\n",
    "    def __init__(self, geometries, bbox=None):\n",
    "        self.geometries = geometries\n",
    "        self.type = 'Abstract'\n",
    "        self._cache = {}\n",
    "        self.setbbox(bbox)\n",
    "        \n",
    "    def getbbox(self): \n",
    "        return self.__bbox\n",
    "    def setbbox(self, value): \n",
    "        if value is None:\n",
    "            value = self.build_bbox()\n",
    "        self.__bbox = value\n",
    "    bbox = property(getbbox, setbbox)  \n",
    "    \n",
    "    def build_bbox(self):\n",
    "        x0 = y0 = np.Infinity\n",
    "        x1 = y1 = -np.Infinity\n",
    "        for geometry in self.geometries:\n",
    "            print geometry\n",
    "        \n",
    "\n",
    "class PolygonCollection(GeometryCollection):\n",
    "    def __init__(self, geometries, bbox=None):\n",
    "        super(PolygonCollection, self).__init__(geometries, bbox)\n",
    "        self.type = 'Polygon'\n",
    "    \n",
    "    def build_bbox(self):\n",
    "        x0 = y0 = np.Infinity\n",
    "        x1 = y1 = -np.Infinity\n",
    "        for i, geometry in enumerate(self.geometries):\n",
    "            nrings = len(geometry)\n",
    "            for r, ring in enumerate(geometry):\n",
    "                nc = len(ring)\n",
    "                xs = [c[0] for c in ring]\n",
    "                ys = [c[1] for c in ring]\n",
    "                x0 = min(min(xs), x0)\n",
    "                x1 = max(max(xs), x1)\n",
    "                y0 = min(min(ys), y0)\n",
    "                y1 = max(max(ys), y1)\n",
    "                #print(i, nrings, nc)\n",
    "        return([x0, x1, y0, y1])\n",
    "        \n",
    "    \n",
    "\n",
    "class MultiPolygonCollection(GeometryCollection):\n",
    "    def __init__(self, geometries, bbox=None):\n",
    "        super(MultiPolygonCollection, self).__init__(geometries, bbox)\n",
    "        self.type = 'MultiPolygon'\n",
    "        \n",
    "    def build_bbox(self):\n",
    "        x0 = y0 = np.Infinity\n",
    "        x1 = y1 = -np.Infinity\n",
    "        for i, geometry in enumerate(self.geometries):\n",
    "            npolys = len(geometry)\n",
    "            nr = 0\n",
    "            for j,poly in enumerate(geometry):\n",
    "                nr = len(poly)\n",
    "                \n",
    "                for r,ring in enumerate(poly):\n",
    "                    print(i, j, r, len(ring))\n",
    "           \n",
    "            print('\\n')\n",
    "            \n",
    "    \n",
    "class PointCollection(GeometryCollection):\n",
    "    def __init__(self, geometries, bbox=None):\n",
    "        super(PointCollection, self).__init__(geometries, bbox)\n",
    "        self.type = 'Point'\n",
    "        \n",
    "    def build_bbox(self):\n",
    "        x0 = y0 = np.Infinity\n",
    "        x1 = y1 = -np.Infinity\n",
    "        coords = np.array(list(self.geometries))\n",
    "        maxc = coords.max(axis=0).tolist()\n",
    "        minc = coords.min(axis=0).tolist()\n",
    "        #print(coords)\n",
    "        #print(minc, maxc)\n",
    "        return([minc[0], minc[1], maxc[0], maxc[1]])\n",
    "        \n",
    "    \n",
    "class LineCollection(GeometryCollection):\n",
    "    def __init__(self, geometries, bbox=None):\n",
    "        super(LineCollection, self).__init__(geometries, bbox)\n",
    "        self.type = 'Point'\n",
    "        \n",
    "    def build_bbox(self):\n",
    "        raise NotImplemented\n",
    "    "
   ]
  },
  {
   "cell_type": "code",
   "execution_count": 54,
   "metadata": {
    "collapsed": false
   },
   "outputs": [],
   "source": [
    "dispatcher = {}\n",
    "dispatcher[u'Polygon'] = PolygonCollection\n",
    "dispatcher[u'MultiPolygon'] = MultiPolygonCollection\n",
    "dispatcher[u'Point'] = PointCollection\n",
    "\n",
    "def geojson_handler(file_path):\n",
    "    with open(file_path) as source:\n",
    "        data = json.load(source)\n",
    "    feature_type = data['features'][0]['geometry']['type']\n",
    "    geometries = (feature['geometry']['coordinates'] for feature in data['features'])\n",
    "    collection = dispatcher[feature_type](geometries)\n",
    "    return collection\n",
    "\n",
    "#v = geojson_handler(ps.examples.get_path('virginia.json'))\n",
    "b = geojson_handler(ps.examples.get_path('burkitt.geojson'))\n",
    "c = geojson_handler(ps.examples.get_path('columbus.json'))\n"
   ]
  },
  {
   "cell_type": "code",
   "execution_count": 28,
   "metadata": {
    "collapsed": false
   },
   "outputs": [
    {
     "data": {
      "text/plain": [
       "'MultiPolygon'"
      ]
     },
     "execution_count": 28,
     "metadata": {},
     "output_type": "execute_result"
    }
   ],
   "source": [
    "v.type"
   ]
  },
  {
   "cell_type": "code",
   "execution_count": 29,
   "metadata": {
    "collapsed": false
   },
   "outputs": [
    {
     "data": {
      "text/plain": [
       "'Point'"
      ]
     },
     "execution_count": 29,
     "metadata": {},
     "output_type": "execute_result"
    }
   ],
   "source": [
    "b.type"
   ]
  },
  {
   "cell_type": "code",
   "execution_count": 13,
   "metadata": {
    "collapsed": false
   },
   "outputs": [
    {
     "data": {
      "text/plain": [
       "<generator object <genexpr> at 0x7f765c3746e0>"
      ]
     },
     "execution_count": 13,
     "metadata": {},
     "output_type": "execute_result"
    }
   ],
   "source": [
    "b.geometries"
   ]
  },
  {
   "cell_type": "code",
   "execution_count": 30,
   "metadata": {
    "collapsed": false
   },
   "outputs": [
    {
     "data": {
      "text/plain": [
       "'Polygon'"
      ]
     },
     "execution_count": 30,
     "metadata": {},
     "output_type": "execute_result"
    }
   ],
   "source": [
    "c.type"
   ]
  },
  {
   "cell_type": "code",
   "execution_count": 31,
   "metadata": {
    "collapsed": false
   },
   "outputs": [],
   "source": [
    "for g in c.geometries:\n",
    "    print g"
   ]
  },
  {
   "cell_type": "code",
   "execution_count": 34,
   "metadata": {
    "collapsed": false
   },
   "outputs": [
    {
     "data": {
      "text/plain": [
       "[5.87490701675415, 11.287420272827148, 10.788629531860352, 14.742449760437012]"
      ]
     },
     "execution_count": 34,
     "metadata": {},
     "output_type": "execute_result"
    }
   ],
   "source": [
    "c.bbox"
   ]
  },
  {
   "cell_type": "code",
   "execution_count": 55,
   "metadata": {
    "collapsed": false
   },
   "outputs": [
    {
     "data": {
      "text/plain": [
       "[255.0, 247.0, 335.0, 399.0]"
      ]
     },
     "execution_count": 55,
     "metadata": {},
     "output_type": "execute_result"
    }
   ],
   "source": [
    "b.bbox"
   ]
  },
  {
   "cell_type": "code",
   "execution_count": null,
   "metadata": {
    "collapsed": true
   },
   "outputs": [],
   "source": []
  }
 ],
 "metadata": {
  "kernelspec": {
   "display_name": "Python 2",
   "language": "python",
   "name": "python2"
  },
  "language_info": {
   "codemirror_mode": {
    "name": "ipython",
    "version": 2
   },
   "file_extension": ".py",
   "mimetype": "text/x-python",
   "name": "python",
   "nbconvert_exporter": "python",
   "pygments_lexer": "ipython2",
   "version": "2.7.10"
  }
 },
 "nbformat": 4,
 "nbformat_minor": 0
}
