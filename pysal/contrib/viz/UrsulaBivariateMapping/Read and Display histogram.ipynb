{
 "cells": [
  {
   "cell_type": "code",
   "execution_count": 86,
   "metadata": {
    "collapsed": false
   },
   "outputs": [],
   "source": [
    "%matplotlib inline\n",
    "import pysal as ps\n",
    "import numpy as np\n",
    "#from pysal.contrib import pdio\n",
    "import matplotlib.pyplot as plt\n",
    "import seaborn as sns\n",
    "import pandas as pd\n",
    "import scipy.stats as stats"
   ]
  },
  {
   "cell_type": "markdown",
   "metadata": {},
   "source": [
    "## How to classify"
   ]
  },
  {
   "cell_type": "code",
   "execution_count": 88,
   "metadata": {
    "collapsed": true
   },
   "outputs": [
    {
     "data": {
      "text/plain": [
       "[0,\n",
       " 0,\n",
       " 0,\n",
       " 0,\n",
       " 0,\n",
       " 0,\n",
       " 0,\n",
       " 0,\n",
       " 0,\n",
       " 0,\n",
       " 1,\n",
       " 1,\n",
       " 1,\n",
       " 1,\n",
       " 1,\n",
       " 1,\n",
       " 1,\n",
       " 1,\n",
       " 1,\n",
       " 1,\n",
       " 2,\n",
       " 2,\n",
       " 2,\n",
       " 2,\n",
       " 2,\n",
       " 2,\n",
       " 2,\n",
       " 2,\n",
       " 2,\n",
       " 3,\n",
       " 3,\n",
       " 3,\n",
       " 3,\n",
       " 3,\n",
       " 3,\n",
       " 3,\n",
       " 3,\n",
       " 3,\n",
       " 3,\n",
       " 4,\n",
       " 4,\n",
       " 4,\n",
       " 4,\n",
       " 4,\n",
       " 4,\n",
       " 4,\n",
       " 4,\n",
       " 4,\n",
       " 4]"
      ]
     },
     "execution_count": 88,
     "metadata": {},
     "output_type": "execute_result"
    }
   ],
   "source": [
    "class Classifications:\n",
    "    def __init__(self, shape_name, attribute, k):\n",
    "        df = ps.pdio.read_files(ps.examples.get_path(shape_name))\n",
    "        self.attribute = attribute\n",
    "        self.shape_name = shape_name\n",
    "        self.data = [i[0] for i in df[[attribute]].values.tolist()]\n",
    "        self.k = k\n",
    "    \n",
    "    def quantiles(self):\n",
    "        w = 100. / self.k\n",
    "        p = np.arange(w, 100 + w, w)\n",
    "        if p[-1] > 100.0:\n",
    "            p[-1] = 100.0\n",
    "        q = np.array([stats.scoreatpercentile(self.data, pct) for pct in p])\n",
    "        return np.unique(q)\n",
    "\n",
    "    def equal_interval(self):\n",
    "        mi = min(self.data)\n",
    "        ma = max(self.data)\n",
    "        width = (ma - mi)/ float(self.k)\n",
    "        cuts = np.arange(mi+width, ma + width, width)\n",
    "        if len(cuts) > self.k:\n",
    "            cuts = cuts[0:self.k]\n",
    "        cuts[-1] = ma\n",
    "        q = cuts.copy()\n",
    "        return np.unique(q)\n",
    "    \n",
    "    def natural_breaks(self):\n",
    "        pass\n",
    "    \n",
    "    def mean_standard_deviation(self):\n",
    "        pass\n",
    "    \n",
    "    def judge(self, cla_method):\n",
    "        claR = []\n",
    "        if cla_method == 'QT':\n",
    "            claR = self.quantiles()\n",
    "        if cla_method == 'EI':\n",
    "            claR = self.equal_interval()\n",
    "        if cla_method == 'NB':\n",
    "            claR = self.natural_breaks()\n",
    "        if cla_method == 'MSD':\n",
    "            claR = self.mean_standard_deviation()\n",
    "        \n",
    "        class_N = []\n",
    "        for i, data in enumerate(self.data):\n",
    "            for k, clas in enumerate(claR):\n",
    "                if (data <= clas and k == 0) or (data <= clas and data > claR[k-1]):\n",
    "                    c = k\n",
    "                    class_N.append(c)\n",
    "                else: continue\n",
    "        return class_N\n",
    "\n",
    "c = Classifications('columbus.dbf', 'CRIME', 5)\n",
    "classification = c.judge('QT')\n",
    "classification.sort()\n",
    "classification"
   ]
  },
  {
   "cell_type": "markdown",
   "metadata": {},
   "source": [
    "### for Pysal"
   ]
  },
  {
   "cell_type": "code",
   "execution_count": 89,
   "metadata": {
    "collapsed": false
   },
   "outputs": [
    {
     "data": {
      "text/plain": [
       "[(17.9, 22.85),\n",
       " (23.225, 30.450001),\n",
       " (30.6, 37.125),\n",
       " (39.599998, 44.567001),\n",
       " (47.733002, 96.400002)]"
      ]
     },
     "execution_count": 89,
     "metadata": {},
     "output_type": "execute_result"
    }
   ],
   "source": [
    "df = ps.pdio.read_files(ps.examples.get_path('columbus.dbf'))\n",
    "#classifier = ps.Quantiles.make(k=9)\n",
    "#classification = df[['HOVAL']]\n",
    "df[['class']] = df[['HOVAL']].apply(ps.Quantiles.make(k=5))\n",
    "\n",
    "mini = df[['HOVAL','class']].groupby(['class']).agg(['min'])\n",
    "maxm = df[['HOVAL','class']].groupby(['class']).agg(['max'])\n",
    "m1 = [i[0] for i in mini.values.tolist()]\n",
    "m2 = [i[0] for i in maxm.values.tolist()]\n",
    "ran = zip(m1,m2)\n",
    "ran"
   ]
  },
  {
   "cell_type": "markdown",
   "metadata": {
    "collapsed": false
   },
   "source": [
    "## How to draw plots"
   ]
  },
  {
   "cell_type": "code",
   "execution_count": 90,
   "metadata": {
    "collapsed": false
   },
   "outputs": [
    {
     "data": {
      "image/png": "[encoded data removed]",
      "text/plain": [
       "<matplotlib.figure.Figure at 0x110bce090>"
      ]
     },
     "metadata": {},
     "output_type": "display_data"
    }
   ],
   "source": [
    "from itertools import groupby\n",
    "class Plotting (Classifications):\n",
    "    def __init__(self, shape_name, attribute, k, color):\n",
    "        Classifications.__init__(self, shape_name, attribute, k)\n",
    "        self.color = color\n",
    "    def distribution(self,cla_method):\n",
    "        if cla_method == 'QT':\n",
    "            clalines = Classifications.quantiles(self)\n",
    "        if cla_method == 'EI':\n",
    "            clalines = Classifications.equal_interval(self)\n",
    "        if cla_method == 'NB':\n",
    "            clalines = Classifications.natural_breaks(self)\n",
    "        if cla_method == 'MSD':\n",
    "            clalines = sClassifications.mean_standard_deviation(self)\n",
    "        \n",
    "        sns.set(palette=\"muted\", color_codes=True)\n",
    "        sns.set_style(\"ticks\", {\"xtick.major.size\": 2, \"ytick.major.size\": 2})\n",
    "        c = clalines.tolist()\n",
    "        c.append(min(self.data))\n",
    "        \n",
    "        plt.subplot(2,1,1)\n",
    "        for i in c:\n",
    "            plt.axvline(x=i,color = self.color)\n",
    "        fig1 = sns.distplot(self.data, hist=False,rug=True,kde_kws={\"shade\": True},color=self.color)\n",
    "        #plt.legend(fig1, [aaa], loc = \"upper right\", title = self.shape_name)\n",
    "\n",
    "        plt.subplot(2,1,2)\n",
    "        a = Classifications.judge(self, cla_method)\n",
    "        a.sort()\n",
    "        field = [len(list(group)) for key, group in groupby(a)]\n",
    "        x=self.k\n",
    "        y=field\n",
    "        sns.set_context(rc={\"figure.figsize\": (8, 4)})\n",
    "        nd = np.arange(x)\n",
    "        width=1\n",
    "        plt.xticks(nd+width/2., ('First','Second','Third','Fourth','Fifth', 'Sixth','Seveth','Eighth','Nineth'))\n",
    "        plt.xlim(-0.5,self.k+1)\n",
    "        fig = plt.bar(nd, y, color=sns.color_palette('OrRd',self.k))\n",
    "        plt.legend(fig, [self.attribute], loc = \"upper right\", title = self.shape_name)\n",
    "        plt.show()\n",
    "    def legend(self,cla_method):\n",
    "        pass\n",
    "    \n",
    "p = Plotting('columbus.dbf','CRIME', 5, 'r')\n",
    "p.distribution('QT')"
   ]
  },
  {
   "cell_type": "code",
   "execution_count": 92,
   "metadata": {
    "collapsed": false
   },
   "outputs": [
    {
     "data": {
      "image/png": "[encoded data removed]",
      "text/plain": [
       "<matplotlib.figure.Figure at 0x113f03dd0>"
      ]
     },
     "metadata": {},
     "output_type": "display_data"
    }
   ],
   "source": [
    "df1 = ps.pdio.read_files(ps.examples.get_path('columbus.dbf'))['HOVAL']\n",
    "df2 = ps.pdio.read_files(ps.examples.get_path('columbus.dbf'))['CRIME']\n",
    "field1 = []\n",
    "field2 = []\n",
    "sns.set(style=\"ticks\", palette=\"muted\", color_codes=True)\n",
    "sns.set_style(\"ticks\", {\"xtick.major.size\": 2, \"ytick.major.size\": 2})\n",
    "\n",
    "for data1,data2 in zip(df1.values.tolist(),df2.values.tolist()):\n",
    "    field1.append(data1)\n",
    "    field2.append(data2)\n",
    "\n",
    "plt.subplot(3,1,1)\n",
    "for i in m2:\n",
    "    plt.axvline(x=i,color = 'r')\n",
    "#ax.get_yaxis().set_visible(False)\n",
    "#fig = plt.bar(nd, y, color=sns.color_palette(\"Greens_d\"))\n",
    "fig1 = sns.distplot(field1,hist=False,rug=True,kde_kws={\"shade\": True},color=\"r\")\n",
    "\n",
    "plt.subplot(3,1,2)\n",
    "for i in m2:\n",
    "    plt.axvline(x=i,color = 'b')\n",
    "fig2 = sns.distplot(field2,hist=False,rug=True,kde_kws={\"shade\": True},color=\"b\");\n",
    "\n",
    "plt.subplot(3,1,3)\n",
    "def read_filed(name = 'columbus.dbf',filed = 'CRIME', classification = 'Quantiles', k = 5, color = \"Greens_d\"):\n",
    "    df = ps.pdio.read_files(ps.examples.get_path('columbus.dbf'))\n",
    "    df[['class']] = df[['HOVAL']].apply(ps.Quantiles.make(k=5))\n",
    "    #df.head()\n",
    "    classifications = df[['HOVAL','class']].groupby(['class']).agg(['count'])# ?? what is k??\n",
    "    cla = classifications.head()\n",
    "    field = []\n",
    "    for data in classifications.values.tolist():\n",
    "        field.append(data[0])\n",
    "    x=5\n",
    "    y=field\n",
    "    sns.set_context(rc={\"figure.figsize\": (8, 4)})\n",
    "    nd = np.arange(x)\n",
    "    width=1\n",
    "    plt.xticks(nd+width/2., ('First','Second','Third','Fourth','Fifth'))\n",
    "    plt.xlim(-0.5,5.5)\n",
    "    fig = plt.bar(nd, y, color=sns.color_palette(color,5))\n",
    "    plt.legend(fig, [filed], loc = \"upper right\", title = classification)\n",
    "    plt.show()\n",
    "    return field\n",
    "\n",
    "a = read_filed(name = 'columbus.dbf',filed = 'CRIME', classification = 'Quantiles', k = 8, color = \"Purples\")"
   ]
  },
  {
   "cell_type": "markdown",
   "metadata": {},
   "source": [
    "## Legend"
   ]
  },
  {
   "cell_type": "code",
   "execution_count": 93,
   "metadata": {
    "collapsed": true
   },
   "outputs": [],
   "source": [
    "from matplotlib.colors import LinearSegmentedColormap"
   ]
  },
  {
   "cell_type": "code",
   "execution_count": 94,
   "metadata": {
    "collapsed": false
   },
   "outputs": [
    {
     "data": {
      "text/plain": [
       "array([[ 8,  9, 10, 11, 12, 13, 14, 15, 16, 17],\n",
       "       [ 7,  8,  9, 10, 11, 12, 13, 14, 15, 16],\n",
       "       [ 6,  7,  8,  9, 10, 11, 12, 13, 14, 15],\n",
       "       [ 5,  6,  7,  8,  9, 10, 11, 12, 13, 14],\n",
       "       [ 4,  5,  6,  7,  8,  9, 10, 11, 12, 13],\n",
       "       [ 3,  4,  5,  6,  7,  8,  9, 10, 11, 12],\n",
       "       [ 2,  3,  4,  5,  6,  7,  8,  9, 10, 11],\n",
       "       [ 1,  2,  3,  4,  5,  6,  7,  8,  9, 10],\n",
       "       [ 0,  1,  2,  3,  4,  5,  6,  7,  8,  9]])"
      ]
     },
     "execution_count": 94,
     "metadata": {},
     "output_type": "execute_result"
    }
   ],
   "source": [
    "x = np.arange(0, 10, 1)\n",
    "y = np.arange(0, 9, 1)[::-1]\n",
    "X,Y = np.meshgrid(x, y)\n",
    "Z = X + Y\n",
    "Z"
   ]
  },
  {
   "cell_type": "code",
   "execution_count": null,
   "metadata": {
    "collapsed": false
   },
   "outputs": [],
   "source": []
  },
  {
   "cell_type": "code",
   "execution_count": 107,
   "metadata": {
    "collapsed": false
   },
   "outputs": [],
   "source": [
    "#get_ipython().magic(u'matplotlib inline')\n",
    "\n",
    "import matplotlib.pyplot as plt\n",
    "import matplotlib.patches as patches\n",
    "import matplotlib.colors as mpc\n",
    "\n",
    "#from ipywidgets import Dropdown, RadioButtons,  HBox, interact\n",
    "from IPython.display import display\n",
    "from pysal.contrib.viz import mapping as maps\n",
    "from pysal.contrib.viz.color import get_maps_by_type\n",
    "from pysal.contrib.viz.color import qualitative, sequential, diverging\n",
    "from pysal.contrib.viz.color import get_color_map\n",
    "\n",
    "ctypes = (sequential, diverging, qualitative)\n",
    "color_display_types = {}\n",
    "for ctype in ctypes:\n",
    "    cmaps = get_maps_by_type(ctype)\n",
    "    ctype_name = ctype.__name__.split(\".\")[-1]\n",
    "    displays = {}\n",
    "    for cmap in cmaps:\n",
    "        cmap = cmap.split(\"_\")[0]\n",
    "        if cmap not in displays:\n",
    "            c = get_color_map(cmtype=ctype_name, name=cmap)\n",
    "            displays[cmap] = c\n",
    "    color_display_types[ctype_name] = displays"
   ]
  },
  {
   "cell_type": "code",
   "execution_count": 108,
   "metadata": {
    "collapsed": false
   },
   "outputs": [
    {
     "data": {
      "text/plain": [
       "array([[239, 243, 255],\n",
       "       [189, 215, 231],\n",
       "       [107, 174, 214],\n",
       "       [ 49, 130, 189],\n",
       "       [  8,  81, 156]])"
      ]
     },
     "execution_count": 108,
     "metadata": {},
     "output_type": "execute_result"
    }
   ],
   "source": [
    "import palettable as pltt\n",
    "from palettable.colorbrewer import qualitative, sequential, diverging\n",
    "\n",
    "\n",
    "def _build_pltt2type():\n",
    "    types = ['sequential', 'diverging', 'qualitative']\n",
    "    pltt2type = {}\n",
    "    for t in types:\n",
    "        pals = list(set([\n",
    "            p.split('_')[0] for p in dir(getattr(pltt.colorbrewer, t))\n",
    "                            if p[0]!='_'\n",
    "                            ]))\n",
    "        pals = pals + [p+'_r' for p in pals]\n",
    "        for p in pals:\n",
    "            pltt2type[p.lower()] = t\n",
    "    return pltt2type\n",
    "\n",
    "pltt2type = _build_pltt2type()\n",
    "\n",
    "def get_maps_by_type(data_type):\n",
    "    names = [name for name in dir(data_type) if not name.startswith('_')]\n",
    "    return names\n",
    "\n",
    "def get_color_map(palette=None, name='BuGn', cmtype='sequential', k=5,\n",
    "                  color_encoding='rgb'):\n",
    "    encs = {'hex': 'hex_colors',\n",
    "            'rgb': 'colors',\n",
    "            'mpl': 'mpl_colors',\n",
    "            'mpl_colormap': 'mpl_colormap'}\n",
    "    if not palette:\n",
    "        cmtype = pltt2type[name.lower()]\n",
    "        if name[-2:] == '_r':\n",
    "            palette = pltt.colorbrewer.get_map(name[:-2], cmtype,\n",
    "                    k, reverse=True)\n",
    "        else:\n",
    "            palette = pltt.colorbrewer.get_map(name, cmtype, k)\n",
    "    colors = getattr(palette, encs[color_encoding.lower()])\n",
    "    return colors\n",
    "a= np.array(get_color_map(name='Blues'))\n",
    "a"
   ]
  },
  {
   "cell_type": "code",
   "execution_count": 109,
   "metadata": {
    "collapsed": false
   },
   "outputs": [
    {
     "data": {
      "text/plain": [
       "array([[254, 235, 226],\n",
       "       [251, 180, 185],\n",
       "       [247, 104, 161],\n",
       "       [197,  27, 138],\n",
       "       [122,   1, 119]])"
      ]
     },
     "execution_count": 109,
     "metadata": {},
     "output_type": "execute_result"
    }
   ],
   "source": [
    "b = np.array(get_color_map(name='RdPu'))\n",
    "b"
   ]
  },
  {
   "cell_type": "code",
   "execution_count": 110,
   "metadata": {
    "collapsed": false
   },
   "outputs": [
    {
     "data": {
      "text/plain": [
       "[['#f6eff0', '#dde1e4', '#b4ccdc', '#97b6cf', '#839ebf'],\n",
       " ['#f5d3dc', '#dcc5d0', '#b3b1c7', '#969bbb', '#8182aa'],\n",
       " ['#f3add0', '#da9fc4', '#b18bbb', '#9475af', '#7f5c9e'],\n",
       " ['#da87c4', '#c179b8', '#9864b0', '#7b4ea3', '#663693'],\n",
       " ['#b47abb', '#9b6caf', '#7257a6', '#55419a', '#412989']]"
      ]
     },
     "execution_count": 110,
     "metadata": {},
     "output_type": "execute_result"
    }
   ],
   "source": [
    "import struct\n",
    "legend = []\n",
    "for con2, belt in enumerate(b):\n",
    "    cls = []\n",
    "    for con1, hue in enumerate(a):\n",
    "        rgb = (belt + hue)/2\n",
    "        c = '#' + struct.pack('BBB',*rgb).encode('hex')\n",
    "        cls.append(c)\n",
    "    legend.append(cls)\n",
    "legend"
   ]
  },
  {
   "cell_type": "code",
   "execution_count": 111,
   "metadata": {
    "collapsed": false
   },
   "outputs": [
    {
     "data": {
      "image/png": "[encoded data removed]",
      "text/plain": [
       "<matplotlib.figure.Figure at 0x116648b10>"
      ]
     },
     "metadata": {},
     "output_type": "display_data"
    }
   ],
   "source": [
    "import matplotlib.colors as colors\n",
    "\n",
    "def bipcmaps(dtype, ):\n",
    "    fig = plt.figure(figsize=(2, 2))\n",
    "    w = h = 0.2\n",
    "    ax = fig.add_subplot(111, aspect='equal')\n",
    "    for i, cmap in enumerate(legend):\n",
    "        for j, clr in enumerate(cmap):\n",
    "            #c = colors.\n",
    "            c = mpc.hex2color(clr)\n",
    "            p = patches.Rectangle((i/5.,j/5.), w, h, fill=True, color=c)\n",
    "            ax.add_patch(p)\n",
    "    \n",
    "bipcmaps('sequential')"
   ]
  },
  {
   "cell_type": "code",
   "execution_count": 101,
   "metadata": {
    "collapsed": false
   },
   "outputs": [
    {
     "ename": "NameError",
     "evalue": "name 'ax' is not defined",
     "output_type": "error",
     "traceback": [
      "\u001b[0;31m---------------------------------------------------------------------------\u001b[0m",
      "\u001b[0;31mNameError\u001b[0m                                 Traceback (most recent call last)",
      "\u001b[0;32m<ipython-input-101-d7ae51e3a8de>\u001b[0m in \u001b[0;36m<module>\u001b[0;34m()\u001b[0m\n\u001b[1;32m     14\u001b[0m     \u001b[0mfield2\u001b[0m\u001b[0;34m.\u001b[0m\u001b[0mappend\u001b[0m\u001b[0;34m(\u001b[0m\u001b[0mdata2\u001b[0m\u001b[0;34m)\u001b[0m\u001b[0;34m\u001b[0m\u001b[0m\n\u001b[1;32m     15\u001b[0m \u001b[0;34m\u001b[0m\u001b[0m\n\u001b[0;32m---> 16\u001b[0;31m \u001b[0max\u001b[0m\u001b[0;34m.\u001b[0m\u001b[0mget_yaxis\u001b[0m\u001b[0;34m(\u001b[0m\u001b[0;34m)\u001b[0m\u001b[0;34m.\u001b[0m\u001b[0mset_visible\u001b[0m\u001b[0;34m(\u001b[0m\u001b[0mFalse\u001b[0m\u001b[0;34m)\u001b[0m\u001b[0;34m\u001b[0m\u001b[0m\n\u001b[0m\u001b[1;32m     17\u001b[0m \u001b[0;31m#fig = plt.bar(nd, y, color=sns.color_palette(\"Greens_d\"))\u001b[0m\u001b[0;34m\u001b[0m\u001b[0;34m\u001b[0m\u001b[0m\n\u001b[1;32m     18\u001b[0m \u001b[0mfig1\u001b[0m \u001b[0;34m=\u001b[0m \u001b[0msns\u001b[0m\u001b[0;34m.\u001b[0m\u001b[0mdistplot\u001b[0m\u001b[0;34m(\u001b[0m\u001b[0mfield1\u001b[0m\u001b[0;34m,\u001b[0m\u001b[0mhist\u001b[0m\u001b[0;34m=\u001b[0m\u001b[0mFalse\u001b[0m\u001b[0;34m,\u001b[0m\u001b[0mrug\u001b[0m\u001b[0;34m=\u001b[0m\u001b[0mTrue\u001b[0m\u001b[0;34m,\u001b[0m\u001b[0mkde_kws\u001b[0m\u001b[0;34m=\u001b[0m\u001b[0;34m{\u001b[0m\u001b[0;34m\"shade\"\u001b[0m\u001b[0;34m:\u001b[0m \u001b[0mTrue\u001b[0m\u001b[0;34m}\u001b[0m\u001b[0;34m,\u001b[0m\u001b[0mcolor\u001b[0m\u001b[0;34m=\u001b[0m\u001b[0;34m\"r\"\u001b[0m\u001b[0;34m)\u001b[0m\u001b[0;34m;\u001b[0m\u001b[0;34m\u001b[0m\u001b[0m\n",
      "\u001b[0;31mNameError\u001b[0m: name 'ax' is not defined"
     ]
    },
    {
     "data": {
      "image/png": "[encoded data removed]",
      "text/plain": [
       "<matplotlib.figure.Figure at 0x116468810>"
      ]
     },
     "metadata": {},
     "output_type": "display_data"
    }
   ],
   "source": [
    "plt.subplot(4,1,1)\n",
    "df1 = ps.pdio.read_files(ps.examples.get_path('columbus.dbf'))['HOVAL']\n",
    "df2 = ps.pdio.read_files(ps.examples.get_path('columbus.dbf'))['CRIME']\n",
    "field1 = []\n",
    "field2 = []\n",
    "sns.set(style=\"ticks\", palette=\"muted\", color_codes=True)\n",
    "sns.set_style(\"ticks\", {\"xtick.major.size\": 2, \"ytick.major.size\": 2})\n",
    "#\n",
    "for i in m2:\n",
    "    plt.axvline(x=i,color = 'r')\n",
    "#\n",
    "for data1,data2 in zip(df1.values.tolist(),df2.values.tolist()):\n",
    "    field1.append(data1)\n",
    "    field2.append(data2)\n",
    "    \n",
    "ax.get_yaxis().set_visible(False)\n",
    "#fig = plt.bar(nd, y, color=sns.color_palette(\"Greens_d\"))\n",
    "fig1 = sns.distplot(field1,hist=False,rug=True,kde_kws={\"shade\": True},color=\"r\");\n",
    "plt.subplot(4,1,2)\n",
    "def bipcmaps(dtype = 'sequential'):\n",
    "    fig = plt.figure(figsize=(2, 2))\n",
    "    w = h = 0.2\n",
    "    ax = fig.add_subplot(111, aspect='equal')\n",
    "    for i, cmap in enumerate(legend):\n",
    "        for j, clr in enumerate(cmap):\n",
    "            c = mpc.hex2color(clr)\n",
    "            p = patches.Rectangle((i/5.,j/5.), w, h, fill=True, color=c)\n",
    "            ax.add_patch(p)\n",
    "bipcmaps()\n",
    "plt.subplot(4,2,2)\n",
    "for i in m2:\n",
    "    plt.axvline(x=i,color = 'b')\n",
    "fig2 = sns.distplot(field2,hist=False,rug=True,kde_kws={\"shade\": True},color=\"b\");"
   ]
  },
  {
   "cell_type": "markdown",
   "metadata": {},
   "source": [
    "## Choropleth Mapping"
   ]
  },
  {
   "cell_type": "code",
   "execution_count": null,
   "metadata": {
    "collapsed": true
   },
   "outputs": [],
   "source": [
    "def plot_geocol_bk(gc, color=None, facecolor='#4D4D4D', edgecolor='#B3B3B3',\n",
    "        alpha=1., linewidth=0.2, marker_size=10, hover=True, p=None, col=None):\n",
    "    \n",
    "    geom = type(gc.iloc[0])\n",
    "    if color is not None:\n",
    "        facecolor = edgecolor = color\n",
    "    draw = False\n",
    "    if not p:\n",
    "        TOOLS=\"pan,wheel_zoom,box_zoom,reset,save\"\n",
    "        if hover:\n",
    "            TOOLS += ',hover'\n",
    "        p = bk.figure(tools=TOOLS,\n",
    "           x_axis_location=None, y_axis_location=None)\n",
    "        p.grid.grid_line_color = None\n",
    "        draw = True\n",
    "    # Geometry plotting\n",
    "    patch_xs = []\n",
    "    patch_ys = []\n",
    "    ids = []\n",
    "    pars = {'fc': facecolor, \\\n",
    "            'ec': edgecolor, \\\n",
    "            'alpha': alpha, \\\n",
    "            'lw': linewidth, \\\n",
    "            'ms': marker_size}\n",
    "    ## Polygons + Lines\n",
    "    if (geom == ps.cg.shapes.Polygon) or \\\n",
    "            (geom == ps.cg.shapes.Chain):\n",
    "        for idx, shape in gc.iteritems():\n",
    "            for ring in shape.parts:\n",
    "                xs, ys = zip(*ring)\n",
    "                patch_xs.append(xs)\n",
    "                patch_ys.append(ys)\n",
    "                ids.append(idx)\n",
    "        if hover and col:\n",
    "            tips = []\n",
    "            ds = dict(x=patch_xs, y=patch_ys)\n",
    "            for k,v in col.iteritems():\n",
    "                ds[k] = v\n",
    "                tips.append((k, \"@\"+k))\n",
    "            cds = bk.ColumnDataSource(data=ds)\n",
    "            h = p.select_one(HoverTool)\n",
    "            h.point_policy = 'follow_mouse'\n",
    "            h.tooltips = tips\n",
    "        else:\n",
    "            cds = bk.ColumnDataSource(data=dict(\n",
    "                        x=patch_xs,\n",
    "                        y=patch_ys\n",
    "                        ))\n",
    "        if type(facecolor) is pd.Series:\n",
    "            cds.add(facecolor.reindex(ids), 'facecolor')\n",
    "            pars['fc'] = 'facecolor'\n",
    "        if type(edgecolor) is pd.Series:\n",
    "            cds.add(edgecolor.reindex(ids), 'edgecolor')\n",
    "            pars['ec'] = 'edgecolor'\n",
    "        if type(alpha) is pd.Series:\n",
    "            cds.add(alpha.reindex(ids), 'alpha')\n",
    "            pars['alpha'] = 'alpha'\n",
    "        if type(linewidth) is pd.Series:\n",
    "            cds.add(linewidth.reindex(ids), 'linewidth')\n",
    "            pars['lw'] = 'linewidth'\n",
    "        if geom == ps.cg.shapes.Polygon:\n",
    "            p.patches('x', 'y', source=cds,\n",
    "              fill_color=pars['fc'],\n",
    "              line_color=pars['ec'],\n",
    "              fill_alpha=pars['alpha'],\n",
    "              line_width=pars['lw']\n",
    "              )\n",
    "            facecolor = 'None'\n",
    "            \n",
    "    if draw:\n",
    "        bk.show(p)\n",
    "    return None"
   ]
  },
  {
   "cell_type": "code",
   "execution_count": 112,
   "metadata": {
    "collapsed": true
   },
   "outputs": [],
   "source": [
    "from bokeh.io import show\n",
    "from bokeh.models import (\n",
    "    ColumnDataSource,\n",
    "    HoverTool,\n",
    "    LogColorMapper\n",
    ")\n",
    "from bokeh.palettes import Viridis6 as palette\n",
    "from bokeh.plotting import figure\n",
    "\n",
    "from bokeh.sampledata.us_counties import data as counties\n",
    "from bokeh.sampledata.unemployment import data as unemployment\n",
    "\n",
    "palette.reverse()\n",
    "\n",
    "counties = {\n",
    "    code: county for code, county in counties.items() if county[\"state\"] == \"tx\"\n",
    "}\n",
    "\n",
    "county_xs = [county[\"lons\"] for county in counties.values()]\n",
    "county_ys = [county[\"lats\"] for county in counties.values()]\n",
    "\n",
    "county_names = [county['name'] for county in counties.values()]\n",
    "county_rates = [unemployment[county_id] for county_id in counties]\n",
    "color_mapper = LogColorMapper(palette=palette)\n",
    "\n",
    "source = ColumnDataSource(data=dict(\n",
    "    x=county_xs,\n",
    "    y=county_ys,\n",
    "    name=county_names,\n",
    "    rate=county_rates,\n",
    "))\n",
    "\n",
    "TOOLS = \"pan,wheel_zoom,box_zoom,reset,hover,save\"\n",
    "\n",
    "p = figure(\n",
    "    title=\"Texas Unemployment, 2009\", tools=TOOLS,\n",
    "    x_axis_location=None, y_axis_location=None\n",
    ")\n",
    "p.grid.grid_line_color = None\n",
    "\n",
    "p.patches('x', 'y', source=source,\n",
    "          fill_color={'field': 'rate', 'transform': color_mapper},\n",
    "          fill_alpha=0.7, line_color=\"white\", line_width=0.5)\n",
    "\n",
    "hover = p.select_one(HoverTool)\n",
    "hover.point_policy = \"follow_mouse\"\n",
    "hover.tooltips = [\n",
    "    (\"Name\", \"@name\"),\n",
    "    (\"Unemployment rate)\", \"@rate%\"),\n",
    "    (\"(Long, Lat)\", \"($x, $y)\"),\n",
    "]\n",
    "\n",
    "show(p)"
   ]
  },
  {
   "cell_type": "code",
   "execution_count": null,
   "metadata": {
    "collapsed": true
   },
   "outputs": [],
   "source": []
  }
 ],
 "metadata": {
  "anaconda-cloud": {},
  "kernelspec": {
   "display_name": "Python [conda env:QuanPysal]",
   "language": "python",
   "name": "conda-env-QuanPysal-py"
  },
  "language_info": {
   "codemirror_mode": {
    "name": "ipython",
    "version": 2
   },
   "file_extension": ".py",
   "mimetype": "text/x-python",
   "name": "python",
   "nbconvert_exporter": "python",
   "pygments_lexer": "ipython2",
   "version": "2.7.12"
  }
 },
 "nbformat": 4,
 "nbformat_minor": 1
}
