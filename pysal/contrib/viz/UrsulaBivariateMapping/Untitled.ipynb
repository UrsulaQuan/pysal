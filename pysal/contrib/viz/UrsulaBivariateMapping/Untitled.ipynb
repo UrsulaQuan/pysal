{
 "cells": [
  {
   "cell_type": "code",
   "execution_count": null,
   "metadata": {
    "collapsed": true
   },
   "outputs": [],
   "source": [
    "%matplotlib inline\n",
    "import pysal as ps"
   ]
  },
  {
   "cell_type": "code",
   "execution_count": 21,
   "metadata": {
    "collapsed": false
   },
   "outputs": [
    {
     "data": {
      "text/plain": [
       "[-2, -1, 0, 1, 2]"
      ]
     },
     "execution_count": 21,
     "metadata": {},
     "output_type": "execute_result"
    }
   ],
   "source": [
    "k=[0,1,2,3,4]\n",
    "a = len(k)/2\n",
    "b = [i-a for i in k]\n",
    "b"
   ]
  },
  {
   "cell_type": "code",
   "execution_count": 25,
   "metadata": {
    "collapsed": false
   },
   "outputs": [
    {
     "data": {
      "text/plain": [
       "[-3, -2, -1, 1, 2, 3]"
      ]
     },
     "execution_count": 25,
     "metadata": {},
     "output_type": "execute_result"
    }
   ],
   "source": [
    "k = [0,1,2,3,4,5]\n",
    "a = len(k)/2\n",
    "b = [i-a for i in k]\n",
    "b[len(k)/2] = k[len(k)/2]\n",
    "b.sort()\n",
    "b"
   ]
  },
  {
   "cell_type": "code",
   "execution_count": null,
   "metadata": {
    "collapsed": true
   },
   "outputs": [],
   "source": [
    "import pandas as pd\n",
    "\n",
    "def shp2series(filepath):\n",
    "    \"\"\"\n",
    "    reads a shapefile, stuffing each shape into an element of a Pandas Series\n",
    "    \"\"\"\n",
    "    f = ps.open(filepath)\n",
    "    s = pd.Series(poly for poly in f)\n",
    "    f.close()\n",
    "    return s\n"
   ]
  },
  {
   "cell_type": "code",
   "execution_count": null,
   "metadata": {
    "collapsed": true
   },
   "outputs": [],
   "source": [
    "ser = ps.pdio.shio.shp2series(ps.examples.get_path('columbus.dbf'))\n",
    "print(type(ser))\n",
    "df = ps.pdio.read_files(ps.examples.get_path('columbus.dbf'))\n",
    "classifier = ps.Quantiles.make(k=9)\n",
    "classifications = df[['HOVAL']].apply(ps.Std_Mean.make(k=4))\n",
    "classifications.head()"
   ]
  },
  {
   "cell_type": "code",
   "execution_count": null,
   "metadata": {
    "collapsed": false
   },
   "outputs": [],
   "source": [
    "cal = range(30)\n",
    "st = ps.Std_Mean(cal,[-2,-1,0,1,2])\n",
    "st.bins"
   ]
  },
  {
   "cell_type": "code",
   "execution_count": null,
   "metadata": {
    "collapsed": false
   },
   "outputs": [],
   "source": [
    "df = ps.pdio.read_files(ps.examples.get_path('columbus.dbf'))\n",
    "classifications = df[['HOVAL']].apply(ps.Std_Mean.make(k=5))\n",
    "r = [i[0] for i in classifications.values]\n",
    "data = [i[0] for i in df[['HOVAL']].values]\n",
    "re = zip(data,r)\n",
    "bins = []\n",
    "for i in range(5):\n",
    "    classify = []\n",
    "    for j in re:\n",
    "        if j[1] == i:\n",
    "            classify.append(j[0])\n",
    "    bins.append(max(classify))\n",
    "        \n",
    "bins"
   ]
  },
  {
   "cell_type": "code",
   "execution_count": null,
   "metadata": {
    "collapsed": false
   },
   "outputs": [],
   "source": [
    "from pysal.contrib.viz import plot\n",
    "pt = plot.mplot()"
   ]
  },
  {
   "cell_type": "code",
   "execution_count": null,
   "metadata": {
    "collapsed": true
   },
   "outputs": [],
   "source": [
    "shp = ps.open(ps.examples.get_path('columbus.dbf'))"
   ]
  },
  {
   "cell_type": "code",
   "execution_count": null,
   "metadata": {
    "collapsed": false
   },
   "outputs": [],
   "source": [
    "type(shp)"
   ]
  },
  {
   "cell_type": "code",
   "execution_count": null,
   "metadata": {
    "collapsed": true
   },
   "outputs": [],
   "source": [
    "def map_poly_shp(shp, which='all', bbox=None):\n",
    "\n",
    "    if not bbox:\n",
    "        bbox = shp.bbox\n",
    "    patches = []\n",
    "    rows = []\n",
    "    i = 0\n",
    "    if which == 'all':\n",
    "        for shape in shp:\n",
    "            for ring in shape.parts:\n",
    "                xy = np.array(ring)\n",
    "                patches.append(xy)\n",
    "                rows.append(i)\n",
    "            i += 1\n",
    "    else:\n",
    "        for inwhich, shape in zip(which, shp):\n",
    "            if inwhich:\n",
    "                for ring in shape.parts:\n",
    "                    xy = np.array(ring)\n",
    "                    patches.append(xy)\n",
    "                    rows.append(i)\n",
    "                i += 1\n",
    "    pc = PolyCollection(patches)\n",
    "    #_ = _add_axes2col(pc, bbox)\n",
    "    pc.shp2dbf_row = rows\n",
    "    return pc"
   ]
  },
  {
   "cell_type": "code",
   "execution_count": null,
   "metadata": {
    "collapsed": false
   },
   "outputs": [],
   "source": [
    "map_poly_shp(shp)"
   ]
  },
  {
   "cell_type": "code",
   "execution_count": null,
   "metadata": {
    "collapsed": false
   },
   "outputs": [],
   "source": [
    "import numpy as np\n",
    "def ave(l):\n",
    "    a = np.mean(l)\n",
    "    lmi = []\n",
    "    lma = []\n",
    "    for i in l:\n",
    "        if i<a:\n",
    "            lmi.append(i)\n",
    "        else:\n",
    "            lma.append(i)\n",
    "    return a,[lmi,lma]\n",
    "ave([1,2,3,4,5,6,7,8,9,10])"
   ]
  },
  {
   "cell_type": "code",
   "execution_count": null,
   "metadata": {
    "collapsed": true
   },
   "outputs": [],
   "source": [
    "def msd(l,k):\n",
    "    r = []\n",
    "    a,lsub = ave(l)\n",
    "    r.append(a)\n",
    "    for i in range(k-2):\n",
    "        "
   ]
  }
 ],
 "metadata": {
  "anaconda-cloud": {},
  "kernelspec": {
   "display_name": "Python 2",
   "language": "python",
   "name": "python2"
  },
  "language_info": {
   "codemirror_mode": {
    "name": "ipython",
    "version": 2
   },
   "file_extension": ".py",
   "mimetype": "text/x-python",
   "name": "python",
   "nbconvert_exporter": "python",
   "pygments_lexer": "ipython2",
   "version": "2.7.12"
  }
 },
 "nbformat": 4,
 "nbformat_minor": 1
}
