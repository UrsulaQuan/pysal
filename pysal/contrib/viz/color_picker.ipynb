{
 "cells": [
  {
   "cell_type": "markdown",
   "metadata": {},
   "source": [
    "Install the lastest widgets code...\n",
    "\n",
    "```conda install -c conda-forge ipywidgets```"
   ]
  },
  {
   "cell_type": "code",
   "execution_count": 1,
   "metadata": {
    "collapsed": false
   },
   "outputs": [],
   "source": [
    "from ipywidgets import Dropdown, RadioButtons, IntSlider, VBox, FloatSlider, Button\n",
    "from IPython.display import display"
   ]
  },
  {
   "cell_type": "code",
   "execution_count": 4,
   "metadata": {
    "collapsed": false
   },
   "outputs": [],
   "source": [
    "data_type = RadioButtons(options=['sequential', 'diverging', 'qualitative'])\n",
    "\n",
    "bindings = {'sequential': range(3,9+1),\n",
    "            'diverging': range(3,11+1),\n",
    "            'qualitative': range(3,12+1)}\n",
    "\n",
    "class_val = Dropdown(options=bindings[data_type.value])    \n",
    "\n",
    "def type_change(change):\n",
    "    class_val.options = bindings[change['new']]\n",
    "\n",
    "data_type.observe(type_change, names=['value'])\n",
    "\n",
    "display(VBox([data_type, class_val]))"
   ]
  },
  {
   "cell_type": "code",
   "execution_count": 5,
   "metadata": {
    "collapsed": false
   },
   "outputs": [
    {
     "ename": "ImportError",
     "evalue": "cannot import name color_display_types",
     "output_type": "error",
     "traceback": [
      "\u001b[0;31m---------------------------------------------------------------------------\u001b[0m",
      "\u001b[0;31mImportError\u001b[0m                               Traceback (most recent call last)",
      "\u001b[0;32m<ipython-input-5-3a2db70c4a81>\u001b[0m in \u001b[0;36m<module>\u001b[0;34m()\u001b[0m\n\u001b[1;32m     18\u001b[0m \u001b[0;31m# based on class_val and data_type\u001b[0m\u001b[0;34m\u001b[0m\u001b[0;34m\u001b[0m\u001b[0m\n\u001b[1;32m     19\u001b[0m \u001b[0;34m\u001b[0m\u001b[0m\n\u001b[0;32m---> 20\u001b[0;31m \u001b[0;32mfrom\u001b[0m \u001b[0mpysal\u001b[0m\u001b[0;34m.\u001b[0m\u001b[0mcontrib\u001b[0m\u001b[0;34m.\u001b[0m\u001b[0mviz\u001b[0m\u001b[0;34m.\u001b[0m\u001b[0mcolor\u001b[0m \u001b[0;32mimport\u001b[0m \u001b[0mcolor_display_types\u001b[0m\u001b[0;34m\u001b[0m\u001b[0m\n\u001b[0m\u001b[1;32m     21\u001b[0m \u001b[0;34m\u001b[0m\u001b[0m\n\u001b[1;32m     22\u001b[0m \u001b[0mdt\u001b[0m \u001b[0;34m=\u001b[0m \u001b[0msorted\u001b[0m\u001b[0;34m(\u001b[0m\u001b[0mcolor_display_types\u001b[0m\u001b[0;34m.\u001b[0m\u001b[0mkeys\u001b[0m\u001b[0;34m(\u001b[0m\u001b[0;34m)\u001b[0m\u001b[0;34m,\u001b[0m \u001b[0mreverse\u001b[0m\u001b[0;34m=\u001b[0m\u001b[0mTrue\u001b[0m\u001b[0;34m)\u001b[0m\u001b[0;34m\u001b[0m\u001b[0m\n",
      "\u001b[0;31mImportError\u001b[0m: cannot import name color_display_types"
     ]
    }
   ],
   "source": [
    "\"\"\"\n",
    "data_type = RadioButtons(options=['sequential', 'diverging', 'qualitative'])\n",
    "\n",
    "bindings = {'sequential': range(3,9+1),\n",
    "            'diverging': range(3,11+1),\n",
    "            'qualitative': range(3,12+1)}\n",
    "\n",
    "class_val = Dropdown(options=bindings[data_type.value])    \n",
    "\n",
    "def type_change(change):\n",
    "    class_val.options = bindings[change['new']]\n",
    "\n",
    "data_type.observe(type_change, names=['value'])\n",
    "\n",
    "display(VBox([data_type, class_val]))\n",
    "\"\"\"\n",
    "# on data_type change update list of color maps\n",
    "# based on class_val and data_type\n",
    "\n",
    "from pysal.contrib.viz.color import color_display_types\n",
    "\n",
    "dt = sorted(color_display_types.keys(), reverse=True)\n",
    "data_type = RadioButtons(description='Data Type', options=dt)\n",
    "bindings = {}\n",
    "for t in dt:\n",
    "    bindings[t] = color_display_types[t].keys()\n",
    "    \n",
    "cmap = Dropdown(description='CMap:', options=bindings[data_type.value])\n",
    "\n",
    "def type_change(change):\n",
    "    with cmap.hold_trait_notifications():\n",
    "        cmap.options = bindings[change['new']]\n",
    "\n",
    "data_type.observe(type_change, names=['value'])\n",
    "\n",
    "display(VBox([data_type, cmap]))\n",
    "\n"
   ]
  },
  {
   "cell_type": "code",
   "execution_count": null,
   "metadata": {
    "collapsed": false
   },
   "outputs": [],
   "source": [
    "\"\"\"\n",
    "data_type = RadioButtons(options=['sequential', 'diverging', 'qualitative'])\n",
    "\n",
    "bindings = {'sequential': range(3,9+1),\n",
    "            'diverging': range(3,11+1),\n",
    "            'qualitative': range(3,12+1)}\n",
    "\n",
    "class_val = Dropdown(options=bindings[data_type.value])    \n",
    "\n",
    "def type_change(change):\n",
    "    class_val.options = bindings[change['new']]\n",
    "\n",
    "data_type.observe(type_change, names=['value'])\n",
    "\n",
    "display(VBox([data_type, class_val]))\n",
    "\"\"\"\n",
    "# on data_type change update list of color maps\n",
    "# based on class_val and data_type\n",
    "\n",
    "from pysal.contrib.viz.color import color_display_types\n",
    "from pysal.contrib.viz.color import plot_cmaps as pcmaps\n",
    "\n",
    "dt = sorted(color_display_types.keys(), reverse=True)\n",
    "data_type = RadioButtons(description='Data Type', options=dt)\n",
    "bindings = {}\n",
    "for t in dt:\n",
    "    bindings[t] = color_display_types[t].keys()\n",
    "    \n",
    "cmap = Dropdown(description='CMap:', options=bindings[data_type.value])\n",
    "\n",
    "def type_change(change):\n",
    "    with cmap.hold_trait_notifications():\n",
    "        cmap.options = bindings[change['new']]\n",
    "\n",
    "data_type.observe(type_change, names=['value'])  \n",
    "\n",
    "display(VBox([data_type, cmap]))\n",
    "\n"
   ]
  },
  {
   "cell_type": "code",
   "execution_count": null,
   "metadata": {
    "collapsed": false
   },
   "outputs": [],
   "source": [
    "%matplotlib inline\n",
    "from pysal.contrib.viz.color import plot_cmaps \n",
    "plot_cmaps('diverging', selected=3)"
   ]
  },
  {
   "cell_type": "code",
   "execution_count": null,
   "metadata": {
    "collapsed": false
   },
   "outputs": [],
   "source": [
    "\"\"\"\n",
    "data_type = RadioButtons(options=['sequential', 'diverging', 'qualitative'])\n",
    "\n",
    "bindings = {'sequential': range(3,9+1),\n",
    "            'diverging': range(3,11+1),\n",
    "            'qualitative': range(3,12+1)}\n",
    "\n",
    "class_val = Dropdown(options=bindings[data_type.value])    \n",
    "\n",
    "def type_change(change):\n",
    "    class_val.options = bindings[change['new']]\n",
    "\n",
    "data_type.observe(type_change, names=['value'])\n",
    "\n",
    "display(VBox([data_type, class_val]))\n",
    "\"\"\"\n",
    "# on data_type change update list of color maps\n",
    "# based on class_val and data_type\n",
    "\n",
    "from pysal.contrib.viz.color import color_display_types\n",
    "from pysal.contrib.viz.color import plot_cmaps as pcmaps\n",
    "from ipywidgets import interact\n",
    "\n",
    "dt = sorted(color_display_types.keys(), reverse=True)\n",
    "data_type = RadioButtons(description='Data Type', options=dt)\n",
    "bindings = {}\n",
    "for t in dt:\n",
    "    bindings[t] = color_display_types[t].keys()\n",
    "    \n",
    "cmap_dd = Dropdown(description='CMap:', options=bindings[data_type.value])\n",
    "\n",
    "def type_change(change):\n",
    "    with cmap_dd.hold_trait_notifications():\n",
    "        cmap_dd.options = bindings[change['new']]\n",
    "        #plot_cmaps('diverging')\n",
    "\n",
    "def cmap_change(change):\n",
    "        with cmap_dd.hold_trait_notifications():\n",
    "            print('new cmap', str(change['new']))\n",
    "\n",
    "data_type.observe(type_change, names=['value'])  \n",
    "cmap_dd.observe(cmap_change, names=['value'])\n",
    "\n",
    "#display(VBox([data_type, cmap]))\n",
    "@interact(cmap=cmap_dd, data_type=data_type)\n",
    "def plot_cmaps(data_type, cmap):\n",
    "    #print(data_type,cmap)\n",
    "    i = cmap_dd.options.index(cmap)\n",
    "    pcmaps(data_type, i)\n"
   ]
  },
  {
   "cell_type": "code",
   "execution_count": null,
   "metadata": {
    "collapsed": false
   },
   "outputs": [],
   "source": [
    "\"\"\"\n",
    "data_type = RadioButtons(options=['sequential', 'diverging', 'qualitative'])\n",
    "\n",
    "bindings = {'sequential': range(3,9+1),\n",
    "            'diverging': range(3,11+1),\n",
    "            'qualitative': range(3,12+1)}\n",
    "\n",
    "class_val = Dropdown(options=bindings[data_type.value])    \n",
    "\n",
    "def type_change(change):\n",
    "    class_val.options = bindings[change['new']]\n",
    "\n",
    "data_type.observe(type_change, names=['value'])\n",
    "\n",
    "display(VBox([data_type, class_val]))\n",
    "\"\"\"\n",
    "# on data_type change update list of color maps\n",
    "# based on class_val and data_type\n",
    "\n",
    "from pysal.contrib.viz.color import color_display_types\n",
    "from pysal.contrib.viz.color import plot_cmaps as pcmaps\n",
    "from ipywidgets import interact\n",
    "\n",
    "dt = sorted(color_display_types.keys(), reverse=True)\n",
    "data_type = RadioButtons(description='Data Type', options=dt)\n",
    "bindings = {}\n",
    "for t in dt:\n",
    "    bindings[t] = color_display_types[t].keys()\n",
    "    \n",
    "cmap_dd = Dropdown(description='CMap:', options=bindings[data_type.value])\n",
    "\n",
    "def type_change(change):\n",
    "    with cmap_dd.hold_trait_notifications():\n",
    "        cmap_dd.options = bindings[change['new']]\n",
    "        #plot_cmaps('diverging')\n",
    "\n",
    "def cmap_change(change):\n",
    "        with cmap_dd.hold_trait_notifications():\n",
    "            print('new cmap', str(change['new']))\n",
    "\n",
    "data_type.observe(type_change, names=['value'])  \n",
    "cmap_dd.observe(cmap_change, names=['value'])\n",
    "\n",
    "display(VBox([data_type]))\n",
    "@interact(cmap=cmap_dd)\n",
    "def plot_cmaps(cmap):\n",
    "    #print(data_type,cmap)\n",
    "    i = cmap_dd.options.index(cmap)\n",
    "    pcmaps(data_type.value, i)\n"
   ]
  },
  {
   "cell_type": "code",
   "execution_count": null,
   "metadata": {
    "collapsed": false
   },
   "outputs": [],
   "source": [
    "# adding k\n",
    "\n",
    "# on data_type change update list of color maps\n",
    "# based on class_val and data_type\n",
    "\n",
    "from pysal.contrib.viz.color import color_display_types\n",
    "from pysal.contrib.viz.color import plot_cmaps as pcmaps\n",
    "from pysal.contrib.viz.color import get_color_map\n",
    "from ipywidgets import interact\n",
    "\n",
    "dt = sorted(color_display_types.keys(), reverse=True)\n",
    "data_type = RadioButtons(description='Data Type', options=dt)\n",
    "bindings = {}\n",
    "for t in dt:\n",
    "    bindings[t] = color_display_types[t].keys()\n",
    "    \n",
    "cmap_dd = Dropdown(description='CMap:', options=bindings[data_type.value])\n",
    "\n",
    "def type_change(change):\n",
    "    with cmap_dd.hold_trait_notifications():\n",
    "        cmap_dd.options = bindings[change['new']]\n",
    "        k_dd.options = kbindings[change['new']]\n",
    "        #plot_cmaps('diverging')\n",
    "\n",
    "def cmap_change(change):\n",
    "        with cmap_dd.hold_trait_notifications():\n",
    "            print('new cmap', str(change['new']))\n",
    "\n",
    "data_type.observe(type_change, names=['value'])  \n",
    "cmap_dd.observe(cmap_change, names=['value'])\n",
    "kbindings = {'sequential': range(3,9+1),\n",
    "            'qualitative': range(3,12+1),\n",
    "            'diverging': range(3,11+1)}\n",
    "k_dd = Dropdown(description='k', options=kbindings[data_type.value])\n",
    "\n",
    "display(VBox([data_type, k_dd]))\n",
    "@interact(cmap=cmap_dd)\n",
    "def plot_cmaps(cmap):\n",
    "    #print(data_type,cmap)\n",
    "    i = cmap_dd.options.index(cmap)\n",
    "    pcmaps(data_type.value, i)\n",
    "    print(data_type.value,cmap, k_dd.value)\n",
    "\n"
   ]
  },
  {
   "cell_type": "code",
   "execution_count": null,
   "metadata": {
    "collapsed": false
   },
   "outputs": [],
   "source": [
    "# adding button\n",
    "\n",
    "# on data_type change update list of color maps\n",
    "# based on class_val and data_type\n",
    "\n",
    "from pysal.contrib.viz.color import color_display_types\n",
    "from pysal.contrib.viz.color import plot_cmaps as pcmaps\n",
    "from pysal.contrib.viz.color import get_color_map\n",
    "from ipywidgets import interact\n",
    "\n",
    "dt = sorted(color_display_types.keys(), reverse=True)\n",
    "data_type = RadioButtons(description='Data Type', options=dt)\n",
    "bindings = {}\n",
    "for t in dt:\n",
    "    bindings[t] = color_display_types[t].keys()\n",
    "    \n",
    "cmap_dd = Dropdown(description='CMap:', options=bindings[data_type.value])\n",
    "\n",
    "def type_change(change):\n",
    "    with cmap_dd.hold_trait_notifications():\n",
    "        cmap_dd.options = bindings[change['new']]\n",
    "        k_dd.options = kbindings[change['new']]\n",
    "        #plot_cmaps('diverging')\n",
    "\n",
    "def cmap_change(change):\n",
    "        with cmap_dd.hold_trait_notifications():\n",
    "            print('new cmap', str(change['new']))\n",
    "\n",
    "data_type.observe(type_change, names=['value'])  \n",
    "cmap_dd.observe(cmap_change, names=['value'])\n",
    "kbindings = {'sequential': range(3,9+1),\n",
    "            'qualitative': range(3,12+1),\n",
    "            'diverging': range(3,11+1)}\n",
    "k_dd = Dropdown(description='k', options=kbindings[data_type.value])\n",
    "def button_clicked(btn):\n",
    "    print(data_type.value, cmap_dd.value, k_dd.value)\n",
    "\n",
    "btn = Button(description=\"Display Map\")\n",
    "btn.on_click(button_clicked)\n",
    "display(btn)\n",
    "display(VBox([data_type, k_dd]))\n",
    "@interact(cmap=cmap_dd)\n",
    "def plot_cmaps(cmap):\n",
    "    #print(data_type,cmap)\n",
    "    i = cmap_dd.options.index(cmap)\n",
    "    pcmaps(data_type.value, i)\n",
    "    #print(data_type.value,cmap, k_dd.value)\n",
    "\n"
   ]
  },
  {
   "cell_type": "code",
   "execution_count": null,
   "metadata": {
    "collapsed": false
   },
   "outputs": [],
   "source": [
    "# adding map\n",
    "\n",
    "# on data_type change update list of color maps\n",
    "# based on class_val and data_type\n",
    "\n",
    "from pysal.contrib.viz.color import color_display_types\n",
    "from pysal.contrib.viz.color import plot_cmaps as pcmaps\n",
    "from pysal.contrib.viz.color import get_color_map\n",
    "from ipywidgets import interact\n",
    "\n",
    "dt = sorted(color_display_types.keys(), reverse=True)\n",
    "data_type = RadioButtons(description='Data Type', options=dt)\n",
    "bindings = {}\n",
    "for t in dt:\n",
    "    bindings[t] = color_display_types[t].keys()\n",
    "    \n",
    "cmap_dd = Dropdown(description='CMap:', options=bindings[data_type.value])\n",
    "\n",
    "def type_change(change):\n",
    "    with cmap_dd.hold_trait_notifications():\n",
    "        cmap_dd.options = bindings[change['new']]\n",
    "        k_dd.options = kbindings[change['new']]\n",
    "        #plot_cmaps('diverging')\n",
    "\n",
    "def cmap_change(change):\n",
    "        with cmap_dd.hold_trait_notifications():\n",
    "            print('new cmap', str(change['new']))\n",
    "\n",
    "data_type.observe(type_change, names=['value'])  \n",
    "cmap_dd.observe(cmap_change, names=['value'])\n",
    "kbindings = {'sequential': range(3,9+1),\n",
    "            'qualitative': range(3,12+1),\n",
    "            'diverging': range(3,11+1)}\n",
    "k_dd = Dropdown(description='k', options=kbindings[data_type.value])\n",
    "def button_clicked(btn):\n",
    "    print(data_type.value, cmap_dd.value, k_dd.value)\n",
    "\n",
    "btn = Button(description=\"Display Map\")\n",
    "btn.on_click(button_clicked)\n",
    "display(btn)\n",
    "display(VBox([data_type, k_dd]))\n",
    "@interact(cmap=cmap_dd)\n",
    "def plot_cmaps(cmap):\n",
    "    #print(data_type,cmap)\n",
    "    i = cmap_dd.options.index(cmap)\n",
    "    pcmaps(data_type.value, i)\n",
    "    #print(data_type.value,cmap, k_dd.value)\n",
    "\n"
   ]
  },
  {
   "cell_type": "code",
   "execution_count": null,
   "metadata": {
    "collapsed": true
   },
   "outputs": [],
   "source": []
  },
  {
   "cell_type": "code",
   "execution_count": null,
   "metadata": {
    "collapsed": true
   },
   "outputs": [],
   "source": []
  },
  {
   "cell_type": "code",
   "execution_count": null,
   "metadata": {
    "collapsed": true
   },
   "outputs": [],
   "source": []
  },
  {
   "cell_type": "code",
   "execution_count": null,
   "metadata": {
    "collapsed": true
   },
   "outputs": [],
   "source": []
  },
  {
   "cell_type": "code",
   "execution_count": null,
   "metadata": {
    "collapsed": true
   },
   "outputs": [],
   "source": []
  },
  {
   "cell_type": "code",
   "execution_count": null,
   "metadata": {
    "collapsed": true
   },
   "outputs": [],
   "source": []
  },
  {
   "cell_type": "code",
   "execution_count": null,
   "metadata": {
    "collapsed": false
   },
   "outputs": [],
   "source": [
    "plot_cmaps('diverging', 5)"
   ]
  },
  {
   "cell_type": "code",
   "execution_count": null,
   "metadata": {
    "collapsed": false
   },
   "outputs": [],
   "source": [
    "plot_cmaps('sequential', 10)"
   ]
  },
  {
   "cell_type": "code",
   "execution_count": null,
   "metadata": {
    "collapsed": false
   },
   "outputs": [],
   "source": [
    "from ipywidgets import Text\n",
    "\n",
    "int_range = IntSlider()\n",
    "display(int_range)\n",
    "\n",
    "text = Text()\n",
    "display(text)\n",
    "\n",
    "def on_value_change(change):\n",
    "    print(change['new'])\n",
    "    text.value = str(change['new'])\n",
    "    \n",
    "    \n",
    "int_range.observe(on_value_change, names='value')"
   ]
  },
  {
   "cell_type": "code",
   "execution_count": null,
   "metadata": {
    "collapsed": false
   },
   "outputs": [],
   "source": [
    "\"\"\"\n",
    "data_type = RadioButtons(options=['sequential', 'diverging', 'qualitative'])\n",
    "\n",
    "bindings = {'sequential': range(3,9+1),\n",
    "            'diverging': range(3,11+1),\n",
    "            'qualitative': range(3,12+1)}\n",
    "\n",
    "class_val = Dropdown(options=bindings[data_type.value])    \n",
    "\n",
    "def type_change(change):\n",
    "    class_val.options = bindings[change['new']]\n",
    "\n",
    "data_type.observe(type_change, names=['value'])\n",
    "\n",
    "display(VBox([data_type, class_val]))\n",
    "\"\"\"\n",
    "# on data_type change update list of color maps\n",
    "# based on class_val and data_type\n",
    "\n",
    "from pysal.contrib.viz.color import color_display_types\n",
    "\n",
    "dt = sorted(color_display_types.keys(), reverse=True)\n",
    "data_type = RadioButtons(description='Data Type', options=dt)\n",
    "bindings = {}\n",
    "for t in dt:\n",
    "    bindings[t] = color_display_types[t].keys()\n",
    "    \n",
    "cmap = Dropdown(description='CMap:', options=bindings[data_type.value])\n",
    "\n",
    "def type_change(change):\n",
    "    with cmap.hold_trait_notifications():\n",
    "        cmap.options = bindings[change['new']]\n",
    "\n",
    "data_type.observe(type_change, names=['value'])\n",
    "\n",
    "display(VBox([data_type, cmap]))\n",
    "\n"
   ]
  },
  {
   "cell_type": "code",
   "execution_count": null,
   "metadata": {
    "collapsed": false
   },
   "outputs": [],
   "source": []
  },
  {
   "cell_type": "code",
   "execution_count": null,
   "metadata": {
    "collapsed": true
   },
   "outputs": [],
   "source": []
  },
  {
   "cell_type": "code",
   "execution_count": null,
   "metadata": {
    "collapsed": true
   },
   "outputs": [],
   "source": []
  },
  {
   "cell_type": "code",
   "execution_count": null,
   "metadata": {
    "collapsed": true
   },
   "outputs": [],
   "source": []
  },
  {
   "cell_type": "code",
   "execution_count": null,
   "metadata": {
    "collapsed": true
   },
   "outputs": [],
   "source": []
  },
  {
   "cell_type": "code",
   "execution_count": null,
   "metadata": {
    "collapsed": true
   },
   "outputs": [],
   "source": []
  },
  {
   "cell_type": "code",
   "execution_count": null,
   "metadata": {
    "collapsed": true
   },
   "outputs": [],
   "source": []
  },
  {
   "cell_type": "code",
   "execution_count": null,
   "metadata": {
    "collapsed": false,
    "scrolled": true
   },
   "outputs": [],
   "source": [
    "x_widget = FloatSlider(min=0.0, max=10.0, step=0.05)\n",
    "y_widget = FloatSlider(min=0.5, max=10.0, step=0.05, value=5.0)\n",
    "\n",
    "def update_x_range(*args):\n",
    "    x_widget.max = 2.0 * y_widget.value\n",
    "y_widget.observe(update_x_range, 'value')\n",
    "\n",
    "def printer(x, y):\n",
    "    print(x, y)\n",
    "interact(printer,x=x_widget, y=y_widget)"
   ]
  },
  {
   "cell_type": "code",
   "execution_count": null,
   "metadata": {
    "collapsed": true
   },
   "outputs": [],
   "source": []
  },
  {
   "cell_type": "code",
   "execution_count": null,
   "metadata": {
    "collapsed": true
   },
   "outputs": [],
   "source": []
  },
  {
   "cell_type": "code",
   "execution_count": null,
   "metadata": {
    "collapsed": true
   },
   "outputs": [],
   "source": []
  },
  {
   "cell_type": "code",
   "execution_count": null,
   "metadata": {
    "collapsed": true
   },
   "outputs": [],
   "source": [
    "import pysal as ps\n",
    "import numpy as np\n",
    "import matplotlib.pyplot as plt\n",
    "from scipy.linalg import inv\n",
    "%matplotlib inline"
   ]
  },
  {
   "cell_type": "code",
   "execution_count": null,
   "metadata": {
    "collapsed": false
   },
   "outputs": [],
   "source": [
    "from ipywidgets import interact\n",
    "interact(draw_map, lamb=(-0.9, 0.9))"
   ]
  },
  {
   "cell_type": "code",
   "execution_count": null,
   "metadata": {
    "collapsed": true
   },
   "outputs": [],
   "source": [
    "def draw_map(lamb):\n",
    "    s = 20\n",
    "    n = s**2\n",
    "    w = ps.lat2W(s, s, rook=False)\n",
    "    w.transform = 'R'\n",
    "    e = np.random.random((n, 1))\n",
    "    u = inv(np.eye(n) - lamb * w.full()[0])\n",
    "    u = np.dot(u, e)\n",
    "    ul = ps.lag_spatial(w, u)\n",
    "    u = (u - u.mean()) / np.std(u)\n",
    "    ul = (ul - ul.mean()) / np.std(ul)\n",
    "    gu = u.reshape((s, s))\n",
    "    # Figure\n",
    "    f = plt.figure(figsize=(9, 4))\n",
    "    ax1 = f.add_subplot(121)\n",
    "    ax1.matshow(gu, cmap=plt.cm.YlGn)\n",
    "    ax1.set_frame_on(False)\n",
    "    ax1.axes.get_xaxis().set_visible(False)\n",
    "    ax1.axes.get_yaxis().set_visible(False)\n",
    "    #---\n",
    "    ax2 = f.add_subplot(122)\n",
    "    sc = ax2.scatter(u, ul, linewidth=0)\n",
    "    ols = ps.spreg.OLS(ul, u)\n",
    "    tag = \"b = %.3f\"%ols.betas[1][0]\n",
    "    ax2.plot(u, ols.predy, c='red', label=tag)\n",
    "    ax2.axvline(0, c='0.5')\n",
    "    ax2.axhline(0, c='0.5')\n",
    "    ax2.legend()\n",
    "    plt.xlabel('u')\n",
    "    plt.ylabel('Wu')\n",
    "    plt.suptitle(\"$\\lambda$ = %.2f\"%lamb)\n",
    "    plt.show()"
   ]
  },
  {
   "cell_type": "code",
   "execution_count": null,
   "metadata": {
    "collapsed": true
   },
   "outputs": [],
   "source": []
  },
  {
   "cell_type": "code",
   "execution_count": null,
   "metadata": {
    "collapsed": true
   },
   "outputs": [],
   "source": []
  },
  {
   "cell_type": "code",
   "execution_count": null,
   "metadata": {
    "collapsed": true
   },
   "outputs": [],
   "source": []
  },
  {
   "cell_type": "code",
   "execution_count": null,
   "metadata": {
    "collapsed": true
   },
   "outputs": [],
   "source": []
  },
  {
   "cell_type": "code",
   "execution_count": null,
   "metadata": {
    "collapsed": true
   },
   "outputs": [],
   "source": []
  },
  {
   "cell_type": "code",
   "execution_count": null,
   "metadata": {
    "collapsed": true
   },
   "outputs": [],
   "source": []
  }
 ],
 "metadata": {
  "anaconda-cloud": {},
  "kernelspec": {
   "display_name": "Python [conda env:QuanPysal]",
   "language": "python",
   "name": "conda-env-QuanPysal-py"
  },
  "language_info": {
   "codemirror_mode": {
    "name": "ipython",
    "version": 2
   },
   "file_extension": ".py",
   "mimetype": "text/x-python",
   "name": "python",
   "nbconvert_exporter": "python",
   "pygments_lexer": "ipython2",
   "version": "2.7.12"
  },
  "widgets": {
   "state": {
    "78899fadcaf34335ae660f34aea937d1": {
     "views": [
      {
       "cell_index": 2
      }
     ]
    },
    "bad264b24bd4479aa71b13014a8041f8": {
     "views": [
      {
       "cell_index": 19
      }
     ]
    },
    "f1fabd84066c43958ecafad8c7446406": {
     "views": [
      {
       "cell_index": 19
      }
     ]
    }
   },
   "version": "1.2.0"
  }
 },
 "nbformat": 4,
 "nbformat_minor": 0
}
